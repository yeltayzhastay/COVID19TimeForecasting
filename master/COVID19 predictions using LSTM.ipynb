{
 "cells": [
  {
   "cell_type": "markdown",
   "metadata": {},
   "source": [
    "# Time Series Forecasting of COVID19 in India using LSTM"
   ]
  },
  {
   "cell_type": "code",
   "execution_count": 1,
   "metadata": {},
   "outputs": [],
   "source": [
    "#importing basic libraries and packages needed in the project.\n",
    "import pandas as pd\n",
    "import numpy as np\n",
    "import matplotlib.pyplot as plt\n",
    "import sklearn\n",
    "import tensorflow as tf"
   ]
  },
  {
   "cell_type": "markdown",
   "metadata": {},
   "source": [
    "# extracting Latest Confirmed cases online"
   ]
  },
  {
   "cell_type": "code",
   "execution_count": 2,
   "metadata": {},
   "outputs": [
    {
     "data": {
      "text/html": [
       "<div>\n",
       "<style scoped>\n",
       "    .dataframe tbody tr th:only-of-type {\n",
       "        vertical-align: middle;\n",
       "    }\n",
       "\n",
       "    .dataframe tbody tr th {\n",
       "        vertical-align: top;\n",
       "    }\n",
       "\n",
       "    .dataframe thead th {\n",
       "        text-align: right;\n",
       "    }\n",
       "</style>\n",
       "<table border=\"1\" class=\"dataframe\">\n",
       "  <thead>\n",
       "    <tr style=\"text-align: right;\">\n",
       "      <th></th>\n",
       "      <th>Province/State</th>\n",
       "      <th>Country/Region</th>\n",
       "      <th>Lat</th>\n",
       "      <th>Long</th>\n",
       "      <th>1/22/20</th>\n",
       "      <th>1/23/20</th>\n",
       "      <th>1/24/20</th>\n",
       "      <th>1/25/20</th>\n",
       "      <th>1/26/20</th>\n",
       "      <th>1/27/20</th>\n",
       "      <th>...</th>\n",
       "      <th>5/30/20</th>\n",
       "      <th>5/31/20</th>\n",
       "      <th>6/1/20</th>\n",
       "      <th>6/2/20</th>\n",
       "      <th>6/3/20</th>\n",
       "      <th>6/4/20</th>\n",
       "      <th>6/5/20</th>\n",
       "      <th>6/6/20</th>\n",
       "      <th>6/7/20</th>\n",
       "      <th>6/8/20</th>\n",
       "    </tr>\n",
       "  </thead>\n",
       "  <tbody>\n",
       "    <tr>\n",
       "      <th>0</th>\n",
       "      <td>NaN</td>\n",
       "      <td>Afghanistan</td>\n",
       "      <td>33.0000</td>\n",
       "      <td>65.0000</td>\n",
       "      <td>0</td>\n",
       "      <td>0</td>\n",
       "      <td>0</td>\n",
       "      <td>0</td>\n",
       "      <td>0</td>\n",
       "      <td>0</td>\n",
       "      <td>...</td>\n",
       "      <td>14525</td>\n",
       "      <td>15205</td>\n",
       "      <td>15750</td>\n",
       "      <td>16509</td>\n",
       "      <td>17267</td>\n",
       "      <td>18054</td>\n",
       "      <td>18969</td>\n",
       "      <td>19551</td>\n",
       "      <td>20342</td>\n",
       "      <td>20917</td>\n",
       "    </tr>\n",
       "    <tr>\n",
       "      <th>1</th>\n",
       "      <td>NaN</td>\n",
       "      <td>Albania</td>\n",
       "      <td>41.1533</td>\n",
       "      <td>20.1683</td>\n",
       "      <td>0</td>\n",
       "      <td>0</td>\n",
       "      <td>0</td>\n",
       "      <td>0</td>\n",
       "      <td>0</td>\n",
       "      <td>0</td>\n",
       "      <td>...</td>\n",
       "      <td>1122</td>\n",
       "      <td>1137</td>\n",
       "      <td>1143</td>\n",
       "      <td>1164</td>\n",
       "      <td>1184</td>\n",
       "      <td>1197</td>\n",
       "      <td>1212</td>\n",
       "      <td>1232</td>\n",
       "      <td>1246</td>\n",
       "      <td>1263</td>\n",
       "    </tr>\n",
       "    <tr>\n",
       "      <th>2</th>\n",
       "      <td>NaN</td>\n",
       "      <td>Algeria</td>\n",
       "      <td>28.0339</td>\n",
       "      <td>1.6596</td>\n",
       "      <td>0</td>\n",
       "      <td>0</td>\n",
       "      <td>0</td>\n",
       "      <td>0</td>\n",
       "      <td>0</td>\n",
       "      <td>0</td>\n",
       "      <td>...</td>\n",
       "      <td>9267</td>\n",
       "      <td>9394</td>\n",
       "      <td>9513</td>\n",
       "      <td>9626</td>\n",
       "      <td>9733</td>\n",
       "      <td>9831</td>\n",
       "      <td>9935</td>\n",
       "      <td>10050</td>\n",
       "      <td>10154</td>\n",
       "      <td>10265</td>\n",
       "    </tr>\n",
       "    <tr>\n",
       "      <th>3</th>\n",
       "      <td>NaN</td>\n",
       "      <td>Andorra</td>\n",
       "      <td>42.5063</td>\n",
       "      <td>1.5218</td>\n",
       "      <td>0</td>\n",
       "      <td>0</td>\n",
       "      <td>0</td>\n",
       "      <td>0</td>\n",
       "      <td>0</td>\n",
       "      <td>0</td>\n",
       "      <td>...</td>\n",
       "      <td>764</td>\n",
       "      <td>764</td>\n",
       "      <td>765</td>\n",
       "      <td>844</td>\n",
       "      <td>851</td>\n",
       "      <td>852</td>\n",
       "      <td>852</td>\n",
       "      <td>852</td>\n",
       "      <td>852</td>\n",
       "      <td>852</td>\n",
       "    </tr>\n",
       "    <tr>\n",
       "      <th>4</th>\n",
       "      <td>NaN</td>\n",
       "      <td>Angola</td>\n",
       "      <td>-11.2027</td>\n",
       "      <td>17.8739</td>\n",
       "      <td>0</td>\n",
       "      <td>0</td>\n",
       "      <td>0</td>\n",
       "      <td>0</td>\n",
       "      <td>0</td>\n",
       "      <td>0</td>\n",
       "      <td>...</td>\n",
       "      <td>84</td>\n",
       "      <td>86</td>\n",
       "      <td>86</td>\n",
       "      <td>86</td>\n",
       "      <td>86</td>\n",
       "      <td>86</td>\n",
       "      <td>86</td>\n",
       "      <td>88</td>\n",
       "      <td>91</td>\n",
       "      <td>92</td>\n",
       "    </tr>\n",
       "  </tbody>\n",
       "</table>\n",
       "<p>5 rows × 143 columns</p>\n",
       "</div>"
      ],
      "text/plain": [
       "  Province/State Country/Region      Lat     Long  1/22/20  1/23/20  1/24/20  \\\n",
       "0            NaN    Afghanistan  33.0000  65.0000        0        0        0   \n",
       "1            NaN        Albania  41.1533  20.1683        0        0        0   \n",
       "2            NaN        Algeria  28.0339   1.6596        0        0        0   \n",
       "3            NaN        Andorra  42.5063   1.5218        0        0        0   \n",
       "4            NaN         Angola -11.2027  17.8739        0        0        0   \n",
       "\n",
       "   1/25/20  1/26/20  1/27/20  ...  5/30/20  5/31/20  6/1/20  6/2/20  6/3/20  \\\n",
       "0        0        0        0  ...    14525    15205   15750   16509   17267   \n",
       "1        0        0        0  ...     1122     1137    1143    1164    1184   \n",
       "2        0        0        0  ...     9267     9394    9513    9626    9733   \n",
       "3        0        0        0  ...      764      764     765     844     851   \n",
       "4        0        0        0  ...       84       86      86      86      86   \n",
       "\n",
       "   6/4/20  6/5/20  6/6/20  6/7/20  6/8/20  \n",
       "0   18054   18969   19551   20342   20917  \n",
       "1    1197    1212    1232    1246    1263  \n",
       "2    9831    9935   10050   10154   10265  \n",
       "3     852     852     852     852     852  \n",
       "4      86      86      88      91      92  \n",
       "\n",
       "[5 rows x 143 columns]"
      ]
     },
     "execution_count": 2,
     "metadata": {},
     "output_type": "execute_result"
    }
   ],
   "source": [
    "#total confirmed cases in India\n",
    "url=\"https://raw.githubusercontent.com/CSSEGISandData/COVID-19/master/csse_covid_19_data/csse_covid_19_time_series/time_series_covid19_confirmed_global.csv\"\n",
    "df_confirmed=pd.read_csv(url)\n",
    "df_confirmed.head()"
   ]
  },
  {
   "cell_type": "code",
   "execution_count": 3,
   "metadata": {},
   "outputs": [
    {
     "data": {
      "text/html": [
       "<div>\n",
       "<style scoped>\n",
       "    .dataframe tbody tr th:only-of-type {\n",
       "        vertical-align: middle;\n",
       "    }\n",
       "\n",
       "    .dataframe tbody tr th {\n",
       "        vertical-align: top;\n",
       "    }\n",
       "\n",
       "    .dataframe thead th {\n",
       "        text-align: right;\n",
       "    }\n",
       "</style>\n",
       "<table border=\"1\" class=\"dataframe\">\n",
       "  <thead>\n",
       "    <tr style=\"text-align: right;\">\n",
       "      <th></th>\n",
       "      <th>Province/State</th>\n",
       "      <th>Country/Region</th>\n",
       "      <th>Lat</th>\n",
       "      <th>Long</th>\n",
       "      <th>1/22/20</th>\n",
       "      <th>1/23/20</th>\n",
       "      <th>1/24/20</th>\n",
       "      <th>1/25/20</th>\n",
       "      <th>1/26/20</th>\n",
       "      <th>1/27/20</th>\n",
       "      <th>...</th>\n",
       "      <th>5/30/20</th>\n",
       "      <th>5/31/20</th>\n",
       "      <th>6/1/20</th>\n",
       "      <th>6/2/20</th>\n",
       "      <th>6/3/20</th>\n",
       "      <th>6/4/20</th>\n",
       "      <th>6/5/20</th>\n",
       "      <th>6/6/20</th>\n",
       "      <th>6/7/20</th>\n",
       "      <th>6/8/20</th>\n",
       "    </tr>\n",
       "  </thead>\n",
       "  <tbody>\n",
       "    <tr>\n",
       "      <th>0</th>\n",
       "      <td>NaN</td>\n",
       "      <td>Afghanistan</td>\n",
       "      <td>33.0000</td>\n",
       "      <td>65.0000</td>\n",
       "      <td>0</td>\n",
       "      <td>0</td>\n",
       "      <td>0</td>\n",
       "      <td>0</td>\n",
       "      <td>0</td>\n",
       "      <td>0</td>\n",
       "      <td>...</td>\n",
       "      <td>14525</td>\n",
       "      <td>15205</td>\n",
       "      <td>15750</td>\n",
       "      <td>16509</td>\n",
       "      <td>17267</td>\n",
       "      <td>18054</td>\n",
       "      <td>18969</td>\n",
       "      <td>19551</td>\n",
       "      <td>20342</td>\n",
       "      <td>20917</td>\n",
       "    </tr>\n",
       "    <tr>\n",
       "      <th>1</th>\n",
       "      <td>NaN</td>\n",
       "      <td>Albania</td>\n",
       "      <td>41.1533</td>\n",
       "      <td>20.1683</td>\n",
       "      <td>0</td>\n",
       "      <td>0</td>\n",
       "      <td>0</td>\n",
       "      <td>0</td>\n",
       "      <td>0</td>\n",
       "      <td>0</td>\n",
       "      <td>...</td>\n",
       "      <td>1122</td>\n",
       "      <td>1137</td>\n",
       "      <td>1143</td>\n",
       "      <td>1164</td>\n",
       "      <td>1184</td>\n",
       "      <td>1197</td>\n",
       "      <td>1212</td>\n",
       "      <td>1232</td>\n",
       "      <td>1246</td>\n",
       "      <td>1263</td>\n",
       "    </tr>\n",
       "    <tr>\n",
       "      <th>2</th>\n",
       "      <td>NaN</td>\n",
       "      <td>Algeria</td>\n",
       "      <td>28.0339</td>\n",
       "      <td>1.6596</td>\n",
       "      <td>0</td>\n",
       "      <td>0</td>\n",
       "      <td>0</td>\n",
       "      <td>0</td>\n",
       "      <td>0</td>\n",
       "      <td>0</td>\n",
       "      <td>...</td>\n",
       "      <td>9267</td>\n",
       "      <td>9394</td>\n",
       "      <td>9513</td>\n",
       "      <td>9626</td>\n",
       "      <td>9733</td>\n",
       "      <td>9831</td>\n",
       "      <td>9935</td>\n",
       "      <td>10050</td>\n",
       "      <td>10154</td>\n",
       "      <td>10265</td>\n",
       "    </tr>\n",
       "    <tr>\n",
       "      <th>3</th>\n",
       "      <td>NaN</td>\n",
       "      <td>Andorra</td>\n",
       "      <td>42.5063</td>\n",
       "      <td>1.5218</td>\n",
       "      <td>0</td>\n",
       "      <td>0</td>\n",
       "      <td>0</td>\n",
       "      <td>0</td>\n",
       "      <td>0</td>\n",
       "      <td>0</td>\n",
       "      <td>...</td>\n",
       "      <td>764</td>\n",
       "      <td>764</td>\n",
       "      <td>765</td>\n",
       "      <td>844</td>\n",
       "      <td>851</td>\n",
       "      <td>852</td>\n",
       "      <td>852</td>\n",
       "      <td>852</td>\n",
       "      <td>852</td>\n",
       "      <td>852</td>\n",
       "    </tr>\n",
       "    <tr>\n",
       "      <th>4</th>\n",
       "      <td>NaN</td>\n",
       "      <td>Angola</td>\n",
       "      <td>-11.2027</td>\n",
       "      <td>17.8739</td>\n",
       "      <td>0</td>\n",
       "      <td>0</td>\n",
       "      <td>0</td>\n",
       "      <td>0</td>\n",
       "      <td>0</td>\n",
       "      <td>0</td>\n",
       "      <td>...</td>\n",
       "      <td>84</td>\n",
       "      <td>86</td>\n",
       "      <td>86</td>\n",
       "      <td>86</td>\n",
       "      <td>86</td>\n",
       "      <td>86</td>\n",
       "      <td>86</td>\n",
       "      <td>88</td>\n",
       "      <td>91</td>\n",
       "      <td>92</td>\n",
       "    </tr>\n",
       "    <tr>\n",
       "      <th>5</th>\n",
       "      <td>NaN</td>\n",
       "      <td>Antigua and Barbuda</td>\n",
       "      <td>17.0608</td>\n",
       "      <td>-61.7964</td>\n",
       "      <td>0</td>\n",
       "      <td>0</td>\n",
       "      <td>0</td>\n",
       "      <td>0</td>\n",
       "      <td>0</td>\n",
       "      <td>0</td>\n",
       "      <td>...</td>\n",
       "      <td>25</td>\n",
       "      <td>26</td>\n",
       "      <td>26</td>\n",
       "      <td>26</td>\n",
       "      <td>26</td>\n",
       "      <td>26</td>\n",
       "      <td>26</td>\n",
       "      <td>26</td>\n",
       "      <td>26</td>\n",
       "      <td>26</td>\n",
       "    </tr>\n",
       "    <tr>\n",
       "      <th>6</th>\n",
       "      <td>NaN</td>\n",
       "      <td>Argentina</td>\n",
       "      <td>-38.4161</td>\n",
       "      <td>-63.6167</td>\n",
       "      <td>0</td>\n",
       "      <td>0</td>\n",
       "      <td>0</td>\n",
       "      <td>0</td>\n",
       "      <td>0</td>\n",
       "      <td>0</td>\n",
       "      <td>...</td>\n",
       "      <td>16214</td>\n",
       "      <td>16851</td>\n",
       "      <td>17415</td>\n",
       "      <td>18319</td>\n",
       "      <td>19268</td>\n",
       "      <td>20197</td>\n",
       "      <td>21037</td>\n",
       "      <td>22020</td>\n",
       "      <td>22794</td>\n",
       "      <td>23620</td>\n",
       "    </tr>\n",
       "    <tr>\n",
       "      <th>7</th>\n",
       "      <td>NaN</td>\n",
       "      <td>Armenia</td>\n",
       "      <td>40.0691</td>\n",
       "      <td>45.0382</td>\n",
       "      <td>0</td>\n",
       "      <td>0</td>\n",
       "      <td>0</td>\n",
       "      <td>0</td>\n",
       "      <td>0</td>\n",
       "      <td>0</td>\n",
       "      <td>...</td>\n",
       "      <td>8927</td>\n",
       "      <td>9282</td>\n",
       "      <td>9492</td>\n",
       "      <td>10009</td>\n",
       "      <td>10524</td>\n",
       "      <td>11221</td>\n",
       "      <td>11817</td>\n",
       "      <td>12364</td>\n",
       "      <td>13130</td>\n",
       "      <td>13325</td>\n",
       "    </tr>\n",
       "    <tr>\n",
       "      <th>8</th>\n",
       "      <td>Australian Capital Territory</td>\n",
       "      <td>Australia</td>\n",
       "      <td>-35.4735</td>\n",
       "      <td>149.0124</td>\n",
       "      <td>0</td>\n",
       "      <td>0</td>\n",
       "      <td>0</td>\n",
       "      <td>0</td>\n",
       "      <td>0</td>\n",
       "      <td>0</td>\n",
       "      <td>...</td>\n",
       "      <td>107</td>\n",
       "      <td>107</td>\n",
       "      <td>107</td>\n",
       "      <td>107</td>\n",
       "      <td>107</td>\n",
       "      <td>107</td>\n",
       "      <td>107</td>\n",
       "      <td>108</td>\n",
       "      <td>108</td>\n",
       "      <td>108</td>\n",
       "    </tr>\n",
       "    <tr>\n",
       "      <th>9</th>\n",
       "      <td>New South Wales</td>\n",
       "      <td>Australia</td>\n",
       "      <td>-33.8688</td>\n",
       "      <td>151.2093</td>\n",
       "      <td>0</td>\n",
       "      <td>0</td>\n",
       "      <td>0</td>\n",
       "      <td>0</td>\n",
       "      <td>3</td>\n",
       "      <td>4</td>\n",
       "      <td>...</td>\n",
       "      <td>3095</td>\n",
       "      <td>3098</td>\n",
       "      <td>3104</td>\n",
       "      <td>3104</td>\n",
       "      <td>3106</td>\n",
       "      <td>3110</td>\n",
       "      <td>3110</td>\n",
       "      <td>3109</td>\n",
       "      <td>3112</td>\n",
       "      <td>3114</td>\n",
       "    </tr>\n",
       "  </tbody>\n",
       "</table>\n",
       "<p>10 rows × 143 columns</p>\n",
       "</div>"
      ],
      "text/plain": [
       "                 Province/State       Country/Region      Lat      Long  \\\n",
       "0                           NaN          Afghanistan  33.0000   65.0000   \n",
       "1                           NaN              Albania  41.1533   20.1683   \n",
       "2                           NaN              Algeria  28.0339    1.6596   \n",
       "3                           NaN              Andorra  42.5063    1.5218   \n",
       "4                           NaN               Angola -11.2027   17.8739   \n",
       "5                           NaN  Antigua and Barbuda  17.0608  -61.7964   \n",
       "6                           NaN            Argentina -38.4161  -63.6167   \n",
       "7                           NaN              Armenia  40.0691   45.0382   \n",
       "8  Australian Capital Territory            Australia -35.4735  149.0124   \n",
       "9               New South Wales            Australia -33.8688  151.2093   \n",
       "\n",
       "   1/22/20  1/23/20  1/24/20  1/25/20  1/26/20  1/27/20  ...  5/30/20  \\\n",
       "0        0        0        0        0        0        0  ...    14525   \n",
       "1        0        0        0        0        0        0  ...     1122   \n",
       "2        0        0        0        0        0        0  ...     9267   \n",
       "3        0        0        0        0        0        0  ...      764   \n",
       "4        0        0        0        0        0        0  ...       84   \n",
       "5        0        0        0        0        0        0  ...       25   \n",
       "6        0        0        0        0        0        0  ...    16214   \n",
       "7        0        0        0        0        0        0  ...     8927   \n",
       "8        0        0        0        0        0        0  ...      107   \n",
       "9        0        0        0        0        3        4  ...     3095   \n",
       "\n",
       "   5/31/20  6/1/20  6/2/20  6/3/20  6/4/20  6/5/20  6/6/20  6/7/20  6/8/20  \n",
       "0    15205   15750   16509   17267   18054   18969   19551   20342   20917  \n",
       "1     1137    1143    1164    1184    1197    1212    1232    1246    1263  \n",
       "2     9394    9513    9626    9733    9831    9935   10050   10154   10265  \n",
       "3      764     765     844     851     852     852     852     852     852  \n",
       "4       86      86      86      86      86      86      88      91      92  \n",
       "5       26      26      26      26      26      26      26      26      26  \n",
       "6    16851   17415   18319   19268   20197   21037   22020   22794   23620  \n",
       "7     9282    9492   10009   10524   11221   11817   12364   13130   13325  \n",
       "8      107     107     107     107     107     107     108     108     108  \n",
       "9     3098    3104    3104    3106    3110    3110    3109    3112    3114  \n",
       "\n",
       "[10 rows x 143 columns]"
      ]
     },
     "execution_count": 3,
     "metadata": {},
     "output_type": "execute_result"
    }
   ],
   "source": [
    "df_confirmed.head(10)"
   ]
  },
  {
   "cell_type": "markdown",
   "metadata": {},
   "source": [
    "# confirmed cases of India"
   ]
  },
  {
   "cell_type": "code",
   "execution_count": 4,
   "metadata": {},
   "outputs": [
    {
     "data": {
      "text/html": [
       "<div>\n",
       "<style scoped>\n",
       "    .dataframe tbody tr th:only-of-type {\n",
       "        vertical-align: middle;\n",
       "    }\n",
       "\n",
       "    .dataframe tbody tr th {\n",
       "        vertical-align: top;\n",
       "    }\n",
       "\n",
       "    .dataframe thead th {\n",
       "        text-align: right;\n",
       "    }\n",
       "</style>\n",
       "<table border=\"1\" class=\"dataframe\">\n",
       "  <thead>\n",
       "    <tr style=\"text-align: right;\">\n",
       "      <th></th>\n",
       "      <th>Province/State</th>\n",
       "      <th>Country/Region</th>\n",
       "      <th>Lat</th>\n",
       "      <th>Long</th>\n",
       "      <th>1/22/20</th>\n",
       "      <th>1/23/20</th>\n",
       "      <th>1/24/20</th>\n",
       "      <th>1/25/20</th>\n",
       "      <th>1/26/20</th>\n",
       "      <th>1/27/20</th>\n",
       "      <th>...</th>\n",
       "      <th>5/30/20</th>\n",
       "      <th>5/31/20</th>\n",
       "      <th>6/1/20</th>\n",
       "      <th>6/2/20</th>\n",
       "      <th>6/3/20</th>\n",
       "      <th>6/4/20</th>\n",
       "      <th>6/5/20</th>\n",
       "      <th>6/6/20</th>\n",
       "      <th>6/7/20</th>\n",
       "      <th>6/8/20</th>\n",
       "    </tr>\n",
       "  </thead>\n",
       "  <tbody>\n",
       "    <tr>\n",
       "      <th>131</th>\n",
       "      <td>NaN</td>\n",
       "      <td>India</td>\n",
       "      <td>21.0</td>\n",
       "      <td>78.0</td>\n",
       "      <td>0</td>\n",
       "      <td>0</td>\n",
       "      <td>0</td>\n",
       "      <td>0</td>\n",
       "      <td>0</td>\n",
       "      <td>0</td>\n",
       "      <td>...</td>\n",
       "      <td>181827</td>\n",
       "      <td>190609</td>\n",
       "      <td>198370</td>\n",
       "      <td>207191</td>\n",
       "      <td>216824</td>\n",
       "      <td>226713</td>\n",
       "      <td>236184</td>\n",
       "      <td>246622</td>\n",
       "      <td>257486</td>\n",
       "      <td>265928</td>\n",
       "    </tr>\n",
       "  </tbody>\n",
       "</table>\n",
       "<p>1 rows × 143 columns</p>\n",
       "</div>"
      ],
      "text/plain": [
       "    Province/State Country/Region   Lat  Long  1/22/20  1/23/20  1/24/20  \\\n",
       "131            NaN          India  21.0  78.0        0        0        0   \n",
       "\n",
       "     1/25/20  1/26/20  1/27/20  ...  5/30/20  5/31/20  6/1/20  6/2/20  6/3/20  \\\n",
       "131        0        0        0  ...   181827   190609  198370  207191  216824   \n",
       "\n",
       "     6/4/20  6/5/20  6/6/20  6/7/20  6/8/20  \n",
       "131  226713  236184  246622  257486  265928  \n",
       "\n",
       "[1 rows x 143 columns]"
      ]
     },
     "execution_count": 4,
     "metadata": {},
     "output_type": "execute_result"
    }
   ],
   "source": [
    "#time series forecasting on confirmed cases in India\n",
    "country=\"India\"\n",
    "df_confirmed1=df_confirmed[df_confirmed[\"Country/Region\"]==country]\n",
    "df_confirmed1"
   ]
  },
  {
   "cell_type": "markdown",
   "metadata": {},
   "source": [
    "# coverting the datatype into time series object"
   ]
  },
  {
   "cell_type": "code",
   "execution_count": 5,
   "metadata": {},
   "outputs": [
    {
     "data": {
      "text/html": [
       "<div>\n",
       "<style scoped>\n",
       "    .dataframe tbody tr th:only-of-type {\n",
       "        vertical-align: middle;\n",
       "    }\n",
       "\n",
       "    .dataframe tbody tr th {\n",
       "        vertical-align: top;\n",
       "    }\n",
       "\n",
       "    .dataframe thead th {\n",
       "        text-align: right;\n",
       "    }\n",
       "</style>\n",
       "<table border=\"1\" class=\"dataframe\">\n",
       "  <thead>\n",
       "    <tr style=\"text-align: right;\">\n",
       "      <th></th>\n",
       "      <th>confirmed</th>\n",
       "    </tr>\n",
       "  </thead>\n",
       "  <tbody>\n",
       "    <tr>\n",
       "      <th>2020-06-04</th>\n",
       "      <td>226713</td>\n",
       "    </tr>\n",
       "    <tr>\n",
       "      <th>2020-06-05</th>\n",
       "      <td>236184</td>\n",
       "    </tr>\n",
       "    <tr>\n",
       "      <th>2020-06-06</th>\n",
       "      <td>246622</td>\n",
       "    </tr>\n",
       "    <tr>\n",
       "      <th>2020-06-07</th>\n",
       "      <td>257486</td>\n",
       "    </tr>\n",
       "    <tr>\n",
       "      <th>2020-06-08</th>\n",
       "      <td>265928</td>\n",
       "    </tr>\n",
       "  </tbody>\n",
       "</table>\n",
       "</div>"
      ],
      "text/plain": [
       "            confirmed\n",
       "2020-06-04     226713\n",
       "2020-06-05     236184\n",
       "2020-06-06     246622\n",
       "2020-06-07     257486\n",
       "2020-06-08     265928"
      ]
     },
     "execution_count": 5,
     "metadata": {},
     "output_type": "execute_result"
    }
   ],
   "source": [
    "df_confirmed2=pd.DataFrame(df_confirmed1[df_confirmed1.columns[4:]].sum(),columns=[\"confirmed\"])\n",
    "df_confirmed2.index=pd.to_datetime(df_confirmed2.index,format='%m/%d/%y')\n",
    "df_confirmed2.tail()"
   ]
  },
  {
   "cell_type": "markdown",
   "metadata": {},
   "source": [
    "# collecting total death & recovered cases for pre-analysis"
   ]
  },
  {
   "cell_type": "code",
   "execution_count": 6,
   "metadata": {},
   "outputs": [
    {
     "data": {
      "text/html": [
       "<div>\n",
       "<style scoped>\n",
       "    .dataframe tbody tr th:only-of-type {\n",
       "        vertical-align: middle;\n",
       "    }\n",
       "\n",
       "    .dataframe tbody tr th {\n",
       "        vertical-align: top;\n",
       "    }\n",
       "\n",
       "    .dataframe thead th {\n",
       "        text-align: right;\n",
       "    }\n",
       "</style>\n",
       "<table border=\"1\" class=\"dataframe\">\n",
       "  <thead>\n",
       "    <tr style=\"text-align: right;\">\n",
       "      <th></th>\n",
       "      <th>Province/State</th>\n",
       "      <th>Country/Region</th>\n",
       "      <th>Lat</th>\n",
       "      <th>Long</th>\n",
       "      <th>1/22/20</th>\n",
       "      <th>1/23/20</th>\n",
       "      <th>1/24/20</th>\n",
       "      <th>1/25/20</th>\n",
       "      <th>1/26/20</th>\n",
       "      <th>1/27/20</th>\n",
       "      <th>...</th>\n",
       "      <th>5/30/20</th>\n",
       "      <th>5/31/20</th>\n",
       "      <th>6/1/20</th>\n",
       "      <th>6/2/20</th>\n",
       "      <th>6/3/20</th>\n",
       "      <th>6/4/20</th>\n",
       "      <th>6/5/20</th>\n",
       "      <th>6/6/20</th>\n",
       "      <th>6/7/20</th>\n",
       "      <th>6/8/20</th>\n",
       "    </tr>\n",
       "  </thead>\n",
       "  <tbody>\n",
       "    <tr>\n",
       "      <th>0</th>\n",
       "      <td>NaN</td>\n",
       "      <td>Afghanistan</td>\n",
       "      <td>33.0000</td>\n",
       "      <td>65.0000</td>\n",
       "      <td>0</td>\n",
       "      <td>0</td>\n",
       "      <td>0</td>\n",
       "      <td>0</td>\n",
       "      <td>0</td>\n",
       "      <td>0</td>\n",
       "      <td>...</td>\n",
       "      <td>249</td>\n",
       "      <td>257</td>\n",
       "      <td>265</td>\n",
       "      <td>270</td>\n",
       "      <td>294</td>\n",
       "      <td>300</td>\n",
       "      <td>309</td>\n",
       "      <td>327</td>\n",
       "      <td>357</td>\n",
       "      <td>369</td>\n",
       "    </tr>\n",
       "    <tr>\n",
       "      <th>1</th>\n",
       "      <td>NaN</td>\n",
       "      <td>Albania</td>\n",
       "      <td>41.1533</td>\n",
       "      <td>20.1683</td>\n",
       "      <td>0</td>\n",
       "      <td>0</td>\n",
       "      <td>0</td>\n",
       "      <td>0</td>\n",
       "      <td>0</td>\n",
       "      <td>0</td>\n",
       "      <td>...</td>\n",
       "      <td>33</td>\n",
       "      <td>33</td>\n",
       "      <td>33</td>\n",
       "      <td>33</td>\n",
       "      <td>33</td>\n",
       "      <td>33</td>\n",
       "      <td>33</td>\n",
       "      <td>34</td>\n",
       "      <td>34</td>\n",
       "      <td>34</td>\n",
       "    </tr>\n",
       "    <tr>\n",
       "      <th>2</th>\n",
       "      <td>NaN</td>\n",
       "      <td>Algeria</td>\n",
       "      <td>28.0339</td>\n",
       "      <td>1.6596</td>\n",
       "      <td>0</td>\n",
       "      <td>0</td>\n",
       "      <td>0</td>\n",
       "      <td>0</td>\n",
       "      <td>0</td>\n",
       "      <td>0</td>\n",
       "      <td>...</td>\n",
       "      <td>646</td>\n",
       "      <td>653</td>\n",
       "      <td>661</td>\n",
       "      <td>667</td>\n",
       "      <td>673</td>\n",
       "      <td>681</td>\n",
       "      <td>690</td>\n",
       "      <td>698</td>\n",
       "      <td>707</td>\n",
       "      <td>715</td>\n",
       "    </tr>\n",
       "    <tr>\n",
       "      <th>3</th>\n",
       "      <td>NaN</td>\n",
       "      <td>Andorra</td>\n",
       "      <td>42.5063</td>\n",
       "      <td>1.5218</td>\n",
       "      <td>0</td>\n",
       "      <td>0</td>\n",
       "      <td>0</td>\n",
       "      <td>0</td>\n",
       "      <td>0</td>\n",
       "      <td>0</td>\n",
       "      <td>...</td>\n",
       "      <td>51</td>\n",
       "      <td>51</td>\n",
       "      <td>51</td>\n",
       "      <td>51</td>\n",
       "      <td>51</td>\n",
       "      <td>51</td>\n",
       "      <td>51</td>\n",
       "      <td>51</td>\n",
       "      <td>51</td>\n",
       "      <td>51</td>\n",
       "    </tr>\n",
       "    <tr>\n",
       "      <th>4</th>\n",
       "      <td>NaN</td>\n",
       "      <td>Angola</td>\n",
       "      <td>-11.2027</td>\n",
       "      <td>17.8739</td>\n",
       "      <td>0</td>\n",
       "      <td>0</td>\n",
       "      <td>0</td>\n",
       "      <td>0</td>\n",
       "      <td>0</td>\n",
       "      <td>0</td>\n",
       "      <td>...</td>\n",
       "      <td>4</td>\n",
       "      <td>4</td>\n",
       "      <td>4</td>\n",
       "      <td>4</td>\n",
       "      <td>4</td>\n",
       "      <td>4</td>\n",
       "      <td>4</td>\n",
       "      <td>4</td>\n",
       "      <td>4</td>\n",
       "      <td>4</td>\n",
       "    </tr>\n",
       "  </tbody>\n",
       "</table>\n",
       "<p>5 rows × 143 columns</p>\n",
       "</div>"
      ],
      "text/plain": [
       "  Province/State Country/Region      Lat     Long  1/22/20  1/23/20  1/24/20  \\\n",
       "0            NaN    Afghanistan  33.0000  65.0000        0        0        0   \n",
       "1            NaN        Albania  41.1533  20.1683        0        0        0   \n",
       "2            NaN        Algeria  28.0339   1.6596        0        0        0   \n",
       "3            NaN        Andorra  42.5063   1.5218        0        0        0   \n",
       "4            NaN         Angola -11.2027  17.8739        0        0        0   \n",
       "\n",
       "   1/25/20  1/26/20  1/27/20  ...  5/30/20  5/31/20  6/1/20  6/2/20  6/3/20  \\\n",
       "0        0        0        0  ...      249      257     265     270     294   \n",
       "1        0        0        0  ...       33       33      33      33      33   \n",
       "2        0        0        0  ...      646      653     661     667     673   \n",
       "3        0        0        0  ...       51       51      51      51      51   \n",
       "4        0        0        0  ...        4        4       4       4       4   \n",
       "\n",
       "   6/4/20  6/5/20  6/6/20  6/7/20  6/8/20  \n",
       "0     300     309     327     357     369  \n",
       "1      33      33      34      34      34  \n",
       "2     681     690     698     707     715  \n",
       "3      51      51      51      51      51  \n",
       "4       4       4       4       4       4  \n",
       "\n",
       "[5 rows x 143 columns]"
      ]
     },
     "execution_count": 6,
     "metadata": {},
     "output_type": "execute_result"
    }
   ],
   "source": [
    "#total dead cases in India\n",
    "df_dead=pd.read_csv(\"https://raw.githubusercontent.com/CSSEGISandData/COVID-19/master/csse_covid_19_data/csse_covid_19_time_series/time_series_covid19_deaths_global.csv\")\n",
    "df_dead.head()"
   ]
  },
  {
   "cell_type": "code",
   "execution_count": 7,
   "metadata": {},
   "outputs": [
    {
     "data": {
      "text/html": [
       "<div>\n",
       "<style scoped>\n",
       "    .dataframe tbody tr th:only-of-type {\n",
       "        vertical-align: middle;\n",
       "    }\n",
       "\n",
       "    .dataframe tbody tr th {\n",
       "        vertical-align: top;\n",
       "    }\n",
       "\n",
       "    .dataframe thead th {\n",
       "        text-align: right;\n",
       "    }\n",
       "</style>\n",
       "<table border=\"1\" class=\"dataframe\">\n",
       "  <thead>\n",
       "    <tr style=\"text-align: right;\">\n",
       "      <th></th>\n",
       "      <th>dead</th>\n",
       "    </tr>\n",
       "  </thead>\n",
       "  <tbody>\n",
       "    <tr>\n",
       "      <th>2020-06-04</th>\n",
       "      <td>6363</td>\n",
       "    </tr>\n",
       "    <tr>\n",
       "      <th>2020-06-05</th>\n",
       "      <td>6649</td>\n",
       "    </tr>\n",
       "    <tr>\n",
       "      <th>2020-06-06</th>\n",
       "      <td>6946</td>\n",
       "    </tr>\n",
       "    <tr>\n",
       "      <th>2020-06-07</th>\n",
       "      <td>7207</td>\n",
       "    </tr>\n",
       "    <tr>\n",
       "      <th>2020-06-08</th>\n",
       "      <td>7473</td>\n",
       "    </tr>\n",
       "  </tbody>\n",
       "</table>\n",
       "</div>"
      ],
      "text/plain": [
       "            dead\n",
       "2020-06-04  6363\n",
       "2020-06-05  6649\n",
       "2020-06-06  6946\n",
       "2020-06-07  7207\n",
       "2020-06-08  7473"
      ]
     },
     "execution_count": 7,
     "metadata": {},
     "output_type": "execute_result"
    }
   ],
   "source": [
    "df_dead1=df_dead[df_dead[\"Country/Region\"]==country]\n",
    "df_dead2=pd.DataFrame(df_dead1[df_dead1.columns[4:]].sum(),columns=[\"dead\"])\n",
    "df_dead2.index=pd.to_datetime(df_dead2.index,format='%m/%d/%y')\n",
    "df_dead2.tail()"
   ]
  },
  {
   "cell_type": "code",
   "execution_count": 8,
   "metadata": {},
   "outputs": [
    {
     "data": {
      "text/html": [
       "<div>\n",
       "<style scoped>\n",
       "    .dataframe tbody tr th:only-of-type {\n",
       "        vertical-align: middle;\n",
       "    }\n",
       "\n",
       "    .dataframe tbody tr th {\n",
       "        vertical-align: top;\n",
       "    }\n",
       "\n",
       "    .dataframe thead th {\n",
       "        text-align: right;\n",
       "    }\n",
       "</style>\n",
       "<table border=\"1\" class=\"dataframe\">\n",
       "  <thead>\n",
       "    <tr style=\"text-align: right;\">\n",
       "      <th></th>\n",
       "      <th>Province/State</th>\n",
       "      <th>Country/Region</th>\n",
       "      <th>Lat</th>\n",
       "      <th>Long</th>\n",
       "      <th>1/22/20</th>\n",
       "      <th>1/23/20</th>\n",
       "      <th>1/24/20</th>\n",
       "      <th>1/25/20</th>\n",
       "      <th>1/26/20</th>\n",
       "      <th>1/27/20</th>\n",
       "      <th>...</th>\n",
       "      <th>5/30/20</th>\n",
       "      <th>5/31/20</th>\n",
       "      <th>6/1/20</th>\n",
       "      <th>6/2/20</th>\n",
       "      <th>6/3/20</th>\n",
       "      <th>6/4/20</th>\n",
       "      <th>6/5/20</th>\n",
       "      <th>6/6/20</th>\n",
       "      <th>6/7/20</th>\n",
       "      <th>6/8/20</th>\n",
       "    </tr>\n",
       "  </thead>\n",
       "  <tbody>\n",
       "    <tr>\n",
       "      <th>0</th>\n",
       "      <td>NaN</td>\n",
       "      <td>Afghanistan</td>\n",
       "      <td>33.0000</td>\n",
       "      <td>65.0000</td>\n",
       "      <td>0</td>\n",
       "      <td>0</td>\n",
       "      <td>0</td>\n",
       "      <td>0</td>\n",
       "      <td>0</td>\n",
       "      <td>0</td>\n",
       "      <td>...</td>\n",
       "      <td>1303</td>\n",
       "      <td>1328</td>\n",
       "      <td>1428</td>\n",
       "      <td>1450</td>\n",
       "      <td>1522</td>\n",
       "      <td>1585</td>\n",
       "      <td>1762</td>\n",
       "      <td>1830</td>\n",
       "      <td>1875</td>\n",
       "      <td>2171</td>\n",
       "    </tr>\n",
       "    <tr>\n",
       "      <th>1</th>\n",
       "      <td>NaN</td>\n",
       "      <td>Albania</td>\n",
       "      <td>41.1533</td>\n",
       "      <td>20.1683</td>\n",
       "      <td>0</td>\n",
       "      <td>0</td>\n",
       "      <td>0</td>\n",
       "      <td>0</td>\n",
       "      <td>0</td>\n",
       "      <td>0</td>\n",
       "      <td>...</td>\n",
       "      <td>857</td>\n",
       "      <td>872</td>\n",
       "      <td>877</td>\n",
       "      <td>891</td>\n",
       "      <td>898</td>\n",
       "      <td>898</td>\n",
       "      <td>910</td>\n",
       "      <td>925</td>\n",
       "      <td>938</td>\n",
       "      <td>945</td>\n",
       "    </tr>\n",
       "    <tr>\n",
       "      <th>2</th>\n",
       "      <td>NaN</td>\n",
       "      <td>Algeria</td>\n",
       "      <td>28.0339</td>\n",
       "      <td>1.6596</td>\n",
       "      <td>0</td>\n",
       "      <td>0</td>\n",
       "      <td>0</td>\n",
       "      <td>0</td>\n",
       "      <td>0</td>\n",
       "      <td>0</td>\n",
       "      <td>...</td>\n",
       "      <td>5549</td>\n",
       "      <td>5748</td>\n",
       "      <td>5894</td>\n",
       "      <td>6067</td>\n",
       "      <td>6218</td>\n",
       "      <td>6297</td>\n",
       "      <td>6453</td>\n",
       "      <td>6631</td>\n",
       "      <td>6717</td>\n",
       "      <td>6799</td>\n",
       "    </tr>\n",
       "    <tr>\n",
       "      <th>3</th>\n",
       "      <td>NaN</td>\n",
       "      <td>Andorra</td>\n",
       "      <td>42.5063</td>\n",
       "      <td>1.5218</td>\n",
       "      <td>0</td>\n",
       "      <td>0</td>\n",
       "      <td>0</td>\n",
       "      <td>0</td>\n",
       "      <td>0</td>\n",
       "      <td>0</td>\n",
       "      <td>...</td>\n",
       "      <td>692</td>\n",
       "      <td>694</td>\n",
       "      <td>698</td>\n",
       "      <td>733</td>\n",
       "      <td>735</td>\n",
       "      <td>738</td>\n",
       "      <td>741</td>\n",
       "      <td>741</td>\n",
       "      <td>744</td>\n",
       "      <td>751</td>\n",
       "    </tr>\n",
       "    <tr>\n",
       "      <th>4</th>\n",
       "      <td>NaN</td>\n",
       "      <td>Angola</td>\n",
       "      <td>-11.2027</td>\n",
       "      <td>17.8739</td>\n",
       "      <td>0</td>\n",
       "      <td>0</td>\n",
       "      <td>0</td>\n",
       "      <td>0</td>\n",
       "      <td>0</td>\n",
       "      <td>0</td>\n",
       "      <td>...</td>\n",
       "      <td>18</td>\n",
       "      <td>18</td>\n",
       "      <td>18</td>\n",
       "      <td>18</td>\n",
       "      <td>18</td>\n",
       "      <td>18</td>\n",
       "      <td>21</td>\n",
       "      <td>24</td>\n",
       "      <td>24</td>\n",
       "      <td>38</td>\n",
       "    </tr>\n",
       "  </tbody>\n",
       "</table>\n",
       "<p>5 rows × 143 columns</p>\n",
       "</div>"
      ],
      "text/plain": [
       "  Province/State Country/Region      Lat     Long  1/22/20  1/23/20  1/24/20  \\\n",
       "0            NaN    Afghanistan  33.0000  65.0000        0        0        0   \n",
       "1            NaN        Albania  41.1533  20.1683        0        0        0   \n",
       "2            NaN        Algeria  28.0339   1.6596        0        0        0   \n",
       "3            NaN        Andorra  42.5063   1.5218        0        0        0   \n",
       "4            NaN         Angola -11.2027  17.8739        0        0        0   \n",
       "\n",
       "   1/25/20  1/26/20  1/27/20  ...  5/30/20  5/31/20  6/1/20  6/2/20  6/3/20  \\\n",
       "0        0        0        0  ...     1303     1328    1428    1450    1522   \n",
       "1        0        0        0  ...      857      872     877     891     898   \n",
       "2        0        0        0  ...     5549     5748    5894    6067    6218   \n",
       "3        0        0        0  ...      692      694     698     733     735   \n",
       "4        0        0        0  ...       18       18      18      18      18   \n",
       "\n",
       "   6/4/20  6/5/20  6/6/20  6/7/20  6/8/20  \n",
       "0    1585    1762    1830    1875    2171  \n",
       "1     898     910     925     938     945  \n",
       "2    6297    6453    6631    6717    6799  \n",
       "3     738     741     741     744     751  \n",
       "4      18      21      24      24      38  \n",
       "\n",
       "[5 rows x 143 columns]"
      ]
     },
     "execution_count": 8,
     "metadata": {},
     "output_type": "execute_result"
    }
   ],
   "source": [
    "#total recovered cases in india\n",
    "df_recovered=pd.read_csv(\"https://raw.githubusercontent.com/CSSEGISandData/COVID-19/master/csse_covid_19_data/csse_covid_19_time_series/time_series_covid19_recovered_global.csv\")\n",
    "df_recovered.head()"
   ]
  },
  {
   "cell_type": "markdown",
   "metadata": {},
   "source": [
    "# creating dataset for India"
   ]
  },
  {
   "cell_type": "code",
   "execution_count": 9,
   "metadata": {},
   "outputs": [
    {
     "data": {
      "text/html": [
       "<div>\n",
       "<style scoped>\n",
       "    .dataframe tbody tr th:only-of-type {\n",
       "        vertical-align: middle;\n",
       "    }\n",
       "\n",
       "    .dataframe tbody tr th {\n",
       "        vertical-align: top;\n",
       "    }\n",
       "\n",
       "    .dataframe thead th {\n",
       "        text-align: right;\n",
       "    }\n",
       "</style>\n",
       "<table border=\"1\" class=\"dataframe\">\n",
       "  <thead>\n",
       "    <tr style=\"text-align: right;\">\n",
       "      <th></th>\n",
       "      <th>Province/State</th>\n",
       "      <th>Country/Region</th>\n",
       "      <th>Lat</th>\n",
       "      <th>Long</th>\n",
       "      <th>1/22/20</th>\n",
       "      <th>1/23/20</th>\n",
       "      <th>1/24/20</th>\n",
       "      <th>1/25/20</th>\n",
       "      <th>1/26/20</th>\n",
       "      <th>1/27/20</th>\n",
       "      <th>...</th>\n",
       "      <th>5/30/20</th>\n",
       "      <th>5/31/20</th>\n",
       "      <th>6/1/20</th>\n",
       "      <th>6/2/20</th>\n",
       "      <th>6/3/20</th>\n",
       "      <th>6/4/20</th>\n",
       "      <th>6/5/20</th>\n",
       "      <th>6/6/20</th>\n",
       "      <th>6/7/20</th>\n",
       "      <th>6/8/20</th>\n",
       "    </tr>\n",
       "  </thead>\n",
       "  <tbody>\n",
       "    <tr>\n",
       "      <th>125</th>\n",
       "      <td>NaN</td>\n",
       "      <td>India</td>\n",
       "      <td>21.0</td>\n",
       "      <td>78.0</td>\n",
       "      <td>0</td>\n",
       "      <td>0</td>\n",
       "      <td>0</td>\n",
       "      <td>0</td>\n",
       "      <td>0</td>\n",
       "      <td>0</td>\n",
       "      <td>...</td>\n",
       "      <td>86936</td>\n",
       "      <td>91852</td>\n",
       "      <td>95754</td>\n",
       "      <td>100285</td>\n",
       "      <td>104071</td>\n",
       "      <td>108450</td>\n",
       "      <td>113233</td>\n",
       "      <td>118695</td>\n",
       "      <td>123848</td>\n",
       "      <td>129095</td>\n",
       "    </tr>\n",
       "  </tbody>\n",
       "</table>\n",
       "<p>1 rows × 143 columns</p>\n",
       "</div>"
      ],
      "text/plain": [
       "    Province/State Country/Region   Lat  Long  1/22/20  1/23/20  1/24/20  \\\n",
       "125            NaN          India  21.0  78.0        0        0        0   \n",
       "\n",
       "     1/25/20  1/26/20  1/27/20  ...  5/30/20  5/31/20  6/1/20  6/2/20  6/3/20  \\\n",
       "125        0        0        0  ...    86936    91852   95754  100285  104071   \n",
       "\n",
       "     6/4/20  6/5/20  6/6/20  6/7/20  6/8/20  \n",
       "125  108450  113233  118695  123848  129095  \n",
       "\n",
       "[1 rows x 143 columns]"
      ]
     },
     "execution_count": 9,
     "metadata": {},
     "output_type": "execute_result"
    }
   ],
   "source": [
    "#collecting data of India\n",
    "df_recovered1=df_recovered[df_recovered[\"Country/Region\"]==country]\n",
    "df_recovered1"
   ]
  },
  {
   "cell_type": "code",
   "execution_count": 10,
   "metadata": {},
   "outputs": [
    {
     "data": {
      "text/html": [
       "<div>\n",
       "<style scoped>\n",
       "    .dataframe tbody tr th:only-of-type {\n",
       "        vertical-align: middle;\n",
       "    }\n",
       "\n",
       "    .dataframe tbody tr th {\n",
       "        vertical-align: top;\n",
       "    }\n",
       "\n",
       "    .dataframe thead th {\n",
       "        text-align: right;\n",
       "    }\n",
       "</style>\n",
       "<table border=\"1\" class=\"dataframe\">\n",
       "  <thead>\n",
       "    <tr style=\"text-align: right;\">\n",
       "      <th></th>\n",
       "      <th>recovered</th>\n",
       "    </tr>\n",
       "  </thead>\n",
       "  <tbody>\n",
       "    <tr>\n",
       "      <th>2020-06-04</th>\n",
       "      <td>108450</td>\n",
       "    </tr>\n",
       "    <tr>\n",
       "      <th>2020-06-05</th>\n",
       "      <td>113233</td>\n",
       "    </tr>\n",
       "    <tr>\n",
       "      <th>2020-06-06</th>\n",
       "      <td>118695</td>\n",
       "    </tr>\n",
       "    <tr>\n",
       "      <th>2020-06-07</th>\n",
       "      <td>123848</td>\n",
       "    </tr>\n",
       "    <tr>\n",
       "      <th>2020-06-08</th>\n",
       "      <td>129095</td>\n",
       "    </tr>\n",
       "  </tbody>\n",
       "</table>\n",
       "</div>"
      ],
      "text/plain": [
       "            recovered\n",
       "2020-06-04     108450\n",
       "2020-06-05     113233\n",
       "2020-06-06     118695\n",
       "2020-06-07     123848\n",
       "2020-06-08     129095"
      ]
     },
     "execution_count": 10,
     "metadata": {},
     "output_type": "execute_result"
    }
   ],
   "source": [
    "df_recovered2 = pd.DataFrame(df_recovered1[df_recovered1.columns[4:]].sum(),columns=[\"recovered\"])\n",
    "df_recovered2.index = pd.to_datetime(df_recovered2.index,format='%m/%d/%y')\n",
    "df_recovered2.tail()"
   ]
  },
  {
   "cell_type": "code",
   "execution_count": 11,
   "metadata": {},
   "outputs": [
    {
     "data": {
      "text/html": [
       "<div>\n",
       "<style scoped>\n",
       "    .dataframe tbody tr th:only-of-type {\n",
       "        vertical-align: middle;\n",
       "    }\n",
       "\n",
       "    .dataframe tbody tr th {\n",
       "        vertical-align: top;\n",
       "    }\n",
       "\n",
       "    .dataframe thead th {\n",
       "        text-align: right;\n",
       "    }\n",
       "</style>\n",
       "<table border=\"1\" class=\"dataframe\">\n",
       "  <thead>\n",
       "    <tr style=\"text-align: right;\">\n",
       "      <th></th>\n",
       "      <th>confirmed</th>\n",
       "      <th>dead</th>\n",
       "    </tr>\n",
       "  </thead>\n",
       "  <tbody>\n",
       "    <tr>\n",
       "      <th>2020-06-04</th>\n",
       "      <td>226713</td>\n",
       "      <td>6363</td>\n",
       "    </tr>\n",
       "    <tr>\n",
       "      <th>2020-06-05</th>\n",
       "      <td>236184</td>\n",
       "      <td>6649</td>\n",
       "    </tr>\n",
       "    <tr>\n",
       "      <th>2020-06-06</th>\n",
       "      <td>246622</td>\n",
       "      <td>6946</td>\n",
       "    </tr>\n",
       "    <tr>\n",
       "      <th>2020-06-07</th>\n",
       "      <td>257486</td>\n",
       "      <td>7207</td>\n",
       "    </tr>\n",
       "    <tr>\n",
       "      <th>2020-06-08</th>\n",
       "      <td>265928</td>\n",
       "      <td>7473</td>\n",
       "    </tr>\n",
       "  </tbody>\n",
       "</table>\n",
       "</div>"
      ],
      "text/plain": [
       "            confirmed  dead\n",
       "2020-06-04     226713  6363\n",
       "2020-06-05     236184  6649\n",
       "2020-06-06     246622  6946\n",
       "2020-06-07     257486  7207\n",
       "2020-06-08     265928  7473"
      ]
     },
     "execution_count": 11,
     "metadata": {},
     "output_type": "execute_result"
    }
   ],
   "source": [
    "#confirmed and death cases together\n",
    "df_conf_dead = df_confirmed2.join(df_dead2,how = \"inner\")\n",
    "df_conf_dead.tail()"
   ]
  },
  {
   "cell_type": "code",
   "execution_count": 12,
   "metadata": {},
   "outputs": [
    {
     "data": {
      "text/html": [
       "<div>\n",
       "<style scoped>\n",
       "    .dataframe tbody tr th:only-of-type {\n",
       "        vertical-align: middle;\n",
       "    }\n",
       "\n",
       "    .dataframe tbody tr th {\n",
       "        vertical-align: top;\n",
       "    }\n",
       "\n",
       "    .dataframe thead th {\n",
       "        text-align: right;\n",
       "    }\n",
       "</style>\n",
       "<table border=\"1\" class=\"dataframe\">\n",
       "  <thead>\n",
       "    <tr style=\"text-align: right;\">\n",
       "      <th></th>\n",
       "      <th>confirmed</th>\n",
       "      <th>dead</th>\n",
       "      <th>recovered</th>\n",
       "    </tr>\n",
       "  </thead>\n",
       "  <tbody>\n",
       "    <tr>\n",
       "      <th>2020-06-04</th>\n",
       "      <td>226713</td>\n",
       "      <td>6363</td>\n",
       "      <td>108450</td>\n",
       "    </tr>\n",
       "    <tr>\n",
       "      <th>2020-06-05</th>\n",
       "      <td>236184</td>\n",
       "      <td>6649</td>\n",
       "      <td>113233</td>\n",
       "    </tr>\n",
       "    <tr>\n",
       "      <th>2020-06-06</th>\n",
       "      <td>246622</td>\n",
       "      <td>6946</td>\n",
       "      <td>118695</td>\n",
       "    </tr>\n",
       "    <tr>\n",
       "      <th>2020-06-07</th>\n",
       "      <td>257486</td>\n",
       "      <td>7207</td>\n",
       "      <td>123848</td>\n",
       "    </tr>\n",
       "    <tr>\n",
       "      <th>2020-06-08</th>\n",
       "      <td>265928</td>\n",
       "      <td>7473</td>\n",
       "      <td>129095</td>\n",
       "    </tr>\n",
       "  </tbody>\n",
       "</table>\n",
       "</div>"
      ],
      "text/plain": [
       "            confirmed  dead  recovered\n",
       "2020-06-04     226713  6363     108450\n",
       "2020-06-05     236184  6649     113233\n",
       "2020-06-06     246622  6946     118695\n",
       "2020-06-07     257486  7207     123848\n",
       "2020-06-08     265928  7473     129095"
      ]
     },
     "execution_count": 12,
     "metadata": {},
     "output_type": "execute_result"
    }
   ],
   "source": [
    "#confirmed+death+recovered\n",
    "df_allcases=df_conf_dead.join(df_recovered2,how=\"inner\")\n",
    "df_allcases.tail()"
   ]
  },
  {
   "cell_type": "code",
   "execution_count": 13,
   "metadata": {},
   "outputs": [
    {
     "data": {
      "text/plain": [
       "<matplotlib.axes._subplots.AxesSubplot at 0x26b9c1c35c0>"
      ]
     },
     "execution_count": 13,
     "metadata": {},
     "output_type": "execute_result"
    },
    {
     "data": {
      "image/png": "[encoded data removed]",
      "text/plain": [
       "<Figure size 720x360 with 1 Axes>"
      ]
     },
     "metadata": {
      "needs_background": "light"
     },
     "output_type": "display_data"
    }
   ],
   "source": [
    "#visualising each of the case\n",
    "df_allcases.plot(figsize=(10,5),title=\"India\")"
   ]
  },
  {
   "cell_type": "code",
   "execution_count": 14,
   "metadata": {},
   "outputs": [
    {
     "data": {
      "text/plain": [
       "<matplotlib.axes._subplots.AxesSubplot at 0x26b9c54bf28>"
      ]
     },
     "execution_count": 14,
     "metadata": {},
     "output_type": "execute_result"
    },
    {
     "data": {
      "image/png": "[encoded data removed]",
      "text/plain": [
       "<Figure size 432x288 with 1 Axes>"
      ]
     },
     "metadata": {
      "needs_background": "light"
     },
     "output_type": "display_data"
    }
   ],
   "source": [
    "df_confirmed2.plot(title=\"India-Confirmed cases\")"
   ]
  },
  {
   "cell_type": "markdown",
   "metadata": {},
   "source": [
    "# Data pre-processing"
   ]
  },
  {
   "cell_type": "code",
   "execution_count": 15,
   "metadata": {},
   "outputs": [
    {
     "data": {
      "text/html": [
       "<div>\n",
       "<style scoped>\n",
       "    .dataframe tbody tr th:only-of-type {\n",
       "        vertical-align: middle;\n",
       "    }\n",
       "\n",
       "    .dataframe tbody tr th {\n",
       "        vertical-align: top;\n",
       "    }\n",
       "\n",
       "    .dataframe thead th {\n",
       "        text-align: right;\n",
       "    }\n",
       "</style>\n",
       "<table border=\"1\" class=\"dataframe\">\n",
       "  <thead>\n",
       "    <tr style=\"text-align: right;\">\n",
       "      <th></th>\n",
       "      <th>confirmed</th>\n",
       "    </tr>\n",
       "  </thead>\n",
       "  <tbody>\n",
       "    <tr>\n",
       "      <th>2020-05-30</th>\n",
       "      <td>181827</td>\n",
       "    </tr>\n",
       "    <tr>\n",
       "      <th>2020-05-31</th>\n",
       "      <td>190609</td>\n",
       "    </tr>\n",
       "    <tr>\n",
       "      <th>2020-06-01</th>\n",
       "      <td>198370</td>\n",
       "    </tr>\n",
       "    <tr>\n",
       "      <th>2020-06-02</th>\n",
       "      <td>207191</td>\n",
       "    </tr>\n",
       "    <tr>\n",
       "      <th>2020-06-03</th>\n",
       "      <td>216824</td>\n",
       "    </tr>\n",
       "    <tr>\n",
       "      <th>2020-06-04</th>\n",
       "      <td>226713</td>\n",
       "    </tr>\n",
       "    <tr>\n",
       "      <th>2020-06-05</th>\n",
       "      <td>236184</td>\n",
       "    </tr>\n",
       "    <tr>\n",
       "      <th>2020-06-06</th>\n",
       "      <td>246622</td>\n",
       "    </tr>\n",
       "    <tr>\n",
       "      <th>2020-06-07</th>\n",
       "      <td>257486</td>\n",
       "    </tr>\n",
       "    <tr>\n",
       "      <th>2020-06-08</th>\n",
       "      <td>265928</td>\n",
       "    </tr>\n",
       "  </tbody>\n",
       "</table>\n",
       "</div>"
      ],
      "text/plain": [
       "            confirmed\n",
       "2020-05-30     181827\n",
       "2020-05-31     190609\n",
       "2020-06-01     198370\n",
       "2020-06-02     207191\n",
       "2020-06-03     216824\n",
       "2020-06-04     226713\n",
       "2020-06-05     236184\n",
       "2020-06-06     246622\n",
       "2020-06-07     257486\n",
       "2020-06-08     265928"
      ]
     },
     "execution_count": 15,
     "metadata": {},
     "output_type": "execute_result"
    }
   ],
   "source": [
    "df_new = df_confirmed2[[\"confirmed\"]]\n",
    "df_new.tail(10)"
   ]
  },
  {
   "cell_type": "code",
   "execution_count": 16,
   "metadata": {},
   "outputs": [
    {
     "data": {
      "text/plain": [
       "139"
      ]
     },
     "execution_count": 16,
     "metadata": {},
     "output_type": "execute_result"
    }
   ],
   "source": [
    "len(df_new)"
   ]
  },
  {
   "cell_type": "code",
   "execution_count": 17,
   "metadata": {},
   "outputs": [
    {
     "data": {
      "text/plain": [
       "134"
      ]
     },
     "execution_count": 17,
     "metadata": {},
     "output_type": "execute_result"
    }
   ],
   "source": [
    "x=len(df_new)-5\n",
    "x"
   ]
  },
  {
   "cell_type": "code",
   "execution_count": 18,
   "metadata": {},
   "outputs": [
    {
     "data": {
      "text/html": [
       "<div>\n",
       "<style scoped>\n",
       "    .dataframe tbody tr th:only-of-type {\n",
       "        vertical-align: middle;\n",
       "    }\n",
       "\n",
       "    .dataframe tbody tr th {\n",
       "        vertical-align: top;\n",
       "    }\n",
       "\n",
       "    .dataframe thead th {\n",
       "        text-align: right;\n",
       "    }\n",
       "</style>\n",
       "<table border=\"1\" class=\"dataframe\">\n",
       "  <thead>\n",
       "    <tr style=\"text-align: right;\">\n",
       "      <th></th>\n",
       "      <th>confirmed</th>\n",
       "    </tr>\n",
       "  </thead>\n",
       "  <tbody>\n",
       "    <tr>\n",
       "      <th>2020-05-30</th>\n",
       "      <td>181827</td>\n",
       "    </tr>\n",
       "    <tr>\n",
       "      <th>2020-05-31</th>\n",
       "      <td>190609</td>\n",
       "    </tr>\n",
       "    <tr>\n",
       "      <th>2020-06-01</th>\n",
       "      <td>198370</td>\n",
       "    </tr>\n",
       "    <tr>\n",
       "      <th>2020-06-02</th>\n",
       "      <td>207191</td>\n",
       "    </tr>\n",
       "    <tr>\n",
       "      <th>2020-06-03</th>\n",
       "      <td>216824</td>\n",
       "    </tr>\n",
       "  </tbody>\n",
       "</table>\n",
       "</div>"
      ],
      "text/plain": [
       "            confirmed\n",
       "2020-05-30     181827\n",
       "2020-05-31     190609\n",
       "2020-06-01     198370\n",
       "2020-06-02     207191\n",
       "2020-06-03     216824"
      ]
     },
     "execution_count": 18,
     "metadata": {},
     "output_type": "execute_result"
    }
   ],
   "source": [
    "#splitting data for training and testing\n",
    "train=df_new.iloc[:x]\n",
    "test = df_new.iloc[x:]\n",
    "train.tail()"
   ]
  },
  {
   "cell_type": "markdown",
   "metadata": {},
   "source": [
    "# As the time series dataset contains seasonality, so for making predictions we need to remove the seasonality in the data"
   ]
  },
  {
   "cell_type": "code",
   "execution_count": 19,
   "metadata": {},
   "outputs": [],
   "source": [
    "#removing trend and sesonality\n",
    "from statsmodels.tsa.seasonal import seasonal_decompose"
   ]
  },
  {
   "cell_type": "code",
   "execution_count": 20,
   "metadata": {},
   "outputs": [],
   "source": [
    "dcmp=seasonal_decompose(train)"
   ]
  },
  {
   "cell_type": "code",
   "execution_count": 21,
   "metadata": {},
   "outputs": [],
   "source": [
    "trend=dcmp.trend #The increasing or decreasing value in the series is called trend\n",
    "seasonal=dcmp.seasonal #The repeating short-term cycle in the series is called seasonality\n"
   ]
  },
  {
   "cell_type": "code",
   "execution_count": 22,
   "metadata": {},
   "outputs": [
    {
     "data": {
      "image/png": "[encoded data removed]",
      "text/plain": [
       "<Figure size 432x288 with 3 Axes>"
      ]
     },
     "metadata": {
      "needs_background": "light"
     },
     "output_type": "display_data"
    }
   ],
   "source": [
    "plt.subplot(411)\n",
    "plt.plot(train,label='Original')\n",
    "plt.legend(loc='best')\n",
    "plt.subplot(412)\n",
    "plt.plot(trend,label='Trend')\n",
    "plt.legend(loc='best')\n",
    "plt.subplot(413)\n",
    "plt.plot(seasonal,label='Seasonality')\n",
    "plt.legend(loc='best')\n",
    "\n",
    "# plt.rcParams['figure.figsize'] = [10, 5]\n",
    "plt.tight_layout()"
   ]
  },
  {
   "cell_type": "markdown",
   "metadata": {},
   "source": [
    "# data normalization"
   ]
  },
  {
   "cell_type": "code",
   "execution_count": 23,
   "metadata": {},
   "outputs": [],
   "source": [
    "#normalizing the data as the data is too skewed\n",
    "from sklearn.preprocessing import MinMaxScaler\n",
    "scaler = MinMaxScaler()"
   ]
  },
  {
   "cell_type": "markdown",
   "metadata": {},
   "source": [
    "# fit and transform using MinMaxScaler()"
   ]
  },
  {
   "cell_type": "code",
   "execution_count": 24,
   "metadata": {},
   "outputs": [
    {
     "data": {
      "text/plain": [
       "MinMaxScaler(copy=True, feature_range=(0, 1))"
      ]
     },
     "execution_count": 24,
     "metadata": {},
     "output_type": "execute_result"
    }
   ],
   "source": [
    "scaler.fit(train) #find max value"
   ]
  },
  {
   "cell_type": "code",
   "execution_count": 25,
   "metadata": {},
   "outputs": [
    {
     "name": "stdout",
     "output_type": "stream",
     "text": [
      "[[0.83859259]\n",
      " [0.87909549]\n",
      " [0.9148895 ]\n",
      " [0.95557226]\n",
      " [1.        ]]\n"
     ]
    }
   ],
   "source": [
    "scaled_train = scaler.transform(train)#and divide every point by max value\n",
    "scaled_test = scaler.transform(test)\n",
    "print(scaled_train[-5:])"
   ]
  },
  {
   "cell_type": "code",
   "execution_count": 26,
   "metadata": {},
   "outputs": [
    {
     "name": "stderr",
     "output_type": "stream",
     "text": [
      "Using TensorFlow backend.\n"
     ]
    }
   ],
   "source": [
    "# feed in batches [t1,t2,t3] --> t4\n",
    "from keras.preprocessing.sequence import TimeseriesGenerator"
   ]
  },
  {
   "cell_type": "code",
   "execution_count": 27,
   "metadata": {},
   "outputs": [
    {
     "data": {
      "text/plain": [
       "(134, 1)"
      ]
     },
     "execution_count": 27,
     "metadata": {},
     "output_type": "execute_result"
    }
   ],
   "source": [
    "scaled_train.shape"
   ]
  },
  {
   "cell_type": "code",
   "execution_count": 28,
   "metadata": {},
   "outputs": [],
   "source": [
    "#Time Series Generator-- Utility class for generating batches of temporal data in keras i.e. producing batches for training/validation from a regular time series data. These batches will be fed to train the model.\n",
    "# how to decide num of inputs , \n",
    "n_input = 5  # number of datapoints\n",
    "#batches would be [feed=[t1,t2,t3,t4,t5],predict=t6]\n",
    "n_features = 1 # number of features you want to predict (for univariate time series n_features=1)\n",
    "generator = TimeseriesGenerator(scaled_train,scaled_train,length = n_input,batch_size=1)\n"
   ]
  },
  {
   "cell_type": "code",
   "execution_count": 29,
   "metadata": {},
   "outputs": [
    {
     "data": {
      "text/plain": [
       "134"
      ]
     },
     "execution_count": 29,
     "metadata": {},
     "output_type": "execute_result"
    }
   ],
   "source": [
    "len(scaled_train)"
   ]
  },
  {
   "cell_type": "code",
   "execution_count": 30,
   "metadata": {},
   "outputs": [
    {
     "data": {
      "text/plain": [
       "129"
      ]
     },
     "execution_count": 30,
     "metadata": {},
     "output_type": "execute_result"
    }
   ],
   "source": [
    "len(generator)"
   ]
  },
  {
   "cell_type": "code",
   "execution_count": 31,
   "metadata": {},
   "outputs": [],
   "source": [
    "x,y = generator[50]"
   ]
  },
  {
   "cell_type": "code",
   "execution_count": 32,
   "metadata": {},
   "outputs": [
    {
     "data": {
      "text/plain": [
       "((1, 5, 1), (1, 1))"
      ]
     },
     "execution_count": 32,
     "metadata": {},
     "output_type": "execute_result"
    }
   ],
   "source": [
    "(x.shape,y.shape)"
   ]
  },
  {
   "cell_type": "code",
   "execution_count": 33,
   "metadata": {},
   "outputs": [
    {
     "data": {
      "text/plain": [
       "(array([[[0.00033668],\n",
       "         [0.00037819],\n",
       "         [0.00047043],\n",
       "         [0.00052116],\n",
       "         [0.00054883]]]), array([[0.00065491]]))"
      ]
     },
     "execution_count": 33,
     "metadata": {},
     "output_type": "execute_result"
    }
   ],
   "source": [
    "(x,y)"
   ]
  },
  {
   "cell_type": "code",
   "execution_count": 34,
   "metadata": {},
   "outputs": [
    {
     "data": {
      "text/plain": [
       "array([[0.00065491]])"
      ]
     },
     "execution_count": 34,
     "metadata": {},
     "output_type": "execute_result"
    }
   ],
   "source": [
    "y"
   ]
  },
  {
   "cell_type": "code",
   "execution_count": 35,
   "metadata": {},
   "outputs": [],
   "source": [
    "# above takes 5 inputs and predicts next point in scaled_train\n",
    "# smaller batch size leads to better trainig for time series"
   ]
  },
  {
   "cell_type": "markdown",
   "metadata": {},
   "source": [
    "# model building"
   ]
  },
  {
   "cell_type": "code",
   "execution_count": 36,
   "metadata": {},
   "outputs": [],
   "source": [
    "#using LSTM modelling\n",
    "from keras.models import Sequential\n",
    "from keras.layers import Dense, LSTM, Dropout, Activation"
   ]
  },
  {
   "cell_type": "code",
   "execution_count": 37,
   "metadata": {},
   "outputs": [],
   "source": [
    "model = Sequential()\n",
    "model.add(LSTM(150,activation=\"relu\",input_shape=(n_input,n_features))) #relu activation function\n",
    "model.add(Dense(75, activation='relu'))\n",
    "model.add(Dense(units=1))\n",
    "model.compile(optimizer=\"adam\",loss=\"mse\") #Adam optimizer"
   ]
  },
  {
   "cell_type": "code",
   "execution_count": 38,
   "metadata": {},
   "outputs": [
    {
     "name": "stdout",
     "output_type": "stream",
     "text": [
      "Model: \"sequential_1\"\n",
      "_________________________________________________________________\n",
      "Layer (type)                 Output Shape              Param #   \n",
      "=================================================================\n",
      "lstm_1 (LSTM)                (None, 150)               91200     \n",
      "_________________________________________________________________\n",
      "dense_1 (Dense)              (None, 75)                11325     \n",
      "_________________________________________________________________\n",
      "dense_2 (Dense)              (None, 1)                 76        \n",
      "=================================================================\n",
      "Total params: 102,601\n",
      "Trainable params: 102,601\n",
      "Non-trainable params: 0\n",
      "_________________________________________________________________\n"
     ]
    }
   ],
   "source": [
    "model.summary()"
   ]
  },
  {
   "cell_type": "code",
   "execution_count": 39,
   "metadata": {},
   "outputs": [
    {
     "data": {
      "text/plain": [
       "array([[6.54909051e-04],\n",
       "       [1.04560842e+00],\n",
       "       [1.08928901e+00],\n",
       "       [1.13742944e+00],\n",
       "       [1.18753459e+00],\n",
       "       [1.22646939e+00]])"
      ]
     },
     "execution_count": 39,
     "metadata": {},
     "output_type": "execute_result"
    }
   ],
   "source": [
    "#using validation set to calculate loss and MAPE\n",
    "validation_set = np.append(scaled_train[55],scaled_test) #validation set is equal to number of step size i.e. 5 \n",
    "validation_set=validation_set.reshape(6,1)\n",
    "validation_set"
   ]
  },
  {
   "cell_type": "code",
   "execution_count": 40,
   "metadata": {},
   "outputs": [],
   "source": [
    "## how to decide num of inputs , \n",
    "n_input = 5\n",
    "n_features = 1\n",
    "validation_gen = TimeseriesGenerator(validation_set,validation_set,length=5,batch_size=1)"
   ]
  },
  {
   "cell_type": "code",
   "execution_count": 41,
   "metadata": {},
   "outputs": [
    {
     "data": {
      "text/plain": [
       "((1, 5, 1), (1, 1))"
      ]
     },
     "execution_count": 41,
     "metadata": {},
     "output_type": "execute_result"
    }
   ],
   "source": [
    "validation_gen[0][0].shape,validation_gen[0][1].shape"
   ]
  },
  {
   "cell_type": "markdown",
   "metadata": {},
   "source": [
    "# Training the model"
   ]
  },
  {
   "cell_type": "code",
   "execution_count": 42,
   "metadata": {},
   "outputs": [],
   "source": [
    "from tensorflow.keras.callbacks import EarlyStopping #it help us know where our model stops learning.\n",
    "early_stop = EarlyStopping(monitor='val_loss',patience=20,restore_best_weights=True) #flag “restore_best_weights” takes the best weight from the iterations(where val loss is minimum)"
   ]
  },
  {
   "cell_type": "code",
   "execution_count": 43,
   "metadata": {},
   "outputs": [
    {
     "name": "stdout",
     "output_type": "stream",
     "text": [
      "Epoch 1/100\n",
      "10/10 [==============================] - 2s 151ms/step - loss: 0.0509 - val_loss: 1.3415\n",
      "Epoch 2/100\n",
      "10/10 [==============================] - 0s 5ms/step - loss: 0.1309 - val_loss: 0.9441\n",
      "Epoch 3/100\n",
      "10/10 [==============================] - 0s 8ms/step - loss: 0.0444 - val_loss: 0.6442\n",
      "Epoch 4/100\n",
      "10/10 [==============================] - 0s 10ms/step - loss: 0.0125 - val_loss: 0.3605\n",
      "Epoch 5/100\n",
      "10/10 [==============================] - 0s 10ms/step - loss: 0.0108 - val_loss: 0.1596\n",
      "Epoch 6/100\n",
      "10/10 [==============================] - 0s 10ms/step - loss: 0.0016 - val_loss: 0.0646\n",
      "Epoch 7/100\n",
      "10/10 [==============================] - 0s 10ms/step - loss: 0.0012 - val_loss: 0.0402\n",
      "Epoch 8/100\n",
      "10/10 [==============================] - 0s 10ms/step - loss: 3.1816e-04 - val_loss: 0.1115\n",
      "Epoch 9/100\n",
      "10/10 [==============================] - 0s 9ms/step - loss: 9.0171e-05 - val_loss: 0.1305\n",
      "Epoch 10/100\n",
      "10/10 [==============================] - 0s 10ms/step - loss: 6.6336e-05 - val_loss: 0.1408\n",
      "Epoch 11/100\n",
      "10/10 [==============================] - 0s 10ms/step - loss: 1.0672e-04 - val_loss: 0.1263\n",
      "Epoch 12/100\n",
      "10/10 [==============================] - 0s 10ms/step - loss: 0.0018 - val_loss: 0.0454\n",
      "Epoch 13/100\n",
      "10/10 [==============================] - 0s 10ms/step - loss: 0.0010 - val_loss: 0.0802\n",
      "Epoch 14/100\n",
      "10/10 [==============================] - 0s 10ms/step - loss: 1.4546e-04 - val_loss: 0.0638\n",
      "Epoch 15/100\n",
      "10/10 [==============================] - 0s 10ms/step - loss: 1.6690e-04 - val_loss: 0.0662\n",
      "Epoch 16/100\n",
      "10/10 [==============================] - 0s 10ms/step - loss: 1.5949e-04 - val_loss: 0.0657\n",
      "Epoch 17/100\n",
      "10/10 [==============================] - 0s 10ms/step - loss: 9.6608e-05 - val_loss: 0.0538\n",
      "Epoch 18/100\n",
      "10/10 [==============================] - 0s 10ms/step - loss: 5.9273e-05 - val_loss: 0.0591\n",
      "Epoch 19/100\n",
      "10/10 [==============================] - 0s 10ms/step - loss: 1.9287e-04 - val_loss: 0.0607\n",
      "Epoch 20/100\n",
      "10/10 [==============================] - 0s 10ms/step - loss: 5.3806e-05 - val_loss: 0.0697\n",
      "Epoch 21/100\n",
      "10/10 [==============================] - 0s 10ms/step - loss: 6.6110e-05 - val_loss: 0.0552\n",
      "Epoch 22/100\n",
      "10/10 [==============================] - 0s 9ms/step - loss: 7.6660e-05 - val_loss: 0.0564\n",
      "Epoch 23/100\n",
      "10/10 [==============================] - 0s 10ms/step - loss: 1.1467e-04 - val_loss: 0.0625\n",
      "Epoch 24/100\n",
      "10/10 [==============================] - 0s 10ms/step - loss: 8.3860e-05 - val_loss: 0.0647\n",
      "Epoch 25/100\n",
      "10/10 [==============================] - 0s 10ms/step - loss: 6.4117e-05 - val_loss: 0.0616\n",
      "Epoch 26/100\n",
      "10/10 [==============================] - 0s 10ms/step - loss: 3.0905e-05 - val_loss: 0.0545\n",
      "Epoch 27/100\n",
      "10/10 [==============================] - 0s 10ms/step - loss: 9.6645e-05 - val_loss: 0.0584\n"
     ]
    },
    {
     "data": {
      "text/plain": [
       "<keras.callbacks.callbacks.History at 0x26b9f6f8240>"
      ]
     },
     "execution_count": 43,
     "metadata": {},
     "output_type": "execute_result"
    }
   ],
   "source": [
    "model.fit_generator(generator,validation_data=validation_gen,epochs=100,callbacks=[early_stop],steps_per_epoch=10)"
   ]
  },
  {
   "cell_type": "markdown",
   "metadata": {},
   "source": [
    "# Checking Model Performance"
   ]
  },
  {
   "cell_type": "code",
   "execution_count": 44,
   "metadata": {},
   "outputs": [
    {
     "data": {
      "text/plain": [
       "<matplotlib.axes._subplots.AxesSubplot at 0x26b9f9f4fd0>"
      ]
     },
     "execution_count": 44,
     "metadata": {},
     "output_type": "execute_result"
    },
    {
     "data": {
      "image/png": "[encoded data removed]",
      "text/plain": [
       "<Figure size 432x288 with 1 Axes>"
      ]
     },
     "metadata": {
      "needs_background": "light"
     },
     "output_type": "display_data"
    }
   ],
   "source": [
    "pd.DataFrame(model.history.history).plot(title=\"loss vs epochs curve\") #learning curves"
   ]
  },
  {
   "cell_type": "code",
   "execution_count": 45,
   "metadata": {},
   "outputs": [],
   "source": [
    "#The model looks good as training loss and validation loss are overlapping at a minimal value. "
   ]
  },
  {
   "cell_type": "code",
   "execution_count": 46,
   "metadata": {},
   "outputs": [
    {
     "data": {
      "text/plain": [
       "dict_keys(['val_loss', 'loss'])"
      ]
     },
     "execution_count": 46,
     "metadata": {},
     "output_type": "execute_result"
    }
   ],
   "source": [
    "model.history.history.keys()"
   ]
  },
  {
   "cell_type": "code",
   "execution_count": 47,
   "metadata": {},
   "outputs": [
    {
     "data": {
      "text/plain": [
       "[<matplotlib.lines.Line2D at 0x26ba0e69f60>]"
      ]
     },
     "execution_count": 47,
     "metadata": {},
     "output_type": "execute_result"
    },
    {
     "data": {
      "image/png": "[encoded data removed]",
      "text/plain": [
       "<Figure size 432x288 with 1 Axes>"
      ]
     },
     "metadata": {
      "needs_background": "light"
     },
     "output_type": "display_data"
    }
   ],
   "source": [
    "#looking at both loss and validation seperately.\n",
    "myloss = model.history.history[\"val_loss\"]\n",
    "plt.title(\"validation loss vs epochs\")\n",
    "plt.plot(range(len(myloss)),myloss)"
   ]
  },
  {
   "cell_type": "markdown",
   "metadata": {},
   "source": [
    "# forecasting the outbreak"
   ]
  },
  {
   "cell_type": "code",
   "execution_count": 48,
   "metadata": {},
   "outputs": [],
   "source": [
    "### evaluation batch\n",
    "## 5 history steps --> step 6\n",
    "## last 5 point train predicts point 1 of test data"
   ]
  },
  {
   "cell_type": "code",
   "execution_count": 49,
   "metadata": {},
   "outputs": [
    {
     "data": {
      "text/plain": [
       "(1, 5, 1)"
      ]
     },
     "execution_count": 49,
     "metadata": {},
     "output_type": "execute_result"
    }
   ],
   "source": [
    "# holding predictions\n",
    "test_prediction = []\n",
    "#last n points from training set\n",
    "first_eval_batch = scaled_train[-n_input:]\n",
    "current_batch = first_eval_batch.reshape(1,n_input,n_features)\n",
    "current_batch.shape"
   ]
  },
  {
   "cell_type": "code",
   "execution_count": 50,
   "metadata": {},
   "outputs": [
    {
     "data": {
      "text/plain": [
       "[array([1.1100379], dtype=float32),\n",
       " array([1.1713121], dtype=float32),\n",
       " array([1.2392673], dtype=float32),\n",
       " array([1.3174348], dtype=float32),\n",
       " array([1.4077554], dtype=float32),\n",
       " array([1.5126632], dtype=float32),\n",
       " array([1.6158783], dtype=float32),\n",
       " array([1.7335178], dtype=float32),\n",
       " array([1.8689193], dtype=float32),\n",
       " array([2.0250814], dtype=float32),\n",
       " array([2.2057142], dtype=float32),\n",
       " array([2.4156506], dtype=float32)]"
      ]
     },
     "execution_count": 50,
     "metadata": {},
     "output_type": "execute_result"
    }
   ],
   "source": [
    "# how far in future we can predict\n",
    "for i in range(len(test)+7):\n",
    "    current_pred = model.predict(current_batch)[0]\n",
    "    test_prediction.append(current_pred)\n",
    "    current_batch = np.append(current_batch[:,1:,:],[[current_pred]],axis=1)\n",
    "test_prediction"
   ]
  },
  {
   "cell_type": "markdown",
   "metadata": {},
   "source": [
    "# making output readable to make insights"
   ]
  },
  {
   "cell_type": "code",
   "execution_count": 51,
   "metadata": {},
   "outputs": [
    {
     "data": {
      "text/plain": [
       "array([240682.86258602, 253968.57341194, 268702.9037323 , 285651.48041916,\n",
       "       305235.15140915, 327981.69547749, 350361.20596886, 375868.25609493,\n",
       "       405226.54818821, 439086.24862862, 478251.78128815, 523771.02702904])"
      ]
     },
     "execution_count": 51,
     "metadata": {},
     "output_type": "execute_result"
    }
   ],
   "source": [
    "# inverse scaled data\n",
    "true_prediction = scaler.inverse_transform(test_prediction)\n",
    "true_prediction[:,0]"
   ]
  },
  {
   "cell_type": "code",
   "execution_count": 52,
   "metadata": {},
   "outputs": [
    {
     "data": {
      "text/plain": [
       "DatetimeIndex(['2020-06-04', '2020-06-05', '2020-06-06', '2020-06-07',\n",
       "               '2020-06-08', '2020-06-09', '2020-06-10', '2020-06-11',\n",
       "               '2020-06-12', '2020-06-13', '2020-06-14', '2020-06-15'],\n",
       "              dtype='datetime64[ns]', freq=None)"
      ]
     },
     "execution_count": 52,
     "metadata": {},
     "output_type": "execute_result"
    }
   ],
   "source": [
    "time_series_array = test.index\n",
    "for k in range(0,7):\n",
    "    time_series_array = time_series_array.append(time_series_array[-1:] + pd.DateOffset(1))\n",
    "time_series_array"
   ]
  },
  {
   "cell_type": "code",
   "execution_count": 53,
   "metadata": {},
   "outputs": [
    {
     "data": {
      "text/html": [
       "<div>\n",
       "<style scoped>\n",
       "    .dataframe tbody tr th:only-of-type {\n",
       "        vertical-align: middle;\n",
       "    }\n",
       "\n",
       "    .dataframe tbody tr th {\n",
       "        vertical-align: top;\n",
       "    }\n",
       "\n",
       "    .dataframe thead th {\n",
       "        text-align: right;\n",
       "    }\n",
       "</style>\n",
       "<table border=\"1\" class=\"dataframe\">\n",
       "  <thead>\n",
       "    <tr style=\"text-align: right;\">\n",
       "      <th></th>\n",
       "      <th>confirmed</th>\n",
       "      <th>confirmed_predicted</th>\n",
       "    </tr>\n",
       "  </thead>\n",
       "  <tbody>\n",
       "    <tr>\n",
       "      <th>2020-06-04</th>\n",
       "      <td>NaN</td>\n",
       "      <td>NaN</td>\n",
       "    </tr>\n",
       "    <tr>\n",
       "      <th>2020-06-05</th>\n",
       "      <td>NaN</td>\n",
       "      <td>NaN</td>\n",
       "    </tr>\n",
       "    <tr>\n",
       "      <th>2020-06-06</th>\n",
       "      <td>NaN</td>\n",
       "      <td>NaN</td>\n",
       "    </tr>\n",
       "    <tr>\n",
       "      <th>2020-06-07</th>\n",
       "      <td>NaN</td>\n",
       "      <td>NaN</td>\n",
       "    </tr>\n",
       "    <tr>\n",
       "      <th>2020-06-08</th>\n",
       "      <td>NaN</td>\n",
       "      <td>NaN</td>\n",
       "    </tr>\n",
       "    <tr>\n",
       "      <th>2020-06-09</th>\n",
       "      <td>NaN</td>\n",
       "      <td>NaN</td>\n",
       "    </tr>\n",
       "    <tr>\n",
       "      <th>2020-06-10</th>\n",
       "      <td>NaN</td>\n",
       "      <td>NaN</td>\n",
       "    </tr>\n",
       "    <tr>\n",
       "      <th>2020-06-11</th>\n",
       "      <td>NaN</td>\n",
       "      <td>NaN</td>\n",
       "    </tr>\n",
       "    <tr>\n",
       "      <th>2020-06-12</th>\n",
       "      <td>NaN</td>\n",
       "      <td>NaN</td>\n",
       "    </tr>\n",
       "    <tr>\n",
       "      <th>2020-06-13</th>\n",
       "      <td>NaN</td>\n",
       "      <td>NaN</td>\n",
       "    </tr>\n",
       "    <tr>\n",
       "      <th>2020-06-14</th>\n",
       "      <td>NaN</td>\n",
       "      <td>NaN</td>\n",
       "    </tr>\n",
       "    <tr>\n",
       "      <th>2020-06-15</th>\n",
       "      <td>NaN</td>\n",
       "      <td>NaN</td>\n",
       "    </tr>\n",
       "  </tbody>\n",
       "</table>\n",
       "</div>"
      ],
      "text/plain": [
       "           confirmed confirmed_predicted\n",
       "2020-06-04       NaN                 NaN\n",
       "2020-06-05       NaN                 NaN\n",
       "2020-06-06       NaN                 NaN\n",
       "2020-06-07       NaN                 NaN\n",
       "2020-06-08       NaN                 NaN\n",
       "2020-06-09       NaN                 NaN\n",
       "2020-06-10       NaN                 NaN\n",
       "2020-06-11       NaN                 NaN\n",
       "2020-06-12       NaN                 NaN\n",
       "2020-06-13       NaN                 NaN\n",
       "2020-06-14       NaN                 NaN\n",
       "2020-06-15       NaN                 NaN"
      ]
     },
     "execution_count": 53,
     "metadata": {},
     "output_type": "execute_result"
    }
   ],
   "source": [
    "#Restructuring the array to a readable pandas dataframe.\n",
    "df_forecast = pd.DataFrame(columns=[\"confirmed\",\"confirmed_predicted\"],index=time_series_array)\n",
    "df_forecast"
   ]
  },
  {
   "cell_type": "code",
   "execution_count": 54,
   "metadata": {},
   "outputs": [
    {
     "data": {
      "text/html": [
       "<div>\n",
       "<style scoped>\n",
       "    .dataframe tbody tr th:only-of-type {\n",
       "        vertical-align: middle;\n",
       "    }\n",
       "\n",
       "    .dataframe tbody tr th {\n",
       "        vertical-align: top;\n",
       "    }\n",
       "\n",
       "    .dataframe thead th {\n",
       "        text-align: right;\n",
       "    }\n",
       "</style>\n",
       "<table border=\"1\" class=\"dataframe\">\n",
       "  <thead>\n",
       "    <tr style=\"text-align: right;\">\n",
       "      <th></th>\n",
       "      <th>confirmed</th>\n",
       "      <th>confirmed_predicted</th>\n",
       "    </tr>\n",
       "  </thead>\n",
       "  <tbody>\n",
       "    <tr>\n",
       "      <th>2020-06-04</th>\n",
       "      <td>226713.0</td>\n",
       "      <td>240682.862586</td>\n",
       "    </tr>\n",
       "    <tr>\n",
       "      <th>2020-06-05</th>\n",
       "      <td>236184.0</td>\n",
       "      <td>253968.573412</td>\n",
       "    </tr>\n",
       "    <tr>\n",
       "      <th>2020-06-06</th>\n",
       "      <td>246622.0</td>\n",
       "      <td>268702.903732</td>\n",
       "    </tr>\n",
       "    <tr>\n",
       "      <th>2020-06-07</th>\n",
       "      <td>257486.0</td>\n",
       "      <td>285651.480419</td>\n",
       "    </tr>\n",
       "    <tr>\n",
       "      <th>2020-06-08</th>\n",
       "      <td>265928.0</td>\n",
       "      <td>305235.151409</td>\n",
       "    </tr>\n",
       "    <tr>\n",
       "      <th>2020-06-09</th>\n",
       "      <td>NaN</td>\n",
       "      <td>327981.695477</td>\n",
       "    </tr>\n",
       "    <tr>\n",
       "      <th>2020-06-10</th>\n",
       "      <td>NaN</td>\n",
       "      <td>350361.205969</td>\n",
       "    </tr>\n",
       "    <tr>\n",
       "      <th>2020-06-11</th>\n",
       "      <td>NaN</td>\n",
       "      <td>375868.256095</td>\n",
       "    </tr>\n",
       "    <tr>\n",
       "      <th>2020-06-12</th>\n",
       "      <td>NaN</td>\n",
       "      <td>405226.548188</td>\n",
       "    </tr>\n",
       "    <tr>\n",
       "      <th>2020-06-13</th>\n",
       "      <td>NaN</td>\n",
       "      <td>439086.248629</td>\n",
       "    </tr>\n",
       "    <tr>\n",
       "      <th>2020-06-14</th>\n",
       "      <td>NaN</td>\n",
       "      <td>478251.781288</td>\n",
       "    </tr>\n",
       "    <tr>\n",
       "      <th>2020-06-15</th>\n",
       "      <td>NaN</td>\n",
       "      <td>523771.027029</td>\n",
       "    </tr>\n",
       "  </tbody>\n",
       "</table>\n",
       "</div>"
      ],
      "text/plain": [
       "            confirmed  confirmed_predicted\n",
       "2020-06-04   226713.0        240682.862586\n",
       "2020-06-05   236184.0        253968.573412\n",
       "2020-06-06   246622.0        268702.903732\n",
       "2020-06-07   257486.0        285651.480419\n",
       "2020-06-08   265928.0        305235.151409\n",
       "2020-06-09        NaN        327981.695477\n",
       "2020-06-10        NaN        350361.205969\n",
       "2020-06-11        NaN        375868.256095\n",
       "2020-06-12        NaN        405226.548188\n",
       "2020-06-13        NaN        439086.248629\n",
       "2020-06-14        NaN        478251.781288\n",
       "2020-06-15        NaN        523771.027029"
      ]
     },
     "execution_count": 54,
     "metadata": {},
     "output_type": "execute_result"
    }
   ],
   "source": [
    "df_forecast.loc[:,\"confirmed_predicted\"] = true_prediction[:,0]\n",
    "df_forecast.loc[:,\"confirmed\"] = test[\"confirmed\"]\n",
    "df_forecast"
   ]
  },
  {
   "cell_type": "code",
   "execution_count": 55,
   "metadata": {},
   "outputs": [
    {
     "data": {
      "text/plain": [
       "<matplotlib.axes._subplots.AxesSubplot at 0x26ba0f0f358>"
      ]
     },
     "execution_count": 55,
     "metadata": {},
     "output_type": "execute_result"
    },
    {
     "data": {
      "image/png": "[encoded data removed]",
      "text/plain": [
       "<Figure size 432x288 with 1 Axes>"
      ]
     },
     "metadata": {
      "needs_background": "light"
     },
     "output_type": "display_data"
    }
   ],
   "source": [
    "#Plotting the curve for original and predicted data\n",
    "df_forecast.plot(title=\"India Predictions for next 7 days\")"
   ]
  },
  {
   "cell_type": "markdown",
   "metadata": {},
   "source": [
    "# MAPE- measure of prediction accuracy of a forecasting method in statistics"
   ]
  },
  {
   "cell_type": "code",
   "execution_count": 56,
   "metadata": {},
   "outputs": [
    {
     "name": "stdout",
     "output_type": "stream",
     "text": [
      "MAPE is 9.67299806995242 %\n"
     ]
    }
   ],
   "source": [
    "#Mean Absolute Percentage error(MAPE)\n",
    "MAPE = np.mean(np.abs(np.array(df_forecast[\"confirmed\"][:5]) - np.array(df_forecast[\"confirmed_predicted\"][:5]))/np.array(df_forecast[\"confirmed\"][:5]))\n",
    "print(\"MAPE is \" + str(MAPE*100) + \" %\")"
   ]
  },
  {
   "cell_type": "markdown",
   "metadata": {},
   "source": [
    "# MSE"
   ]
  },
  {
   "cell_type": "code",
   "execution_count": 57,
   "metadata": {},
   "outputs": [
    {
     "data": {
      "text/plain": [
       "3337360860.895953"
      ]
     },
     "execution_count": 57,
     "metadata": {},
     "output_type": "execute_result"
    }
   ],
   "source": [
    "sum_errs = np.sum((np.array(df_forecast[\"confirmed\"][:5]) - np.array(df_forecast[\"confirmed_predicted\"][:5]))**2)\n",
    "sum_errs"
   ]
  },
  {
   "cell_type": "code",
   "execution_count": 58,
   "metadata": {},
   "outputs": [
    {
     "data": {
      "text/plain": [
       "33353.46489195165"
      ]
     },
     "execution_count": 58,
     "metadata": {},
     "output_type": "execute_result"
    }
   ],
   "source": [
    "stdev = np.sqrt(1/(5-2) * sum_errs)\n",
    "stdev"
   ]
  },
  {
   "cell_type": "code",
   "execution_count": 59,
   "metadata": {},
   "outputs": [
    {
     "data": {
      "text/plain": [
       "65372.79118822523"
      ]
     },
     "execution_count": 59,
     "metadata": {},
     "output_type": "execute_result"
    }
   ],
   "source": [
    "# calculate prediction interval\n",
    "interval = 1.96 * stdev\n",
    "interval"
   ]
  },
  {
   "cell_type": "code",
   "execution_count": 60,
   "metadata": {},
   "outputs": [
    {
     "data": {
      "text/html": [
       "<div>\n",
       "<style scoped>\n",
       "    .dataframe tbody tr th:only-of-type {\n",
       "        vertical-align: middle;\n",
       "    }\n",
       "\n",
       "    .dataframe tbody tr th {\n",
       "        vertical-align: top;\n",
       "    }\n",
       "\n",
       "    .dataframe thead th {\n",
       "        text-align: right;\n",
       "    }\n",
       "</style>\n",
       "<table border=\"1\" class=\"dataframe\">\n",
       "  <thead>\n",
       "    <tr style=\"text-align: right;\">\n",
       "      <th></th>\n",
       "      <th>confirmed</th>\n",
       "      <th>confirmed_predicted</th>\n",
       "      <th>confirm_min</th>\n",
       "      <th>confirm_max</th>\n",
       "    </tr>\n",
       "  </thead>\n",
       "  <tbody>\n",
       "    <tr>\n",
       "      <th>2020-06-04</th>\n",
       "      <td>226713.0</td>\n",
       "      <td>240682.862586</td>\n",
       "      <td>175310.071398</td>\n",
       "      <td>306055.653774</td>\n",
       "    </tr>\n",
       "    <tr>\n",
       "      <th>2020-06-05</th>\n",
       "      <td>236184.0</td>\n",
       "      <td>253968.573412</td>\n",
       "      <td>188595.782224</td>\n",
       "      <td>319341.364600</td>\n",
       "    </tr>\n",
       "    <tr>\n",
       "      <th>2020-06-06</th>\n",
       "      <td>246622.0</td>\n",
       "      <td>268702.903732</td>\n",
       "      <td>203330.112544</td>\n",
       "      <td>334075.694921</td>\n",
       "    </tr>\n",
       "    <tr>\n",
       "      <th>2020-06-07</th>\n",
       "      <td>257486.0</td>\n",
       "      <td>285651.480419</td>\n",
       "      <td>220278.689231</td>\n",
       "      <td>351024.271607</td>\n",
       "    </tr>\n",
       "    <tr>\n",
       "      <th>2020-06-08</th>\n",
       "      <td>265928.0</td>\n",
       "      <td>305235.151409</td>\n",
       "      <td>239862.360221</td>\n",
       "      <td>370607.942597</td>\n",
       "    </tr>\n",
       "    <tr>\n",
       "      <th>2020-06-09</th>\n",
       "      <td>NaN</td>\n",
       "      <td>327981.695477</td>\n",
       "      <td>262608.904289</td>\n",
       "      <td>393354.486666</td>\n",
       "    </tr>\n",
       "    <tr>\n",
       "      <th>2020-06-10</th>\n",
       "      <td>NaN</td>\n",
       "      <td>350361.205969</td>\n",
       "      <td>284988.414781</td>\n",
       "      <td>415733.997157</td>\n",
       "    </tr>\n",
       "    <tr>\n",
       "      <th>2020-06-11</th>\n",
       "      <td>NaN</td>\n",
       "      <td>375868.256095</td>\n",
       "      <td>310495.464907</td>\n",
       "      <td>441241.047283</td>\n",
       "    </tr>\n",
       "    <tr>\n",
       "      <th>2020-06-12</th>\n",
       "      <td>NaN</td>\n",
       "      <td>405226.548188</td>\n",
       "      <td>339853.757000</td>\n",
       "      <td>470599.339376</td>\n",
       "    </tr>\n",
       "    <tr>\n",
       "      <th>2020-06-13</th>\n",
       "      <td>NaN</td>\n",
       "      <td>439086.248629</td>\n",
       "      <td>373713.457440</td>\n",
       "      <td>504459.039817</td>\n",
       "    </tr>\n",
       "    <tr>\n",
       "      <th>2020-06-14</th>\n",
       "      <td>NaN</td>\n",
       "      <td>478251.781288</td>\n",
       "      <td>412878.990100</td>\n",
       "      <td>543624.572476</td>\n",
       "    </tr>\n",
       "    <tr>\n",
       "      <th>2020-06-15</th>\n",
       "      <td>NaN</td>\n",
       "      <td>523771.027029</td>\n",
       "      <td>458398.235841</td>\n",
       "      <td>589143.818217</td>\n",
       "    </tr>\n",
       "  </tbody>\n",
       "</table>\n",
       "</div>"
      ],
      "text/plain": [
       "            confirmed  confirmed_predicted    confirm_min    confirm_max\n",
       "2020-06-04   226713.0        240682.862586  175310.071398  306055.653774\n",
       "2020-06-05   236184.0        253968.573412  188595.782224  319341.364600\n",
       "2020-06-06   246622.0        268702.903732  203330.112544  334075.694921\n",
       "2020-06-07   257486.0        285651.480419  220278.689231  351024.271607\n",
       "2020-06-08   265928.0        305235.151409  239862.360221  370607.942597\n",
       "2020-06-09        NaN        327981.695477  262608.904289  393354.486666\n",
       "2020-06-10        NaN        350361.205969  284988.414781  415733.997157\n",
       "2020-06-11        NaN        375868.256095  310495.464907  441241.047283\n",
       "2020-06-12        NaN        405226.548188  339853.757000  470599.339376\n",
       "2020-06-13        NaN        439086.248629  373713.457440  504459.039817\n",
       "2020-06-14        NaN        478251.781288  412878.990100  543624.572476\n",
       "2020-06-15        NaN        523771.027029  458398.235841  589143.818217"
      ]
     },
     "execution_count": 60,
     "metadata": {},
     "output_type": "execute_result"
    }
   ],
   "source": [
    "df_forecast[\"confirm_min\"] = df_forecast[\"confirmed_predicted\"] - interval\n",
    "df_forecast[\"confirm_max\"] = df_forecast[\"confirmed_predicted\"] + interval\n",
    "df_forecast"
   ]
  },
  {
   "cell_type": "code",
   "execution_count": 68,
   "metadata": {},
   "outputs": [
    {
     "data": {
      "text/html": [
       "<div>\n",
       "<style scoped>\n",
       "    .dataframe tbody tr th:only-of-type {\n",
       "        vertical-align: middle;\n",
       "    }\n",
       "\n",
       "    .dataframe tbody tr th {\n",
       "        vertical-align: top;\n",
       "    }\n",
       "\n",
       "    .dataframe thead th {\n",
       "        text-align: right;\n",
       "    }\n",
       "</style>\n",
       "<table border=\"1\" class=\"dataframe\">\n",
       "  <thead>\n",
       "    <tr style=\"text-align: right;\">\n",
       "      <th></th>\n",
       "      <th>confirmed</th>\n",
       "      <th>confirmed_predicted</th>\n",
       "      <th>confirm_min</th>\n",
       "      <th>confirm_max</th>\n",
       "      <th>Model Accuracy</th>\n",
       "      <th>Country</th>\n",
       "      <th>Execution date</th>\n",
       "    </tr>\n",
       "  </thead>\n",
       "  <tbody>\n",
       "    <tr>\n",
       "      <th>2020-06-04</th>\n",
       "      <td>226713.0</td>\n",
       "      <td>240682.862586</td>\n",
       "      <td>175310.071398</td>\n",
       "      <td>306055.653774</td>\n",
       "      <td>90.33</td>\n",
       "      <td>India</td>\n",
       "      <td>2020-06-09</td>\n",
       "    </tr>\n",
       "    <tr>\n",
       "      <th>2020-06-05</th>\n",
       "      <td>236184.0</td>\n",
       "      <td>253968.573412</td>\n",
       "      <td>188595.782224</td>\n",
       "      <td>319341.364600</td>\n",
       "      <td>90.33</td>\n",
       "      <td>India</td>\n",
       "      <td>2020-06-09</td>\n",
       "    </tr>\n",
       "    <tr>\n",
       "      <th>2020-06-06</th>\n",
       "      <td>246622.0</td>\n",
       "      <td>268702.903732</td>\n",
       "      <td>203330.112544</td>\n",
       "      <td>334075.694921</td>\n",
       "      <td>90.33</td>\n",
       "      <td>India</td>\n",
       "      <td>2020-06-09</td>\n",
       "    </tr>\n",
       "    <tr>\n",
       "      <th>2020-06-07</th>\n",
       "      <td>257486.0</td>\n",
       "      <td>285651.480419</td>\n",
       "      <td>220278.689231</td>\n",
       "      <td>351024.271607</td>\n",
       "      <td>90.33</td>\n",
       "      <td>India</td>\n",
       "      <td>2020-06-09</td>\n",
       "    </tr>\n",
       "    <tr>\n",
       "      <th>2020-06-08</th>\n",
       "      <td>265928.0</td>\n",
       "      <td>305235.151409</td>\n",
       "      <td>239862.360221</td>\n",
       "      <td>370607.942597</td>\n",
       "      <td>90.33</td>\n",
       "      <td>India</td>\n",
       "      <td>2020-06-09</td>\n",
       "    </tr>\n",
       "    <tr>\n",
       "      <th>2020-06-09</th>\n",
       "      <td>NaN</td>\n",
       "      <td>327981.695477</td>\n",
       "      <td>262608.904289</td>\n",
       "      <td>393354.486666</td>\n",
       "      <td>90.33</td>\n",
       "      <td>India</td>\n",
       "      <td>2020-06-09</td>\n",
       "    </tr>\n",
       "    <tr>\n",
       "      <th>2020-06-10</th>\n",
       "      <td>NaN</td>\n",
       "      <td>350361.205969</td>\n",
       "      <td>284988.414781</td>\n",
       "      <td>415733.997157</td>\n",
       "      <td>90.33</td>\n",
       "      <td>India</td>\n",
       "      <td>2020-06-09</td>\n",
       "    </tr>\n",
       "    <tr>\n",
       "      <th>2020-06-11</th>\n",
       "      <td>NaN</td>\n",
       "      <td>375868.256095</td>\n",
       "      <td>310495.464907</td>\n",
       "      <td>441241.047283</td>\n",
       "      <td>90.33</td>\n",
       "      <td>India</td>\n",
       "      <td>2020-06-09</td>\n",
       "    </tr>\n",
       "    <tr>\n",
       "      <th>2020-06-12</th>\n",
       "      <td>NaN</td>\n",
       "      <td>405226.548188</td>\n",
       "      <td>339853.757000</td>\n",
       "      <td>470599.339376</td>\n",
       "      <td>90.33</td>\n",
       "      <td>India</td>\n",
       "      <td>2020-06-09</td>\n",
       "    </tr>\n",
       "    <tr>\n",
       "      <th>2020-06-13</th>\n",
       "      <td>NaN</td>\n",
       "      <td>439086.248629</td>\n",
       "      <td>373713.457440</td>\n",
       "      <td>504459.039817</td>\n",
       "      <td>90.33</td>\n",
       "      <td>India</td>\n",
       "      <td>2020-06-09</td>\n",
       "    </tr>\n",
       "    <tr>\n",
       "      <th>2020-06-14</th>\n",
       "      <td>NaN</td>\n",
       "      <td>478251.781288</td>\n",
       "      <td>412878.990100</td>\n",
       "      <td>543624.572476</td>\n",
       "      <td>90.33</td>\n",
       "      <td>India</td>\n",
       "      <td>2020-06-09</td>\n",
       "    </tr>\n",
       "    <tr>\n",
       "      <th>2020-06-15</th>\n",
       "      <td>NaN</td>\n",
       "      <td>523771.027029</td>\n",
       "      <td>458398.235841</td>\n",
       "      <td>589143.818217</td>\n",
       "      <td>90.33</td>\n",
       "      <td>India</td>\n",
       "      <td>2020-06-09</td>\n",
       "    </tr>\n",
       "  </tbody>\n",
       "</table>\n",
       "</div>"
      ],
      "text/plain": [
       "            confirmed  confirmed_predicted    confirm_min    confirm_max  \\\n",
       "2020-06-04   226713.0        240682.862586  175310.071398  306055.653774   \n",
       "2020-06-05   236184.0        253968.573412  188595.782224  319341.364600   \n",
       "2020-06-06   246622.0        268702.903732  203330.112544  334075.694921   \n",
       "2020-06-07   257486.0        285651.480419  220278.689231  351024.271607   \n",
       "2020-06-08   265928.0        305235.151409  239862.360221  370607.942597   \n",
       "2020-06-09        NaN        327981.695477  262608.904289  393354.486666   \n",
       "2020-06-10        NaN        350361.205969  284988.414781  415733.997157   \n",
       "2020-06-11        NaN        375868.256095  310495.464907  441241.047283   \n",
       "2020-06-12        NaN        405226.548188  339853.757000  470599.339376   \n",
       "2020-06-13        NaN        439086.248629  373713.457440  504459.039817   \n",
       "2020-06-14        NaN        478251.781288  412878.990100  543624.572476   \n",
       "2020-06-15        NaN        523771.027029  458398.235841  589143.818217   \n",
       "\n",
       "            Model Accuracy Country Execution date  \n",
       "2020-06-04           90.33   India     2020-06-09  \n",
       "2020-06-05           90.33   India     2020-06-09  \n",
       "2020-06-06           90.33   India     2020-06-09  \n",
       "2020-06-07           90.33   India     2020-06-09  \n",
       "2020-06-08           90.33   India     2020-06-09  \n",
       "2020-06-09           90.33   India     2020-06-09  \n",
       "2020-06-10           90.33   India     2020-06-09  \n",
       "2020-06-11           90.33   India     2020-06-09  \n",
       "2020-06-12           90.33   India     2020-06-09  \n",
       "2020-06-13           90.33   India     2020-06-09  \n",
       "2020-06-14           90.33   India     2020-06-09  \n",
       "2020-06-15           90.33   India     2020-06-09  "
      ]
     },
     "execution_count": 68,
     "metadata": {},
     "output_type": "execute_result"
    }
   ],
   "source": [
    "# df_forecast[\"Model Accuracy\"] = round((1-MAPE),2)\n",
    "df_forecast[\"Model Accuracy\"] = round((float(1-MAPE)*100),2)\n",
    "df_forecast"
   ]
  },
  {
   "cell_type": "markdown",
   "metadata": {},
   "source": [
    "# Output Table and Plot"
   ]
  },
  {
   "cell_type": "code",
   "execution_count": 69,
   "metadata": {},
   "outputs": [
    {
     "data": {
      "text/html": [
       "<div>\n",
       "<style scoped>\n",
       "    .dataframe tbody tr th:only-of-type {\n",
       "        vertical-align: middle;\n",
       "    }\n",
       "\n",
       "    .dataframe tbody tr th {\n",
       "        vertical-align: top;\n",
       "    }\n",
       "\n",
       "    .dataframe thead th {\n",
       "        text-align: right;\n",
       "    }\n",
       "</style>\n",
       "<table border=\"1\" class=\"dataframe\">\n",
       "  <thead>\n",
       "    <tr style=\"text-align: right;\">\n",
       "      <th></th>\n",
       "      <th>confirmed</th>\n",
       "      <th>confirmed_predicted</th>\n",
       "      <th>confirm_min</th>\n",
       "      <th>confirm_max</th>\n",
       "      <th>Model Accuracy</th>\n",
       "      <th>Country</th>\n",
       "      <th>Execution date</th>\n",
       "    </tr>\n",
       "  </thead>\n",
       "  <tbody>\n",
       "    <tr>\n",
       "      <th>2020-06-04</th>\n",
       "      <td>226713.0</td>\n",
       "      <td>240682.862586</td>\n",
       "      <td>175310.071398</td>\n",
       "      <td>306055.653774</td>\n",
       "      <td>90.33</td>\n",
       "      <td>India</td>\n",
       "      <td>2020-06-09</td>\n",
       "    </tr>\n",
       "    <tr>\n",
       "      <th>2020-06-05</th>\n",
       "      <td>236184.0</td>\n",
       "      <td>253968.573412</td>\n",
       "      <td>188595.782224</td>\n",
       "      <td>319341.364600</td>\n",
       "      <td>90.33</td>\n",
       "      <td>India</td>\n",
       "      <td>2020-06-09</td>\n",
       "    </tr>\n",
       "    <tr>\n",
       "      <th>2020-06-06</th>\n",
       "      <td>246622.0</td>\n",
       "      <td>268702.903732</td>\n",
       "      <td>203330.112544</td>\n",
       "      <td>334075.694921</td>\n",
       "      <td>90.33</td>\n",
       "      <td>India</td>\n",
       "      <td>2020-06-09</td>\n",
       "    </tr>\n",
       "    <tr>\n",
       "      <th>2020-06-07</th>\n",
       "      <td>257486.0</td>\n",
       "      <td>285651.480419</td>\n",
       "      <td>220278.689231</td>\n",
       "      <td>351024.271607</td>\n",
       "      <td>90.33</td>\n",
       "      <td>India</td>\n",
       "      <td>2020-06-09</td>\n",
       "    </tr>\n",
       "    <tr>\n",
       "      <th>2020-06-08</th>\n",
       "      <td>265928.0</td>\n",
       "      <td>305235.151409</td>\n",
       "      <td>239862.360221</td>\n",
       "      <td>370607.942597</td>\n",
       "      <td>90.33</td>\n",
       "      <td>India</td>\n",
       "      <td>2020-06-09</td>\n",
       "    </tr>\n",
       "    <tr>\n",
       "      <th>2020-06-09</th>\n",
       "      <td>NaN</td>\n",
       "      <td>327981.695477</td>\n",
       "      <td>262608.904289</td>\n",
       "      <td>393354.486666</td>\n",
       "      <td>90.33</td>\n",
       "      <td>India</td>\n",
       "      <td>2020-06-09</td>\n",
       "    </tr>\n",
       "    <tr>\n",
       "      <th>2020-06-10</th>\n",
       "      <td>NaN</td>\n",
       "      <td>350361.205969</td>\n",
       "      <td>284988.414781</td>\n",
       "      <td>415733.997157</td>\n",
       "      <td>90.33</td>\n",
       "      <td>India</td>\n",
       "      <td>2020-06-09</td>\n",
       "    </tr>\n",
       "    <tr>\n",
       "      <th>2020-06-11</th>\n",
       "      <td>NaN</td>\n",
       "      <td>375868.256095</td>\n",
       "      <td>310495.464907</td>\n",
       "      <td>441241.047283</td>\n",
       "      <td>90.33</td>\n",
       "      <td>India</td>\n",
       "      <td>2020-06-09</td>\n",
       "    </tr>\n",
       "    <tr>\n",
       "      <th>2020-06-12</th>\n",
       "      <td>NaN</td>\n",
       "      <td>405226.548188</td>\n",
       "      <td>339853.757000</td>\n",
       "      <td>470599.339376</td>\n",
       "      <td>90.33</td>\n",
       "      <td>India</td>\n",
       "      <td>2020-06-09</td>\n",
       "    </tr>\n",
       "    <tr>\n",
       "      <th>2020-06-13</th>\n",
       "      <td>NaN</td>\n",
       "      <td>439086.248629</td>\n",
       "      <td>373713.457440</td>\n",
       "      <td>504459.039817</td>\n",
       "      <td>90.33</td>\n",
       "      <td>India</td>\n",
       "      <td>2020-06-09</td>\n",
       "    </tr>\n",
       "    <tr>\n",
       "      <th>2020-06-14</th>\n",
       "      <td>NaN</td>\n",
       "      <td>478251.781288</td>\n",
       "      <td>412878.990100</td>\n",
       "      <td>543624.572476</td>\n",
       "      <td>90.33</td>\n",
       "      <td>India</td>\n",
       "      <td>2020-06-09</td>\n",
       "    </tr>\n",
       "    <tr>\n",
       "      <th>2020-06-15</th>\n",
       "      <td>NaN</td>\n",
       "      <td>523771.027029</td>\n",
       "      <td>458398.235841</td>\n",
       "      <td>589143.818217</td>\n",
       "      <td>90.33</td>\n",
       "      <td>India</td>\n",
       "      <td>2020-06-09</td>\n",
       "    </tr>\n",
       "  </tbody>\n",
       "</table>\n",
       "</div>"
      ],
      "text/plain": [
       "            confirmed  confirmed_predicted    confirm_min    confirm_max  \\\n",
       "2020-06-04   226713.0        240682.862586  175310.071398  306055.653774   \n",
       "2020-06-05   236184.0        253968.573412  188595.782224  319341.364600   \n",
       "2020-06-06   246622.0        268702.903732  203330.112544  334075.694921   \n",
       "2020-06-07   257486.0        285651.480419  220278.689231  351024.271607   \n",
       "2020-06-08   265928.0        305235.151409  239862.360221  370607.942597   \n",
       "2020-06-09        NaN        327981.695477  262608.904289  393354.486666   \n",
       "2020-06-10        NaN        350361.205969  284988.414781  415733.997157   \n",
       "2020-06-11        NaN        375868.256095  310495.464907  441241.047283   \n",
       "2020-06-12        NaN        405226.548188  339853.757000  470599.339376   \n",
       "2020-06-13        NaN        439086.248629  373713.457440  504459.039817   \n",
       "2020-06-14        NaN        478251.781288  412878.990100  543624.572476   \n",
       "2020-06-15        NaN        523771.027029  458398.235841  589143.818217   \n",
       "\n",
       "            Model Accuracy Country Execution date  \n",
       "2020-06-04           90.33   India     2020-06-09  \n",
       "2020-06-05           90.33   India     2020-06-09  \n",
       "2020-06-06           90.33   India     2020-06-09  \n",
       "2020-06-07           90.33   India     2020-06-09  \n",
       "2020-06-08           90.33   India     2020-06-09  \n",
       "2020-06-09           90.33   India     2020-06-09  \n",
       "2020-06-10           90.33   India     2020-06-09  \n",
       "2020-06-11           90.33   India     2020-06-09  \n",
       "2020-06-12           90.33   India     2020-06-09  \n",
       "2020-06-13           90.33   India     2020-06-09  \n",
       "2020-06-14           90.33   India     2020-06-09  \n",
       "2020-06-15           90.33   India     2020-06-09  "
      ]
     },
     "execution_count": 69,
     "metadata": {},
     "output_type": "execute_result"
    }
   ],
   "source": [
    "from datetime import datetime\n",
    "df_forecast[\"Country\"] = country\n",
    "df_forecast[\"Execution date\"] = str(datetime.now()).split()[0]\n",
    "df_forecast"
   ]
  },
  {
   "cell_type": "code",
   "execution_count": 63,
   "metadata": {},
   "outputs": [
    {
     "data": {
      "text/plain": [
       "<matplotlib.axes._subplots.AxesSubplot at 0x26ba1018780>"
      ]
     },
     "execution_count": 63,
     "metadata": {},
     "output_type": "execute_result"
    },
    {
     "data": {
      "image/png": "[encoded data removed]",
      "text/plain": [
       "<Figure size 432x288 with 1 Axes>"
      ]
     },
     "metadata": {
      "needs_background": "light"
     },
     "output_type": "display_data"
    }
   ],
   "source": [
    "df_forecast.iloc[:,:4].plot()"
   ]
  },
  {
   "cell_type": "code",
   "execution_count": 64,
   "metadata": {},
   "outputs": [
    {
     "data": {
      "image/png": "[encoded data removed]",
      "text/plain": [
       "<Figure size 720x360 with 1 Axes>"
      ]
     },
     "metadata": {
      "needs_background": "light"
     },
     "output_type": "display_data"
    }
   ],
   "source": [
    "fig= plt.figure(figsize=(10,5))\n",
    "plt.title(\"{} - Results\".format(country))\n",
    "plt.plot(df_forecast.index,df_forecast[\"confirmed\"],label=\"confirmed\")\n",
    "plt.plot(df_forecast.index,df_forecast[\"confirmed_predicted\"],label=\"confirmed_predicted\")\n",
    "plt.fill_between(df_forecast.index,df_forecast[\"confirm_min\"],df_forecast[\"confirm_max\"],color=\"indigo\",alpha=0.09,label=\"Confidence Interval\")\n",
    "plt.legend()\n",
    "plt.show()"
   ]
  },
  {
   "cell_type": "markdown",
   "metadata": {},
   "source": [
    "# This Project currently uses an univariate time series modelling so the results are not that accurate as there also exists some depending factors like Tests done per day, growth factor of infection, etc.\n",
    "# Future Work- to model a multivariate time series with variables like Tests done per day, etc. to get more accurate forecast"
   ]
  }
 ],
 "metadata": {
  "kernelspec": {
   "display_name": "Python 3",
   "language": "python",
   "name": "python3"
  },
  "language_info": {
   "codemirror_mode": {
    "name": "ipython",
    "version": 3
   },
   "file_extension": ".py",
   "mimetype": "text/x-python",
   "name": "python",
   "nbconvert_exporter": "python",
   "pygments_lexer": "ipython3",
   "version": "3.7.7"
  }
 },
 "nbformat": 4,
 "nbformat_minor": 2
}
