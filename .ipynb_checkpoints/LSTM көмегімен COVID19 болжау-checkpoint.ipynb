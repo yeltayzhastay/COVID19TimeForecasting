{
 "cells": [
  {
   "cell_type": "markdown",
   "metadata": {},
   "source": [
    "# LSTM қолдану арқылы Қазақстанда COVID19 уақыт қатарларын болжау"
   ]
  },
  {
   "cell_type": "code",
   "execution_count": 1,
   "metadata": {},
   "outputs": [],
   "source": [
    "import pandas as pd\n",
    "import numpy as np\n",
    "import matplotlib.pyplot as plt\n",
    "import sklearn\n",
    "import tensorflow as tf\n",
    "\n",
    "import warnings\n",
    "warnings.filterwarnings('ignore')"
   ]
  },
  {
   "cell_type": "markdown",
   "metadata": {},
   "source": [
    "# Интернеттегі соңғы расталған жағдайларды шығару"
   ]
  },
  {
   "cell_type": "code",
   "execution_count": 2,
   "metadata": {},
   "outputs": [
    {
     "data": {
      "text/html": [
       "<div>\n",
       "<style scoped>\n",
       "    .dataframe tbody tr th:only-of-type {\n",
       "        vertical-align: middle;\n",
       "    }\n",
       "\n",
       "    .dataframe tbody tr th {\n",
       "        vertical-align: top;\n",
       "    }\n",
       "\n",
       "    .dataframe thead th {\n",
       "        text-align: right;\n",
       "    }\n",
       "</style>\n",
       "<table border=\"1\" class=\"dataframe\">\n",
       "  <thead>\n",
       "    <tr style=\"text-align: right;\">\n",
       "      <th></th>\n",
       "      <th>Province/State</th>\n",
       "      <th>Country/Region</th>\n",
       "      <th>Lat</th>\n",
       "      <th>Long</th>\n",
       "      <th>1/22/20</th>\n",
       "      <th>1/23/20</th>\n",
       "      <th>1/24/20</th>\n",
       "      <th>1/25/20</th>\n",
       "      <th>1/26/20</th>\n",
       "      <th>1/27/20</th>\n",
       "      <th>...</th>\n",
       "      <th>1/24/21</th>\n",
       "      <th>1/25/21</th>\n",
       "      <th>1/26/21</th>\n",
       "      <th>1/27/21</th>\n",
       "      <th>1/28/21</th>\n",
       "      <th>1/29/21</th>\n",
       "      <th>1/30/21</th>\n",
       "      <th>1/31/21</th>\n",
       "      <th>2/1/21</th>\n",
       "      <th>2/2/21</th>\n",
       "    </tr>\n",
       "  </thead>\n",
       "  <tbody>\n",
       "    <tr>\n",
       "      <th>0</th>\n",
       "      <td>NaN</td>\n",
       "      <td>Afghanistan</td>\n",
       "      <td>33.93911</td>\n",
       "      <td>67.709953</td>\n",
       "      <td>0</td>\n",
       "      <td>0</td>\n",
       "      <td>0</td>\n",
       "      <td>0</td>\n",
       "      <td>0</td>\n",
       "      <td>0</td>\n",
       "      <td>...</td>\n",
       "      <td>54595</td>\n",
       "      <td>54672</td>\n",
       "      <td>54750</td>\n",
       "      <td>54854</td>\n",
       "      <td>54891</td>\n",
       "      <td>54939</td>\n",
       "      <td>55008</td>\n",
       "      <td>55023</td>\n",
       "      <td>55059</td>\n",
       "      <td>55121</td>\n",
       "    </tr>\n",
       "    <tr>\n",
       "      <th>1</th>\n",
       "      <td>NaN</td>\n",
       "      <td>Albania</td>\n",
       "      <td>41.15330</td>\n",
       "      <td>20.168300</td>\n",
       "      <td>0</td>\n",
       "      <td>0</td>\n",
       "      <td>0</td>\n",
       "      <td>0</td>\n",
       "      <td>0</td>\n",
       "      <td>0</td>\n",
       "      <td>...</td>\n",
       "      <td>72274</td>\n",
       "      <td>72812</td>\n",
       "      <td>73691</td>\n",
       "      <td>74567</td>\n",
       "      <td>75454</td>\n",
       "      <td>76350</td>\n",
       "      <td>77251</td>\n",
       "      <td>78127</td>\n",
       "      <td>78992</td>\n",
       "      <td>79934</td>\n",
       "    </tr>\n",
       "    <tr>\n",
       "      <th>2</th>\n",
       "      <td>NaN</td>\n",
       "      <td>Algeria</td>\n",
       "      <td>28.03390</td>\n",
       "      <td>1.659600</td>\n",
       "      <td>0</td>\n",
       "      <td>0</td>\n",
       "      <td>0</td>\n",
       "      <td>0</td>\n",
       "      <td>0</td>\n",
       "      <td>0</td>\n",
       "      <td>...</td>\n",
       "      <td>105596</td>\n",
       "      <td>105854</td>\n",
       "      <td>106097</td>\n",
       "      <td>106359</td>\n",
       "      <td>106610</td>\n",
       "      <td>106887</td>\n",
       "      <td>107122</td>\n",
       "      <td>107339</td>\n",
       "      <td>107578</td>\n",
       "      <td>107841</td>\n",
       "    </tr>\n",
       "    <tr>\n",
       "      <th>3</th>\n",
       "      <td>NaN</td>\n",
       "      <td>Andorra</td>\n",
       "      <td>42.50630</td>\n",
       "      <td>1.521800</td>\n",
       "      <td>0</td>\n",
       "      <td>0</td>\n",
       "      <td>0</td>\n",
       "      <td>0</td>\n",
       "      <td>0</td>\n",
       "      <td>0</td>\n",
       "      <td>...</td>\n",
       "      <td>9549</td>\n",
       "      <td>9596</td>\n",
       "      <td>9638</td>\n",
       "      <td>9716</td>\n",
       "      <td>9779</td>\n",
       "      <td>9837</td>\n",
       "      <td>9885</td>\n",
       "      <td>9937</td>\n",
       "      <td>9972</td>\n",
       "      <td>10017</td>\n",
       "    </tr>\n",
       "    <tr>\n",
       "      <th>4</th>\n",
       "      <td>NaN</td>\n",
       "      <td>Angola</td>\n",
       "      <td>-11.20270</td>\n",
       "      <td>17.873900</td>\n",
       "      <td>0</td>\n",
       "      <td>0</td>\n",
       "      <td>0</td>\n",
       "      <td>0</td>\n",
       "      <td>0</td>\n",
       "      <td>0</td>\n",
       "      <td>...</td>\n",
       "      <td>19399</td>\n",
       "      <td>19476</td>\n",
       "      <td>19553</td>\n",
       "      <td>19580</td>\n",
       "      <td>19672</td>\n",
       "      <td>19723</td>\n",
       "      <td>19782</td>\n",
       "      <td>19796</td>\n",
       "      <td>19829</td>\n",
       "      <td>19900</td>\n",
       "    </tr>\n",
       "  </tbody>\n",
       "</table>\n",
       "<p>5 rows × 382 columns</p>\n",
       "</div>"
      ],
      "text/plain": [
       "  Province/State Country/Region       Lat       Long  1/22/20  1/23/20  \\\n",
       "0            NaN    Afghanistan  33.93911  67.709953        0        0   \n",
       "1            NaN        Albania  41.15330  20.168300        0        0   \n",
       "2            NaN        Algeria  28.03390   1.659600        0        0   \n",
       "3            NaN        Andorra  42.50630   1.521800        0        0   \n",
       "4            NaN         Angola -11.20270  17.873900        0        0   \n",
       "\n",
       "   1/24/20  1/25/20  1/26/20  1/27/20  ...  1/24/21  1/25/21  1/26/21  \\\n",
       "0        0        0        0        0  ...    54595    54672    54750   \n",
       "1        0        0        0        0  ...    72274    72812    73691   \n",
       "2        0        0        0        0  ...   105596   105854   106097   \n",
       "3        0        0        0        0  ...     9549     9596     9638   \n",
       "4        0        0        0        0  ...    19399    19476    19553   \n",
       "\n",
       "   1/27/21  1/28/21  1/29/21  1/30/21  1/31/21  2/1/21  2/2/21  \n",
       "0    54854    54891    54939    55008    55023   55059   55121  \n",
       "1    74567    75454    76350    77251    78127   78992   79934  \n",
       "2   106359   106610   106887   107122   107339  107578  107841  \n",
       "3     9716     9779     9837     9885     9937    9972   10017  \n",
       "4    19580    19672    19723    19782    19796   19829   19900  \n",
       "\n",
       "[5 rows x 382 columns]"
      ]
     },
     "execution_count": 2,
     "metadata": {},
     "output_type": "execute_result"
    }
   ],
   "source": [
    "url=\"https://raw.githubusercontent.com/CSSEGISandData/COVID-19/master/csse_covid_19_data/csse_covid_19_time_series/time_series_covid19_confirmed_global.csv\"\n",
    "df_confirmed=pd.read_csv(url)\n",
    "df_confirmed.head()"
   ]
  },
  {
   "cell_type": "code",
   "execution_count": 3,
   "metadata": {},
   "outputs": [
    {
     "data": {
      "text/html": [
       "<div>\n",
       "<style scoped>\n",
       "    .dataframe tbody tr th:only-of-type {\n",
       "        vertical-align: middle;\n",
       "    }\n",
       "\n",
       "    .dataframe tbody tr th {\n",
       "        vertical-align: top;\n",
       "    }\n",
       "\n",
       "    .dataframe thead th {\n",
       "        text-align: right;\n",
       "    }\n",
       "</style>\n",
       "<table border=\"1\" class=\"dataframe\">\n",
       "  <thead>\n",
       "    <tr style=\"text-align: right;\">\n",
       "      <th></th>\n",
       "      <th>Province/State</th>\n",
       "      <th>Country/Region</th>\n",
       "      <th>Lat</th>\n",
       "      <th>Long</th>\n",
       "      <th>1/22/20</th>\n",
       "      <th>1/23/20</th>\n",
       "      <th>1/24/20</th>\n",
       "      <th>1/25/20</th>\n",
       "      <th>1/26/20</th>\n",
       "      <th>1/27/20</th>\n",
       "      <th>...</th>\n",
       "      <th>1/24/21</th>\n",
       "      <th>1/25/21</th>\n",
       "      <th>1/26/21</th>\n",
       "      <th>1/27/21</th>\n",
       "      <th>1/28/21</th>\n",
       "      <th>1/29/21</th>\n",
       "      <th>1/30/21</th>\n",
       "      <th>1/31/21</th>\n",
       "      <th>2/1/21</th>\n",
       "      <th>2/2/21</th>\n",
       "    </tr>\n",
       "  </thead>\n",
       "  <tbody>\n",
       "    <tr>\n",
       "      <th>0</th>\n",
       "      <td>NaN</td>\n",
       "      <td>Afghanistan</td>\n",
       "      <td>33.93911</td>\n",
       "      <td>67.709953</td>\n",
       "      <td>0</td>\n",
       "      <td>0</td>\n",
       "      <td>0</td>\n",
       "      <td>0</td>\n",
       "      <td>0</td>\n",
       "      <td>0</td>\n",
       "      <td>...</td>\n",
       "      <td>54595</td>\n",
       "      <td>54672</td>\n",
       "      <td>54750</td>\n",
       "      <td>54854</td>\n",
       "      <td>54891</td>\n",
       "      <td>54939</td>\n",
       "      <td>55008</td>\n",
       "      <td>55023</td>\n",
       "      <td>55059</td>\n",
       "      <td>55121</td>\n",
       "    </tr>\n",
       "    <tr>\n",
       "      <th>1</th>\n",
       "      <td>NaN</td>\n",
       "      <td>Albania</td>\n",
       "      <td>41.15330</td>\n",
       "      <td>20.168300</td>\n",
       "      <td>0</td>\n",
       "      <td>0</td>\n",
       "      <td>0</td>\n",
       "      <td>0</td>\n",
       "      <td>0</td>\n",
       "      <td>0</td>\n",
       "      <td>...</td>\n",
       "      <td>72274</td>\n",
       "      <td>72812</td>\n",
       "      <td>73691</td>\n",
       "      <td>74567</td>\n",
       "      <td>75454</td>\n",
       "      <td>76350</td>\n",
       "      <td>77251</td>\n",
       "      <td>78127</td>\n",
       "      <td>78992</td>\n",
       "      <td>79934</td>\n",
       "    </tr>\n",
       "    <tr>\n",
       "      <th>2</th>\n",
       "      <td>NaN</td>\n",
       "      <td>Algeria</td>\n",
       "      <td>28.03390</td>\n",
       "      <td>1.659600</td>\n",
       "      <td>0</td>\n",
       "      <td>0</td>\n",
       "      <td>0</td>\n",
       "      <td>0</td>\n",
       "      <td>0</td>\n",
       "      <td>0</td>\n",
       "      <td>...</td>\n",
       "      <td>105596</td>\n",
       "      <td>105854</td>\n",
       "      <td>106097</td>\n",
       "      <td>106359</td>\n",
       "      <td>106610</td>\n",
       "      <td>106887</td>\n",
       "      <td>107122</td>\n",
       "      <td>107339</td>\n",
       "      <td>107578</td>\n",
       "      <td>107841</td>\n",
       "    </tr>\n",
       "    <tr>\n",
       "      <th>3</th>\n",
       "      <td>NaN</td>\n",
       "      <td>Andorra</td>\n",
       "      <td>42.50630</td>\n",
       "      <td>1.521800</td>\n",
       "      <td>0</td>\n",
       "      <td>0</td>\n",
       "      <td>0</td>\n",
       "      <td>0</td>\n",
       "      <td>0</td>\n",
       "      <td>0</td>\n",
       "      <td>...</td>\n",
       "      <td>9549</td>\n",
       "      <td>9596</td>\n",
       "      <td>9638</td>\n",
       "      <td>9716</td>\n",
       "      <td>9779</td>\n",
       "      <td>9837</td>\n",
       "      <td>9885</td>\n",
       "      <td>9937</td>\n",
       "      <td>9972</td>\n",
       "      <td>10017</td>\n",
       "    </tr>\n",
       "    <tr>\n",
       "      <th>4</th>\n",
       "      <td>NaN</td>\n",
       "      <td>Angola</td>\n",
       "      <td>-11.20270</td>\n",
       "      <td>17.873900</td>\n",
       "      <td>0</td>\n",
       "      <td>0</td>\n",
       "      <td>0</td>\n",
       "      <td>0</td>\n",
       "      <td>0</td>\n",
       "      <td>0</td>\n",
       "      <td>...</td>\n",
       "      <td>19399</td>\n",
       "      <td>19476</td>\n",
       "      <td>19553</td>\n",
       "      <td>19580</td>\n",
       "      <td>19672</td>\n",
       "      <td>19723</td>\n",
       "      <td>19782</td>\n",
       "      <td>19796</td>\n",
       "      <td>19829</td>\n",
       "      <td>19900</td>\n",
       "    </tr>\n",
       "    <tr>\n",
       "      <th>5</th>\n",
       "      <td>NaN</td>\n",
       "      <td>Antigua and Barbuda</td>\n",
       "      <td>17.06080</td>\n",
       "      <td>-61.796400</td>\n",
       "      <td>0</td>\n",
       "      <td>0</td>\n",
       "      <td>0</td>\n",
       "      <td>0</td>\n",
       "      <td>0</td>\n",
       "      <td>0</td>\n",
       "      <td>...</td>\n",
       "      <td>198</td>\n",
       "      <td>201</td>\n",
       "      <td>201</td>\n",
       "      <td>215</td>\n",
       "      <td>215</td>\n",
       "      <td>218</td>\n",
       "      <td>218</td>\n",
       "      <td>234</td>\n",
       "      <td>234</td>\n",
       "      <td>249</td>\n",
       "    </tr>\n",
       "    <tr>\n",
       "      <th>6</th>\n",
       "      <td>NaN</td>\n",
       "      <td>Argentina</td>\n",
       "      <td>-38.41610</td>\n",
       "      <td>-63.616700</td>\n",
       "      <td>0</td>\n",
       "      <td>0</td>\n",
       "      <td>0</td>\n",
       "      <td>0</td>\n",
       "      <td>0</td>\n",
       "      <td>0</td>\n",
       "      <td>...</td>\n",
       "      <td>1867223</td>\n",
       "      <td>1874801</td>\n",
       "      <td>1885210</td>\n",
       "      <td>1896053</td>\n",
       "      <td>1905524</td>\n",
       "      <td>1915362</td>\n",
       "      <td>1922264</td>\n",
       "      <td>1927239</td>\n",
       "      <td>1933853</td>\n",
       "      <td>1943548</td>\n",
       "    </tr>\n",
       "    <tr>\n",
       "      <th>7</th>\n",
       "      <td>NaN</td>\n",
       "      <td>Armenia</td>\n",
       "      <td>40.06910</td>\n",
       "      <td>45.038200</td>\n",
       "      <td>0</td>\n",
       "      <td>0</td>\n",
       "      <td>0</td>\n",
       "      <td>0</td>\n",
       "      <td>0</td>\n",
       "      <td>0</td>\n",
       "      <td>...</td>\n",
       "      <td>166036</td>\n",
       "      <td>166094</td>\n",
       "      <td>166232</td>\n",
       "      <td>166427</td>\n",
       "      <td>166669</td>\n",
       "      <td>166728</td>\n",
       "      <td>166901</td>\n",
       "      <td>167026</td>\n",
       "      <td>167088</td>\n",
       "      <td>167231</td>\n",
       "    </tr>\n",
       "    <tr>\n",
       "      <th>8</th>\n",
       "      <td>Australian Capital Territory</td>\n",
       "      <td>Australia</td>\n",
       "      <td>-35.47350</td>\n",
       "      <td>149.012400</td>\n",
       "      <td>0</td>\n",
       "      <td>0</td>\n",
       "      <td>0</td>\n",
       "      <td>0</td>\n",
       "      <td>0</td>\n",
       "      <td>0</td>\n",
       "      <td>...</td>\n",
       "      <td>118</td>\n",
       "      <td>118</td>\n",
       "      <td>118</td>\n",
       "      <td>118</td>\n",
       "      <td>118</td>\n",
       "      <td>118</td>\n",
       "      <td>118</td>\n",
       "      <td>118</td>\n",
       "      <td>118</td>\n",
       "      <td>118</td>\n",
       "    </tr>\n",
       "    <tr>\n",
       "      <th>9</th>\n",
       "      <td>New South Wales</td>\n",
       "      <td>Australia</td>\n",
       "      <td>-33.86880</td>\n",
       "      <td>151.209300</td>\n",
       "      <td>0</td>\n",
       "      <td>0</td>\n",
       "      <td>0</td>\n",
       "      <td>0</td>\n",
       "      <td>3</td>\n",
       "      <td>4</td>\n",
       "      <td>...</td>\n",
       "      <td>5090</td>\n",
       "      <td>5091</td>\n",
       "      <td>5093</td>\n",
       "      <td>5096</td>\n",
       "      <td>5099</td>\n",
       "      <td>5101</td>\n",
       "      <td>5104</td>\n",
       "      <td>5110</td>\n",
       "      <td>5112</td>\n",
       "      <td>5114</td>\n",
       "    </tr>\n",
       "  </tbody>\n",
       "</table>\n",
       "<p>10 rows × 382 columns</p>\n",
       "</div>"
      ],
      "text/plain": [
       "                 Province/State       Country/Region       Lat        Long  \\\n",
       "0                           NaN          Afghanistan  33.93911   67.709953   \n",
       "1                           NaN              Albania  41.15330   20.168300   \n",
       "2                           NaN              Algeria  28.03390    1.659600   \n",
       "3                           NaN              Andorra  42.50630    1.521800   \n",
       "4                           NaN               Angola -11.20270   17.873900   \n",
       "5                           NaN  Antigua and Barbuda  17.06080  -61.796400   \n",
       "6                           NaN            Argentina -38.41610  -63.616700   \n",
       "7                           NaN              Armenia  40.06910   45.038200   \n",
       "8  Australian Capital Territory            Australia -35.47350  149.012400   \n",
       "9               New South Wales            Australia -33.86880  151.209300   \n",
       "\n",
       "   1/22/20  1/23/20  1/24/20  1/25/20  1/26/20  1/27/20  ...  1/24/21  \\\n",
       "0        0        0        0        0        0        0  ...    54595   \n",
       "1        0        0        0        0        0        0  ...    72274   \n",
       "2        0        0        0        0        0        0  ...   105596   \n",
       "3        0        0        0        0        0        0  ...     9549   \n",
       "4        0        0        0        0        0        0  ...    19399   \n",
       "5        0        0        0        0        0        0  ...      198   \n",
       "6        0        0        0        0        0        0  ...  1867223   \n",
       "7        0        0        0        0        0        0  ...   166036   \n",
       "8        0        0        0        0        0        0  ...      118   \n",
       "9        0        0        0        0        3        4  ...     5090   \n",
       "\n",
       "   1/25/21  1/26/21  1/27/21  1/28/21  1/29/21  1/30/21  1/31/21   2/1/21  \\\n",
       "0    54672    54750    54854    54891    54939    55008    55023    55059   \n",
       "1    72812    73691    74567    75454    76350    77251    78127    78992   \n",
       "2   105854   106097   106359   106610   106887   107122   107339   107578   \n",
       "3     9596     9638     9716     9779     9837     9885     9937     9972   \n",
       "4    19476    19553    19580    19672    19723    19782    19796    19829   \n",
       "5      201      201      215      215      218      218      234      234   \n",
       "6  1874801  1885210  1896053  1905524  1915362  1922264  1927239  1933853   \n",
       "7   166094   166232   166427   166669   166728   166901   167026   167088   \n",
       "8      118      118      118      118      118      118      118      118   \n",
       "9     5091     5093     5096     5099     5101     5104     5110     5112   \n",
       "\n",
       "    2/2/21  \n",
       "0    55121  \n",
       "1    79934  \n",
       "2   107841  \n",
       "3    10017  \n",
       "4    19900  \n",
       "5      249  \n",
       "6  1943548  \n",
       "7   167231  \n",
       "8      118  \n",
       "9     5114  \n",
       "\n",
       "[10 rows x 382 columns]"
      ]
     },
     "execution_count": 3,
     "metadata": {},
     "output_type": "execute_result"
    }
   ],
   "source": [
    "df_confirmed.head(10)"
   ]
  },
  {
   "cell_type": "markdown",
   "metadata": {},
   "source": [
    "# Қазақстанда аурудың расталған жағдайлары"
   ]
  },
  {
   "cell_type": "code",
   "execution_count": 4,
   "metadata": {},
   "outputs": [
    {
     "data": {
      "text/html": [
       "<div>\n",
       "<style scoped>\n",
       "    .dataframe tbody tr th:only-of-type {\n",
       "        vertical-align: middle;\n",
       "    }\n",
       "\n",
       "    .dataframe tbody tr th {\n",
       "        vertical-align: top;\n",
       "    }\n",
       "\n",
       "    .dataframe thead th {\n",
       "        text-align: right;\n",
       "    }\n",
       "</style>\n",
       "<table border=\"1\" class=\"dataframe\">\n",
       "  <thead>\n",
       "    <tr style=\"text-align: right;\">\n",
       "      <th></th>\n",
       "      <th>Province/State</th>\n",
       "      <th>Country/Region</th>\n",
       "      <th>Lat</th>\n",
       "      <th>Long</th>\n",
       "      <th>1/22/20</th>\n",
       "      <th>1/23/20</th>\n",
       "      <th>1/24/20</th>\n",
       "      <th>1/25/20</th>\n",
       "      <th>1/26/20</th>\n",
       "      <th>1/27/20</th>\n",
       "      <th>...</th>\n",
       "      <th>1/24/21</th>\n",
       "      <th>1/25/21</th>\n",
       "      <th>1/26/21</th>\n",
       "      <th>1/27/21</th>\n",
       "      <th>1/28/21</th>\n",
       "      <th>1/29/21</th>\n",
       "      <th>1/30/21</th>\n",
       "      <th>1/31/21</th>\n",
       "      <th>2/1/21</th>\n",
       "      <th>2/2/21</th>\n",
       "    </tr>\n",
       "  </thead>\n",
       "  <tbody>\n",
       "    <tr>\n",
       "      <th>156</th>\n",
       "      <td>NaN</td>\n",
       "      <td>Kazakhstan</td>\n",
       "      <td>48.0196</td>\n",
       "      <td>66.9237</td>\n",
       "      <td>0</td>\n",
       "      <td>0</td>\n",
       "      <td>0</td>\n",
       "      <td>0</td>\n",
       "      <td>0</td>\n",
       "      <td>0</td>\n",
       "      <td>...</td>\n",
       "      <td>225891</td>\n",
       "      <td>227165</td>\n",
       "      <td>228692</td>\n",
       "      <td>230188</td>\n",
       "      <td>231716</td>\n",
       "      <td>233156</td>\n",
       "      <td>234569</td>\n",
       "      <td>235844</td>\n",
       "      <td>237029</td>\n",
       "      <td>238364</td>\n",
       "    </tr>\n",
       "  </tbody>\n",
       "</table>\n",
       "<p>1 rows × 382 columns</p>\n",
       "</div>"
      ],
      "text/plain": [
       "    Province/State Country/Region      Lat     Long  1/22/20  1/23/20  \\\n",
       "156            NaN     Kazakhstan  48.0196  66.9237        0        0   \n",
       "\n",
       "     1/24/20  1/25/20  1/26/20  1/27/20  ...  1/24/21  1/25/21  1/26/21  \\\n",
       "156        0        0        0        0  ...   225891   227165   228692   \n",
       "\n",
       "     1/27/21  1/28/21  1/29/21  1/30/21  1/31/21  2/1/21  2/2/21  \n",
       "156   230188   231716   233156   234569   235844  237029  238364  \n",
       "\n",
       "[1 rows x 382 columns]"
      ]
     },
     "execution_count": 4,
     "metadata": {},
     "output_type": "execute_result"
    }
   ],
   "source": [
    "country=\"Kazakhstan\"\n",
    "df_confirmed1=df_confirmed[df_confirmed[\"Country/Region\"]==country]\n",
    "df_confirmed1"
   ]
  },
  {
   "cell_type": "markdown",
   "metadata": {},
   "source": [
    "# Уақыт қатарының объектісіне деректер түрін қамту"
   ]
  },
  {
   "cell_type": "code",
   "execution_count": 5,
   "metadata": {},
   "outputs": [
    {
     "data": {
      "text/html": [
       "<div>\n",
       "<style scoped>\n",
       "    .dataframe tbody tr th:only-of-type {\n",
       "        vertical-align: middle;\n",
       "    }\n",
       "\n",
       "    .dataframe tbody tr th {\n",
       "        vertical-align: top;\n",
       "    }\n",
       "\n",
       "    .dataframe thead th {\n",
       "        text-align: right;\n",
       "    }\n",
       "</style>\n",
       "<table border=\"1\" class=\"dataframe\">\n",
       "  <thead>\n",
       "    <tr style=\"text-align: right;\">\n",
       "      <th></th>\n",
       "      <th>Расталған Жағдайлар</th>\n",
       "    </tr>\n",
       "  </thead>\n",
       "  <tbody>\n",
       "    <tr>\n",
       "      <th>2021-01-29</th>\n",
       "      <td>233156</td>\n",
       "    </tr>\n",
       "    <tr>\n",
       "      <th>2021-01-30</th>\n",
       "      <td>234569</td>\n",
       "    </tr>\n",
       "    <tr>\n",
       "      <th>2021-01-31</th>\n",
       "      <td>235844</td>\n",
       "    </tr>\n",
       "    <tr>\n",
       "      <th>2021-02-01</th>\n",
       "      <td>237029</td>\n",
       "    </tr>\n",
       "    <tr>\n",
       "      <th>2021-02-02</th>\n",
       "      <td>238364</td>\n",
       "    </tr>\n",
       "  </tbody>\n",
       "</table>\n",
       "</div>"
      ],
      "text/plain": [
       "            Расталған Жағдайлар\n",
       "2021-01-29               233156\n",
       "2021-01-30               234569\n",
       "2021-01-31               235844\n",
       "2021-02-01               237029\n",
       "2021-02-02               238364"
      ]
     },
     "execution_count": 5,
     "metadata": {},
     "output_type": "execute_result"
    }
   ],
   "source": [
    "df_confirmed2=pd.DataFrame(df_confirmed1[df_confirmed1.columns[4:]].sum(),columns=[\"Расталған Жағдайлар\"])\n",
    "df_confirmed2.index=pd.to_datetime(df_confirmed2.index,format='%m/%d/%y')\n",
    "df_confirmed2.tail()"
   ]
  },
  {
   "cell_type": "markdown",
   "metadata": {},
   "source": [
    "# Жалпы өлім жағдайларын және қалпына келтірілген жағдайларды алдын-ала талдау үшін жинау"
   ]
  },
  {
   "cell_type": "code",
   "execution_count": 6,
   "metadata": {},
   "outputs": [
    {
     "data": {
      "text/html": [
       "<div>\n",
       "<style scoped>\n",
       "    .dataframe tbody tr th:only-of-type {\n",
       "        vertical-align: middle;\n",
       "    }\n",
       "\n",
       "    .dataframe tbody tr th {\n",
       "        vertical-align: top;\n",
       "    }\n",
       "\n",
       "    .dataframe thead th {\n",
       "        text-align: right;\n",
       "    }\n",
       "</style>\n",
       "<table border=\"1\" class=\"dataframe\">\n",
       "  <thead>\n",
       "    <tr style=\"text-align: right;\">\n",
       "      <th></th>\n",
       "      <th>Province/State</th>\n",
       "      <th>Country/Region</th>\n",
       "      <th>Lat</th>\n",
       "      <th>Long</th>\n",
       "      <th>1/22/20</th>\n",
       "      <th>1/23/20</th>\n",
       "      <th>1/24/20</th>\n",
       "      <th>1/25/20</th>\n",
       "      <th>1/26/20</th>\n",
       "      <th>1/27/20</th>\n",
       "      <th>...</th>\n",
       "      <th>1/24/21</th>\n",
       "      <th>1/25/21</th>\n",
       "      <th>1/26/21</th>\n",
       "      <th>1/27/21</th>\n",
       "      <th>1/28/21</th>\n",
       "      <th>1/29/21</th>\n",
       "      <th>1/30/21</th>\n",
       "      <th>1/31/21</th>\n",
       "      <th>2/1/21</th>\n",
       "      <th>2/2/21</th>\n",
       "    </tr>\n",
       "  </thead>\n",
       "  <tbody>\n",
       "    <tr>\n",
       "      <th>0</th>\n",
       "      <td>NaN</td>\n",
       "      <td>Afghanistan</td>\n",
       "      <td>33.93911</td>\n",
       "      <td>67.709953</td>\n",
       "      <td>0</td>\n",
       "      <td>0</td>\n",
       "      <td>0</td>\n",
       "      <td>0</td>\n",
       "      <td>0</td>\n",
       "      <td>0</td>\n",
       "      <td>...</td>\n",
       "      <td>2378</td>\n",
       "      <td>2385</td>\n",
       "      <td>2389</td>\n",
       "      <td>2389</td>\n",
       "      <td>2397</td>\n",
       "      <td>2399</td>\n",
       "      <td>2400</td>\n",
       "      <td>2400</td>\n",
       "      <td>2404</td>\n",
       "      <td>2405</td>\n",
       "    </tr>\n",
       "    <tr>\n",
       "      <th>1</th>\n",
       "      <td>NaN</td>\n",
       "      <td>Albania</td>\n",
       "      <td>41.15330</td>\n",
       "      <td>20.168300</td>\n",
       "      <td>0</td>\n",
       "      <td>0</td>\n",
       "      <td>0</td>\n",
       "      <td>0</td>\n",
       "      <td>0</td>\n",
       "      <td>0</td>\n",
       "      <td>...</td>\n",
       "      <td>1315</td>\n",
       "      <td>1324</td>\n",
       "      <td>1332</td>\n",
       "      <td>1339</td>\n",
       "      <td>1350</td>\n",
       "      <td>1358</td>\n",
       "      <td>1369</td>\n",
       "      <td>1380</td>\n",
       "      <td>1393</td>\n",
       "      <td>1398</td>\n",
       "    </tr>\n",
       "    <tr>\n",
       "      <th>2</th>\n",
       "      <td>NaN</td>\n",
       "      <td>Algeria</td>\n",
       "      <td>28.03390</td>\n",
       "      <td>1.659600</td>\n",
       "      <td>0</td>\n",
       "      <td>0</td>\n",
       "      <td>0</td>\n",
       "      <td>0</td>\n",
       "      <td>0</td>\n",
       "      <td>0</td>\n",
       "      <td>...</td>\n",
       "      <td>2863</td>\n",
       "      <td>2866</td>\n",
       "      <td>2871</td>\n",
       "      <td>2877</td>\n",
       "      <td>2881</td>\n",
       "      <td>2884</td>\n",
       "      <td>2888</td>\n",
       "      <td>2891</td>\n",
       "      <td>2894</td>\n",
       "      <td>2898</td>\n",
       "    </tr>\n",
       "    <tr>\n",
       "      <th>3</th>\n",
       "      <td>NaN</td>\n",
       "      <td>Andorra</td>\n",
       "      <td>42.50630</td>\n",
       "      <td>1.521800</td>\n",
       "      <td>0</td>\n",
       "      <td>0</td>\n",
       "      <td>0</td>\n",
       "      <td>0</td>\n",
       "      <td>0</td>\n",
       "      <td>0</td>\n",
       "      <td>...</td>\n",
       "      <td>96</td>\n",
       "      <td>97</td>\n",
       "      <td>97</td>\n",
       "      <td>98</td>\n",
       "      <td>100</td>\n",
       "      <td>100</td>\n",
       "      <td>101</td>\n",
       "      <td>101</td>\n",
       "      <td>101</td>\n",
       "      <td>102</td>\n",
       "    </tr>\n",
       "    <tr>\n",
       "      <th>4</th>\n",
       "      <td>NaN</td>\n",
       "      <td>Angola</td>\n",
       "      <td>-11.20270</td>\n",
       "      <td>17.873900</td>\n",
       "      <td>0</td>\n",
       "      <td>0</td>\n",
       "      <td>0</td>\n",
       "      <td>0</td>\n",
       "      <td>0</td>\n",
       "      <td>0</td>\n",
       "      <td>...</td>\n",
       "      <td>459</td>\n",
       "      <td>461</td>\n",
       "      <td>462</td>\n",
       "      <td>462</td>\n",
       "      <td>464</td>\n",
       "      <td>464</td>\n",
       "      <td>464</td>\n",
       "      <td>466</td>\n",
       "      <td>466</td>\n",
       "      <td>468</td>\n",
       "    </tr>\n",
       "  </tbody>\n",
       "</table>\n",
       "<p>5 rows × 382 columns</p>\n",
       "</div>"
      ],
      "text/plain": [
       "  Province/State Country/Region       Lat       Long  1/22/20  1/23/20  \\\n",
       "0            NaN    Afghanistan  33.93911  67.709953        0        0   \n",
       "1            NaN        Albania  41.15330  20.168300        0        0   \n",
       "2            NaN        Algeria  28.03390   1.659600        0        0   \n",
       "3            NaN        Andorra  42.50630   1.521800        0        0   \n",
       "4            NaN         Angola -11.20270  17.873900        0        0   \n",
       "\n",
       "   1/24/20  1/25/20  1/26/20  1/27/20  ...  1/24/21  1/25/21  1/26/21  \\\n",
       "0        0        0        0        0  ...     2378     2385     2389   \n",
       "1        0        0        0        0  ...     1315     1324     1332   \n",
       "2        0        0        0        0  ...     2863     2866     2871   \n",
       "3        0        0        0        0  ...       96       97       97   \n",
       "4        0        0        0        0  ...      459      461      462   \n",
       "\n",
       "   1/27/21  1/28/21  1/29/21  1/30/21  1/31/21  2/1/21  2/2/21  \n",
       "0     2389     2397     2399     2400     2400    2404    2405  \n",
       "1     1339     1350     1358     1369     1380    1393    1398  \n",
       "2     2877     2881     2884     2888     2891    2894    2898  \n",
       "3       98      100      100      101      101     101     102  \n",
       "4      462      464      464      464      466     466     468  \n",
       "\n",
       "[5 rows x 382 columns]"
      ]
     },
     "execution_count": 6,
     "metadata": {},
     "output_type": "execute_result"
    }
   ],
   "source": [
    "df_dead=pd.read_csv(\"https://raw.githubusercontent.com/CSSEGISandData/COVID-19/master/csse_covid_19_data/csse_covid_19_time_series/time_series_covid19_deaths_global.csv\")\n",
    "df_dead.head()"
   ]
  },
  {
   "cell_type": "code",
   "execution_count": 7,
   "metadata": {},
   "outputs": [
    {
     "data": {
      "text/html": [
       "<div>\n",
       "<style scoped>\n",
       "    .dataframe tbody tr th:only-of-type {\n",
       "        vertical-align: middle;\n",
       "    }\n",
       "\n",
       "    .dataframe tbody tr th {\n",
       "        vertical-align: top;\n",
       "    }\n",
       "\n",
       "    .dataframe thead th {\n",
       "        text-align: right;\n",
       "    }\n",
       "</style>\n",
       "<table border=\"1\" class=\"dataframe\">\n",
       "  <thead>\n",
       "    <tr style=\"text-align: right;\">\n",
       "      <th></th>\n",
       "      <th>Қайтыс болған</th>\n",
       "    </tr>\n",
       "  </thead>\n",
       "  <tbody>\n",
       "    <tr>\n",
       "      <th>2021-01-29</th>\n",
       "      <td>3042</td>\n",
       "    </tr>\n",
       "    <tr>\n",
       "      <th>2021-01-30</th>\n",
       "      <td>3045</td>\n",
       "    </tr>\n",
       "    <tr>\n",
       "      <th>2021-01-31</th>\n",
       "      <td>3046</td>\n",
       "    </tr>\n",
       "    <tr>\n",
       "      <th>2021-02-01</th>\n",
       "      <td>3046</td>\n",
       "    </tr>\n",
       "    <tr>\n",
       "      <th>2021-02-02</th>\n",
       "      <td>3047</td>\n",
       "    </tr>\n",
       "  </tbody>\n",
       "</table>\n",
       "</div>"
      ],
      "text/plain": [
       "            Қайтыс болған\n",
       "2021-01-29           3042\n",
       "2021-01-30           3045\n",
       "2021-01-31           3046\n",
       "2021-02-01           3046\n",
       "2021-02-02           3047"
      ]
     },
     "execution_count": 7,
     "metadata": {},
     "output_type": "execute_result"
    }
   ],
   "source": [
    "df_dead1=df_dead[df_dead[\"Country/Region\"]==country]\n",
    "df_dead2=pd.DataFrame(df_dead1[df_dead1.columns[4:]].sum(),columns=[\"Қайтыс болған\"])\n",
    "df_dead2.index=pd.to_datetime(df_dead2.index,format='%m/%d/%y')\n",
    "df_dead2.tail()"
   ]
  },
  {
   "cell_type": "code",
   "execution_count": 8,
   "metadata": {},
   "outputs": [
    {
     "data": {
      "text/html": [
       "<div>\n",
       "<style scoped>\n",
       "    .dataframe tbody tr th:only-of-type {\n",
       "        vertical-align: middle;\n",
       "    }\n",
       "\n",
       "    .dataframe tbody tr th {\n",
       "        vertical-align: top;\n",
       "    }\n",
       "\n",
       "    .dataframe thead th {\n",
       "        text-align: right;\n",
       "    }\n",
       "</style>\n",
       "<table border=\"1\" class=\"dataframe\">\n",
       "  <thead>\n",
       "    <tr style=\"text-align: right;\">\n",
       "      <th></th>\n",
       "      <th>Province/State</th>\n",
       "      <th>Country/Region</th>\n",
       "      <th>Lat</th>\n",
       "      <th>Long</th>\n",
       "      <th>1/22/20</th>\n",
       "      <th>1/23/20</th>\n",
       "      <th>1/24/20</th>\n",
       "      <th>1/25/20</th>\n",
       "      <th>1/26/20</th>\n",
       "      <th>1/27/20</th>\n",
       "      <th>...</th>\n",
       "      <th>1/24/21</th>\n",
       "      <th>1/25/21</th>\n",
       "      <th>1/26/21</th>\n",
       "      <th>1/27/21</th>\n",
       "      <th>1/28/21</th>\n",
       "      <th>1/29/21</th>\n",
       "      <th>1/30/21</th>\n",
       "      <th>1/31/21</th>\n",
       "      <th>2/1/21</th>\n",
       "      <th>2/2/21</th>\n",
       "    </tr>\n",
       "  </thead>\n",
       "  <tbody>\n",
       "    <tr>\n",
       "      <th>0</th>\n",
       "      <td>NaN</td>\n",
       "      <td>Afghanistan</td>\n",
       "      <td>33.93911</td>\n",
       "      <td>67.709953</td>\n",
       "      <td>0</td>\n",
       "      <td>0</td>\n",
       "      <td>0</td>\n",
       "      <td>0</td>\n",
       "      <td>0</td>\n",
       "      <td>0</td>\n",
       "      <td>...</td>\n",
       "      <td>47298</td>\n",
       "      <td>47365</td>\n",
       "      <td>47459</td>\n",
       "      <td>47549</td>\n",
       "      <td>47583</td>\n",
       "      <td>47606</td>\n",
       "      <td>47609</td>\n",
       "      <td>47679</td>\n",
       "      <td>47723</td>\n",
       "      <td>47798</td>\n",
       "    </tr>\n",
       "    <tr>\n",
       "      <th>1</th>\n",
       "      <td>NaN</td>\n",
       "      <td>Albania</td>\n",
       "      <td>41.15330</td>\n",
       "      <td>20.168300</td>\n",
       "      <td>0</td>\n",
       "      <td>0</td>\n",
       "      <td>0</td>\n",
       "      <td>0</td>\n",
       "      <td>0</td>\n",
       "      <td>0</td>\n",
       "      <td>...</td>\n",
       "      <td>43890</td>\n",
       "      <td>44291</td>\n",
       "      <td>44880</td>\n",
       "      <td>45383</td>\n",
       "      <td>45906</td>\n",
       "      <td>46420</td>\n",
       "      <td>46927</td>\n",
       "      <td>47424</td>\n",
       "      <td>47922</td>\n",
       "      <td>48377</td>\n",
       "    </tr>\n",
       "    <tr>\n",
       "      <th>2</th>\n",
       "      <td>NaN</td>\n",
       "      <td>Algeria</td>\n",
       "      <td>28.03390</td>\n",
       "      <td>1.659600</td>\n",
       "      <td>0</td>\n",
       "      <td>0</td>\n",
       "      <td>0</td>\n",
       "      <td>0</td>\n",
       "      <td>0</td>\n",
       "      <td>0</td>\n",
       "      <td>...</td>\n",
       "      <td>71945</td>\n",
       "      <td>72143</td>\n",
       "      <td>72336</td>\n",
       "      <td>72538</td>\n",
       "      <td>72745</td>\n",
       "      <td>72956</td>\n",
       "      <td>73152</td>\n",
       "      <td>73344</td>\n",
       "      <td>73530</td>\n",
       "      <td>73732</td>\n",
       "    </tr>\n",
       "    <tr>\n",
       "      <th>3</th>\n",
       "      <td>NaN</td>\n",
       "      <td>Andorra</td>\n",
       "      <td>42.50630</td>\n",
       "      <td>1.521800</td>\n",
       "      <td>0</td>\n",
       "      <td>0</td>\n",
       "      <td>0</td>\n",
       "      <td>0</td>\n",
       "      <td>0</td>\n",
       "      <td>0</td>\n",
       "      <td>...</td>\n",
       "      <td>8652</td>\n",
       "      <td>8724</td>\n",
       "      <td>8774</td>\n",
       "      <td>8851</td>\n",
       "      <td>8942</td>\n",
       "      <td>8986</td>\n",
       "      <td>9045</td>\n",
       "      <td>9093</td>\n",
       "      <td>9206</td>\n",
       "      <td>9252</td>\n",
       "    </tr>\n",
       "    <tr>\n",
       "      <th>4</th>\n",
       "      <td>NaN</td>\n",
       "      <td>Angola</td>\n",
       "      <td>-11.20270</td>\n",
       "      <td>17.873900</td>\n",
       "      <td>0</td>\n",
       "      <td>0</td>\n",
       "      <td>0</td>\n",
       "      <td>0</td>\n",
       "      <td>0</td>\n",
       "      <td>0</td>\n",
       "      <td>...</td>\n",
       "      <td>17266</td>\n",
       "      <td>17327</td>\n",
       "      <td>17388</td>\n",
       "      <td>17602</td>\n",
       "      <td>17692</td>\n",
       "      <td>17918</td>\n",
       "      <td>18015</td>\n",
       "      <td>18035</td>\n",
       "      <td>18180</td>\n",
       "      <td>18232</td>\n",
       "    </tr>\n",
       "  </tbody>\n",
       "</table>\n",
       "<p>5 rows × 382 columns</p>\n",
       "</div>"
      ],
      "text/plain": [
       "  Province/State Country/Region       Lat       Long  1/22/20  1/23/20  \\\n",
       "0            NaN    Afghanistan  33.93911  67.709953        0        0   \n",
       "1            NaN        Albania  41.15330  20.168300        0        0   \n",
       "2            NaN        Algeria  28.03390   1.659600        0        0   \n",
       "3            NaN        Andorra  42.50630   1.521800        0        0   \n",
       "4            NaN         Angola -11.20270  17.873900        0        0   \n",
       "\n",
       "   1/24/20  1/25/20  1/26/20  1/27/20  ...  1/24/21  1/25/21  1/26/21  \\\n",
       "0        0        0        0        0  ...    47298    47365    47459   \n",
       "1        0        0        0        0  ...    43890    44291    44880   \n",
       "2        0        0        0        0  ...    71945    72143    72336   \n",
       "3        0        0        0        0  ...     8652     8724     8774   \n",
       "4        0        0        0        0  ...    17266    17327    17388   \n",
       "\n",
       "   1/27/21  1/28/21  1/29/21  1/30/21  1/31/21  2/1/21  2/2/21  \n",
       "0    47549    47583    47606    47609    47679   47723   47798  \n",
       "1    45383    45906    46420    46927    47424   47922   48377  \n",
       "2    72538    72745    72956    73152    73344   73530   73732  \n",
       "3     8851     8942     8986     9045     9093    9206    9252  \n",
       "4    17602    17692    17918    18015    18035   18180   18232  \n",
       "\n",
       "[5 rows x 382 columns]"
      ]
     },
     "execution_count": 8,
     "metadata": {},
     "output_type": "execute_result"
    }
   ],
   "source": [
    "df_recovered=pd.read_csv(\"https://raw.githubusercontent.com/CSSEGISandData/COVID-19/master/csse_covid_19_data/csse_covid_19_time_series/time_series_covid19_recovered_global.csv\")\n",
    "df_recovered.head()"
   ]
  },
  {
   "cell_type": "markdown",
   "metadata": {},
   "source": [
    "# Қазақстан үшін деректер жиынтығын құру"
   ]
  },
  {
   "cell_type": "code",
   "execution_count": 9,
   "metadata": {},
   "outputs": [
    {
     "data": {
      "text/html": [
       "<div>\n",
       "<style scoped>\n",
       "    .dataframe tbody tr th:only-of-type {\n",
       "        vertical-align: middle;\n",
       "    }\n",
       "\n",
       "    .dataframe tbody tr th {\n",
       "        vertical-align: top;\n",
       "    }\n",
       "\n",
       "    .dataframe thead th {\n",
       "        text-align: right;\n",
       "    }\n",
       "</style>\n",
       "<table border=\"1\" class=\"dataframe\">\n",
       "  <thead>\n",
       "    <tr style=\"text-align: right;\">\n",
       "      <th></th>\n",
       "      <th>Province/State</th>\n",
       "      <th>Country/Region</th>\n",
       "      <th>Lat</th>\n",
       "      <th>Long</th>\n",
       "      <th>1/22/20</th>\n",
       "      <th>1/23/20</th>\n",
       "      <th>1/24/20</th>\n",
       "      <th>1/25/20</th>\n",
       "      <th>1/26/20</th>\n",
       "      <th>1/27/20</th>\n",
       "      <th>...</th>\n",
       "      <th>1/24/21</th>\n",
       "      <th>1/25/21</th>\n",
       "      <th>1/26/21</th>\n",
       "      <th>1/27/21</th>\n",
       "      <th>1/28/21</th>\n",
       "      <th>1/29/21</th>\n",
       "      <th>1/30/21</th>\n",
       "      <th>1/31/21</th>\n",
       "      <th>2/1/21</th>\n",
       "      <th>2/2/21</th>\n",
       "    </tr>\n",
       "  </thead>\n",
       "  <tbody>\n",
       "    <tr>\n",
       "      <th>141</th>\n",
       "      <td>NaN</td>\n",
       "      <td>Kazakhstan</td>\n",
       "      <td>48.0196</td>\n",
       "      <td>66.9237</td>\n",
       "      <td>0</td>\n",
       "      <td>0</td>\n",
       "      <td>0</td>\n",
       "      <td>0</td>\n",
       "      <td>0</td>\n",
       "      <td>0</td>\n",
       "      <td>...</td>\n",
       "      <td>195496</td>\n",
       "      <td>196978</td>\n",
       "      <td>198504</td>\n",
       "      <td>199667</td>\n",
       "      <td>201105</td>\n",
       "      <td>202652</td>\n",
       "      <td>203657</td>\n",
       "      <td>204668</td>\n",
       "      <td>205991</td>\n",
       "      <td>207328</td>\n",
       "    </tr>\n",
       "  </tbody>\n",
       "</table>\n",
       "<p>1 rows × 382 columns</p>\n",
       "</div>"
      ],
      "text/plain": [
       "    Province/State Country/Region      Lat     Long  1/22/20  1/23/20  \\\n",
       "141            NaN     Kazakhstan  48.0196  66.9237        0        0   \n",
       "\n",
       "     1/24/20  1/25/20  1/26/20  1/27/20  ...  1/24/21  1/25/21  1/26/21  \\\n",
       "141        0        0        0        0  ...   195496   196978   198504   \n",
       "\n",
       "     1/27/21  1/28/21  1/29/21  1/30/21  1/31/21  2/1/21  2/2/21  \n",
       "141   199667   201105   202652   203657   204668  205991  207328  \n",
       "\n",
       "[1 rows x 382 columns]"
      ]
     },
     "execution_count": 9,
     "metadata": {},
     "output_type": "execute_result"
    }
   ],
   "source": [
    "df_recovered1=df_recovered[df_recovered[\"Country/Region\"]==country]\n",
    "df_recovered1"
   ]
  },
  {
   "cell_type": "code",
   "execution_count": 10,
   "metadata": {},
   "outputs": [
    {
     "data": {
      "text/html": [
       "<div>\n",
       "<style scoped>\n",
       "    .dataframe tbody tr th:only-of-type {\n",
       "        vertical-align: middle;\n",
       "    }\n",
       "\n",
       "    .dataframe tbody tr th {\n",
       "        vertical-align: top;\n",
       "    }\n",
       "\n",
       "    .dataframe thead th {\n",
       "        text-align: right;\n",
       "    }\n",
       "</style>\n",
       "<table border=\"1\" class=\"dataframe\">\n",
       "  <thead>\n",
       "    <tr style=\"text-align: right;\">\n",
       "      <th></th>\n",
       "      <th>Сауыққан</th>\n",
       "    </tr>\n",
       "  </thead>\n",
       "  <tbody>\n",
       "    <tr>\n",
       "      <th>2021-01-29</th>\n",
       "      <td>202652</td>\n",
       "    </tr>\n",
       "    <tr>\n",
       "      <th>2021-01-30</th>\n",
       "      <td>203657</td>\n",
       "    </tr>\n",
       "    <tr>\n",
       "      <th>2021-01-31</th>\n",
       "      <td>204668</td>\n",
       "    </tr>\n",
       "    <tr>\n",
       "      <th>2021-02-01</th>\n",
       "      <td>205991</td>\n",
       "    </tr>\n",
       "    <tr>\n",
       "      <th>2021-02-02</th>\n",
       "      <td>207328</td>\n",
       "    </tr>\n",
       "  </tbody>\n",
       "</table>\n",
       "</div>"
      ],
      "text/plain": [
       "            Сауыққан\n",
       "2021-01-29    202652\n",
       "2021-01-30    203657\n",
       "2021-01-31    204668\n",
       "2021-02-01    205991\n",
       "2021-02-02    207328"
      ]
     },
     "execution_count": 10,
     "metadata": {},
     "output_type": "execute_result"
    }
   ],
   "source": [
    "df_recovered2 = pd.DataFrame(df_recovered1[df_recovered1.columns[4:]].sum(),columns=[\"Сауыққан\"])\n",
    "df_recovered2.index = pd.to_datetime(df_recovered2.index,format='%m/%d/%y')\n",
    "df_recovered2.tail()"
   ]
  },
  {
   "cell_type": "code",
   "execution_count": 11,
   "metadata": {},
   "outputs": [
    {
     "data": {
      "text/html": [
       "<div>\n",
       "<style scoped>\n",
       "    .dataframe tbody tr th:only-of-type {\n",
       "        vertical-align: middle;\n",
       "    }\n",
       "\n",
       "    .dataframe tbody tr th {\n",
       "        vertical-align: top;\n",
       "    }\n",
       "\n",
       "    .dataframe thead th {\n",
       "        text-align: right;\n",
       "    }\n",
       "</style>\n",
       "<table border=\"1\" class=\"dataframe\">\n",
       "  <thead>\n",
       "    <tr style=\"text-align: right;\">\n",
       "      <th></th>\n",
       "      <th>Расталған Жағдайлар</th>\n",
       "      <th>Қайтыс болған</th>\n",
       "    </tr>\n",
       "  </thead>\n",
       "  <tbody>\n",
       "    <tr>\n",
       "      <th>2021-01-29</th>\n",
       "      <td>233156</td>\n",
       "      <td>3042</td>\n",
       "    </tr>\n",
       "    <tr>\n",
       "      <th>2021-01-30</th>\n",
       "      <td>234569</td>\n",
       "      <td>3045</td>\n",
       "    </tr>\n",
       "    <tr>\n",
       "      <th>2021-01-31</th>\n",
       "      <td>235844</td>\n",
       "      <td>3046</td>\n",
       "    </tr>\n",
       "    <tr>\n",
       "      <th>2021-02-01</th>\n",
       "      <td>237029</td>\n",
       "      <td>3046</td>\n",
       "    </tr>\n",
       "    <tr>\n",
       "      <th>2021-02-02</th>\n",
       "      <td>238364</td>\n",
       "      <td>3047</td>\n",
       "    </tr>\n",
       "  </tbody>\n",
       "</table>\n",
       "</div>"
      ],
      "text/plain": [
       "            Расталған Жағдайлар  Қайтыс болған\n",
       "2021-01-29               233156           3042\n",
       "2021-01-30               234569           3045\n",
       "2021-01-31               235844           3046\n",
       "2021-02-01               237029           3046\n",
       "2021-02-02               238364           3047"
      ]
     },
     "execution_count": 11,
     "metadata": {},
     "output_type": "execute_result"
    }
   ],
   "source": [
    "df_conf_dead = df_confirmed2.join(df_dead2,how = \"inner\")\n",
    "df_conf_dead.tail()"
   ]
  },
  {
   "cell_type": "code",
   "execution_count": 12,
   "metadata": {},
   "outputs": [
    {
     "data": {
      "text/html": [
       "<div>\n",
       "<style scoped>\n",
       "    .dataframe tbody tr th:only-of-type {\n",
       "        vertical-align: middle;\n",
       "    }\n",
       "\n",
       "    .dataframe tbody tr th {\n",
       "        vertical-align: top;\n",
       "    }\n",
       "\n",
       "    .dataframe thead th {\n",
       "        text-align: right;\n",
       "    }\n",
       "</style>\n",
       "<table border=\"1\" class=\"dataframe\">\n",
       "  <thead>\n",
       "    <tr style=\"text-align: right;\">\n",
       "      <th></th>\n",
       "      <th>Расталған Жағдайлар</th>\n",
       "      <th>Қайтыс болған</th>\n",
       "      <th>Сауыққан</th>\n",
       "    </tr>\n",
       "  </thead>\n",
       "  <tbody>\n",
       "    <tr>\n",
       "      <th>2021-01-29</th>\n",
       "      <td>233156</td>\n",
       "      <td>3042</td>\n",
       "      <td>202652</td>\n",
       "    </tr>\n",
       "    <tr>\n",
       "      <th>2021-01-30</th>\n",
       "      <td>234569</td>\n",
       "      <td>3045</td>\n",
       "      <td>203657</td>\n",
       "    </tr>\n",
       "    <tr>\n",
       "      <th>2021-01-31</th>\n",
       "      <td>235844</td>\n",
       "      <td>3046</td>\n",
       "      <td>204668</td>\n",
       "    </tr>\n",
       "    <tr>\n",
       "      <th>2021-02-01</th>\n",
       "      <td>237029</td>\n",
       "      <td>3046</td>\n",
       "      <td>205991</td>\n",
       "    </tr>\n",
       "    <tr>\n",
       "      <th>2021-02-02</th>\n",
       "      <td>238364</td>\n",
       "      <td>3047</td>\n",
       "      <td>207328</td>\n",
       "    </tr>\n",
       "  </tbody>\n",
       "</table>\n",
       "</div>"
      ],
      "text/plain": [
       "            Расталған Жағдайлар  Қайтыс болған  Сауыққан\n",
       "2021-01-29               233156           3042    202652\n",
       "2021-01-30               234569           3045    203657\n",
       "2021-01-31               235844           3046    204668\n",
       "2021-02-01               237029           3046    205991\n",
       "2021-02-02               238364           3047    207328"
      ]
     },
     "execution_count": 12,
     "metadata": {},
     "output_type": "execute_result"
    }
   ],
   "source": [
    "df_allcases=df_conf_dead.join(df_recovered2,how=\"inner\")\n",
    "df_allcases.tail()"
   ]
  },
  {
   "cell_type": "code",
   "execution_count": 13,
   "metadata": {},
   "outputs": [
    {
     "data": {
      "text/plain": [
       "<AxesSubplot:title={'center':'Қазақстан'}>"
      ]
     },
     "execution_count": 13,
     "metadata": {},
     "output_type": "execute_result"
    },
    {
     "data": {
      "image/png": "[encoded data removed]",
      "text/plain": [
       "<Figure size 720x360 with 1 Axes>"
      ]
     },
     "metadata": {
      "needs_background": "light"
     },
     "output_type": "display_data"
    }
   ],
   "source": [
    "df_allcases.plot(figsize=(10,5),title=\"Қазақстан\")"
   ]
  },
  {
   "cell_type": "code",
   "execution_count": 14,
   "metadata": {},
   "outputs": [
    {
     "data": {
      "text/plain": [
       "<AxesSubplot:title={'center':'Қазақстан-аурудың расталған жағдайлары'}>"
      ]
     },
     "execution_count": 14,
     "metadata": {},
     "output_type": "execute_result"
    },
    {
     "data": {
      "image/png": "[encoded data removed]",
      "text/plain": [
       "<Figure size 432x288 with 1 Axes>"
      ]
     },
     "metadata": {
      "needs_background": "light"
     },
     "output_type": "display_data"
    }
   ],
   "source": [
    "df_confirmed2.plot(title=\"Қазақстан-аурудың расталған жағдайлары\")"
   ]
  },
  {
   "cell_type": "markdown",
   "metadata": {},
   "source": [
    "# Деректерді алдын-ала өңдеу"
   ]
  },
  {
   "cell_type": "code",
   "execution_count": 15,
   "metadata": {},
   "outputs": [
    {
     "data": {
      "text/html": [
       "<div>\n",
       "<style scoped>\n",
       "    .dataframe tbody tr th:only-of-type {\n",
       "        vertical-align: middle;\n",
       "    }\n",
       "\n",
       "    .dataframe tbody tr th {\n",
       "        vertical-align: top;\n",
       "    }\n",
       "\n",
       "    .dataframe thead th {\n",
       "        text-align: right;\n",
       "    }\n",
       "</style>\n",
       "<table border=\"1\" class=\"dataframe\">\n",
       "  <thead>\n",
       "    <tr style=\"text-align: right;\">\n",
       "      <th></th>\n",
       "      <th>Расталған Жағдайлар</th>\n",
       "    </tr>\n",
       "  </thead>\n",
       "  <tbody>\n",
       "    <tr>\n",
       "      <th>2021-01-24</th>\n",
       "      <td>225891</td>\n",
       "    </tr>\n",
       "    <tr>\n",
       "      <th>2021-01-25</th>\n",
       "      <td>227165</td>\n",
       "    </tr>\n",
       "    <tr>\n",
       "      <th>2021-01-26</th>\n",
       "      <td>228692</td>\n",
       "    </tr>\n",
       "    <tr>\n",
       "      <th>2021-01-27</th>\n",
       "      <td>230188</td>\n",
       "    </tr>\n",
       "    <tr>\n",
       "      <th>2021-01-28</th>\n",
       "      <td>231716</td>\n",
       "    </tr>\n",
       "    <tr>\n",
       "      <th>2021-01-29</th>\n",
       "      <td>233156</td>\n",
       "    </tr>\n",
       "    <tr>\n",
       "      <th>2021-01-30</th>\n",
       "      <td>234569</td>\n",
       "    </tr>\n",
       "    <tr>\n",
       "      <th>2021-01-31</th>\n",
       "      <td>235844</td>\n",
       "    </tr>\n",
       "    <tr>\n",
       "      <th>2021-02-01</th>\n",
       "      <td>237029</td>\n",
       "    </tr>\n",
       "    <tr>\n",
       "      <th>2021-02-02</th>\n",
       "      <td>238364</td>\n",
       "    </tr>\n",
       "  </tbody>\n",
       "</table>\n",
       "</div>"
      ],
      "text/plain": [
       "            Расталған Жағдайлар\n",
       "2021-01-24               225891\n",
       "2021-01-25               227165\n",
       "2021-01-26               228692\n",
       "2021-01-27               230188\n",
       "2021-01-28               231716\n",
       "2021-01-29               233156\n",
       "2021-01-30               234569\n",
       "2021-01-31               235844\n",
       "2021-02-01               237029\n",
       "2021-02-02               238364"
      ]
     },
     "execution_count": 15,
     "metadata": {},
     "output_type": "execute_result"
    }
   ],
   "source": [
    "df_new = df_confirmed2[[\"Расталған Жағдайлар\"]]\n",
    "df_new.tail(10)"
   ]
  },
  {
   "cell_type": "code",
   "execution_count": 16,
   "metadata": {},
   "outputs": [
    {
     "data": {
      "text/plain": [
       "378"
      ]
     },
     "execution_count": 16,
     "metadata": {},
     "output_type": "execute_result"
    }
   ],
   "source": [
    "len(df_new)"
   ]
  },
  {
   "cell_type": "code",
   "execution_count": 17,
   "metadata": {},
   "outputs": [
    {
     "data": {
      "text/plain": [
       "373"
      ]
     },
     "execution_count": 17,
     "metadata": {},
     "output_type": "execute_result"
    }
   ],
   "source": [
    "x=len(df_new)-5\n",
    "x"
   ]
  },
  {
   "cell_type": "code",
   "execution_count": 18,
   "metadata": {},
   "outputs": [
    {
     "data": {
      "text/html": [
       "<div>\n",
       "<style scoped>\n",
       "    .dataframe tbody tr th:only-of-type {\n",
       "        vertical-align: middle;\n",
       "    }\n",
       "\n",
       "    .dataframe tbody tr th {\n",
       "        vertical-align: top;\n",
       "    }\n",
       "\n",
       "    .dataframe thead th {\n",
       "        text-align: right;\n",
       "    }\n",
       "</style>\n",
       "<table border=\"1\" class=\"dataframe\">\n",
       "  <thead>\n",
       "    <tr style=\"text-align: right;\">\n",
       "      <th></th>\n",
       "      <th>Расталған Жағдайлар</th>\n",
       "    </tr>\n",
       "  </thead>\n",
       "  <tbody>\n",
       "    <tr>\n",
       "      <th>2021-01-24</th>\n",
       "      <td>225891</td>\n",
       "    </tr>\n",
       "    <tr>\n",
       "      <th>2021-01-25</th>\n",
       "      <td>227165</td>\n",
       "    </tr>\n",
       "    <tr>\n",
       "      <th>2021-01-26</th>\n",
       "      <td>228692</td>\n",
       "    </tr>\n",
       "    <tr>\n",
       "      <th>2021-01-27</th>\n",
       "      <td>230188</td>\n",
       "    </tr>\n",
       "    <tr>\n",
       "      <th>2021-01-28</th>\n",
       "      <td>231716</td>\n",
       "    </tr>\n",
       "  </tbody>\n",
       "</table>\n",
       "</div>"
      ],
      "text/plain": [
       "            Расталған Жағдайлар\n",
       "2021-01-24               225891\n",
       "2021-01-25               227165\n",
       "2021-01-26               228692\n",
       "2021-01-27               230188\n",
       "2021-01-28               231716"
      ]
     },
     "execution_count": 18,
     "metadata": {},
     "output_type": "execute_result"
    }
   ],
   "source": [
    "train=df_new.iloc[51:x]\n",
    "test = df_new.iloc[x:]\n",
    "train.tail()"
   ]
  },
  {
   "cell_type": "markdown",
   "metadata": {},
   "source": [
    "# Уақыт қатарларының мәліметтер жиынтығында маусымдық болғандықтан, болжам жасау үшін деректердегі маусымдылықты жою керек"
   ]
  },
  {
   "cell_type": "code",
   "execution_count": 19,
   "metadata": {},
   "outputs": [],
   "source": [
    "from statsmodels.tsa.seasonal import seasonal_decompose"
   ]
  },
  {
   "cell_type": "code",
   "execution_count": 20,
   "metadata": {},
   "outputs": [],
   "source": [
    "dcmp=seasonal_decompose(train)"
   ]
  },
  {
   "cell_type": "code",
   "execution_count": 21,
   "metadata": {},
   "outputs": [],
   "source": [
    "trend=dcmp.trend\n",
    "seasonal=dcmp.seasonal"
   ]
  },
  {
   "cell_type": "code",
   "execution_count": 22,
   "metadata": {},
   "outputs": [
    {
     "data": {
      "image/png": "[encoded data removed]",
      "text/plain": [
       "<Figure size 432x288 with 3 Axes>"
      ]
     },
     "metadata": {
      "needs_background": "light"
     },
     "output_type": "display_data"
    }
   ],
   "source": [
    "plt.subplot(411)\n",
    "plt.plot(train,label='Бастапқы өлшемдер')\n",
    "plt.legend(loc='best')\n",
    "plt.subplot(412)\n",
    "plt.plot(trend,label='Тренд')\n",
    "plt.legend(loc='best')\n",
    "plt.subplot(413)\n",
    "plt.plot(seasonal,label='Сезондық')\n",
    "plt.legend(loc='best')\n",
    "\n",
    "plt.tight_layout()"
   ]
  },
  {
   "cell_type": "markdown",
   "metadata": {},
   "source": [
    "# Деректерді қалыпқа келтіру"
   ]
  },
  {
   "cell_type": "code",
   "execution_count": 23,
   "metadata": {},
   "outputs": [],
   "source": [
    "from sklearn.preprocessing import MinMaxScaler\n",
    "scaler = MinMaxScaler()"
   ]
  },
  {
   "cell_type": "markdown",
   "metadata": {},
   "source": [
    "# MinMaxScaler көмегімен түзету және түрлендіру"
   ]
  },
  {
   "cell_type": "code",
   "execution_count": 24,
   "metadata": {},
   "outputs": [
    {
     "data": {
      "text/plain": [
       "MinMaxScaler(copy=True, feature_range=(0, 1))"
      ]
     },
     "execution_count": 24,
     "metadata": {},
     "output_type": "execute_result"
    }
   ],
   "source": [
    "scaler.fit(train)"
   ]
  },
  {
   "cell_type": "code",
   "execution_count": 25,
   "metadata": {},
   "outputs": [
    {
     "name": "stdout",
     "output_type": "stream",
     "text": [
      "[[0.97486103]\n",
      " [0.98035924]\n",
      " [0.98694932]\n",
      " [0.99340561]\n",
      " [1.        ]]\n"
     ]
    }
   ],
   "source": [
    "scaled_train = scaler.transform(train)\n",
    "scaled_test = scaler.transform(test)\n",
    "print(scaled_train[-5:])"
   ]
  },
  {
   "cell_type": "code",
   "execution_count": 26,
   "metadata": {},
   "outputs": [],
   "source": [
    "from tensorflow.keras.preprocessing.sequence import TimeseriesGenerator"
   ]
  },
  {
   "cell_type": "code",
   "execution_count": 27,
   "metadata": {},
   "outputs": [
    {
     "data": {
      "text/plain": [
       "(322, 1)"
      ]
     },
     "execution_count": 27,
     "metadata": {},
     "output_type": "execute_result"
    }
   ],
   "source": [
    "scaled_train.shape"
   ]
  },
  {
   "cell_type": "code",
   "execution_count": 28,
   "metadata": {},
   "outputs": [],
   "source": [
    "n_input = 5\n",
    "n_features = 1\n",
    "generator = TimeseriesGenerator(scaled_train,scaled_train,length = n_input,batch_size=1)"
   ]
  },
  {
   "cell_type": "code",
   "execution_count": 29,
   "metadata": {},
   "outputs": [
    {
     "data": {
      "text/plain": [
       "322"
      ]
     },
     "execution_count": 29,
     "metadata": {},
     "output_type": "execute_result"
    }
   ],
   "source": [
    "len(scaled_train)"
   ]
  },
  {
   "cell_type": "code",
   "execution_count": 30,
   "metadata": {},
   "outputs": [
    {
     "data": {
      "text/plain": [
       "317"
      ]
     },
     "execution_count": 30,
     "metadata": {},
     "output_type": "execute_result"
    }
   ],
   "source": [
    "len(generator)"
   ]
  },
  {
   "cell_type": "code",
   "execution_count": 31,
   "metadata": {},
   "outputs": [],
   "source": [
    "x,y = generator[50]"
   ]
  },
  {
   "cell_type": "code",
   "execution_count": 32,
   "metadata": {},
   "outputs": [
    {
     "data": {
      "text/plain": [
       "((1, 5, 1), (1, 1))"
      ]
     },
     "execution_count": 32,
     "metadata": {},
     "output_type": "execute_result"
    }
   ],
   "source": [
    "(x.shape,y.shape)"
   ]
  },
  {
   "cell_type": "code",
   "execution_count": 33,
   "metadata": {},
   "outputs": [
    {
     "data": {
      "text/plain": [
       "(array([[[0.0166284 ],\n",
       "         [0.01690029],\n",
       "         [0.01745702],\n",
       "         [0.01813027],\n",
       "         [0.01906677]]]),\n",
       " array([[0.01974002]]))"
      ]
     },
     "execution_count": 33,
     "metadata": {},
     "output_type": "execute_result"
    }
   ],
   "source": [
    "(x,y)"
   ]
  },
  {
   "cell_type": "code",
   "execution_count": 34,
   "metadata": {},
   "outputs": [
    {
     "data": {
      "text/plain": [
       "array([[0.01974002]])"
      ]
     },
     "execution_count": 34,
     "metadata": {},
     "output_type": "execute_result"
    }
   ],
   "source": [
    "y"
   ]
  },
  {
   "cell_type": "markdown",
   "metadata": {},
   "source": [
    "# Модель құру"
   ]
  },
  {
   "cell_type": "code",
   "execution_count": 35,
   "metadata": {},
   "outputs": [],
   "source": [
    "from tensorflow.keras.models import Sequential\n",
    "from tensorflow.keras.layers import Dense, LSTM, Dropout, Activation"
   ]
  },
  {
   "cell_type": "code",
   "execution_count": 36,
   "metadata": {},
   "outputs": [
    {
     "name": "stdout",
     "output_type": "stream",
     "text": [
      "WARNING:tensorflow:From c:\\users\\yelzha\\appdata\\local\\programs\\python\\python37\\lib\\site-packages\\tensorflow\\python\\ops\\init_ops.py:1251: calling VarianceScaling.__init__ (from tensorflow.python.ops.init_ops) with dtype is deprecated and will be removed in a future version.\n",
      "Instructions for updating:\n",
      "Call initializer instance with the dtype argument instead of passing it to the constructor\n"
     ]
    }
   ],
   "source": [
    "model = Sequential()\n",
    "model.add(LSTM(150,activation=\"relu\",input_shape=(n_input,n_features)))\n",
    "model.add(Dense(225, activation='relu'))\n",
    "model.add(Dense(units=1))\n",
    "model.compile(optimizer=\"adam\",loss=\"mse\")"
   ]
  },
  {
   "cell_type": "code",
   "execution_count": 37,
   "metadata": {},
   "outputs": [
    {
     "name": "stdout",
     "output_type": "stream",
     "text": [
      "Model: \"sequential\"\n",
      "_________________________________________________________________\n",
      "Layer (type)                 Output Shape              Param #   \n",
      "=================================================================\n",
      "lstm (LSTM)                  (None, 150)               91200     \n",
      "_________________________________________________________________\n",
      "dense (Dense)                (None, 225)               33975     \n",
      "_________________________________________________________________\n",
      "dense_1 (Dense)              (None, 1)                 226       \n",
      "=================================================================\n",
      "Total params: 125,401\n",
      "Trainable params: 125,401\n",
      "Non-trainable params: 0\n",
      "_________________________________________________________________\n"
     ]
    }
   ],
   "source": [
    "model.summary()"
   ]
  },
  {
   "cell_type": "code",
   "execution_count": 38,
   "metadata": {},
   "outputs": [
    {
     "data": {
      "text/plain": [
       "array([[0.99340561],\n",
       "       [1.00621461],\n",
       "       [1.0123127 ],\n",
       "       [1.01781522],\n",
       "       [1.02292933],\n",
       "       [1.02869079]])"
      ]
     },
     "execution_count": 38,
     "metadata": {},
     "output_type": "execute_result"
    }
   ],
   "source": [
    "validation_set = np.append(scaled_train[320],scaled_test)\n",
    "validation_set=validation_set.reshape(6,1)\n",
    "validation_set"
   ]
  },
  {
   "cell_type": "code",
   "execution_count": 39,
   "metadata": {},
   "outputs": [],
   "source": [
    "n_input = 5\n",
    "n_features = 1\n",
    "validation_gen = TimeseriesGenerator(validation_set,validation_set,length=5,batch_size=1)"
   ]
  },
  {
   "cell_type": "code",
   "execution_count": 40,
   "metadata": {},
   "outputs": [
    {
     "data": {
      "text/plain": [
       "((1, 5, 1), (1, 1))"
      ]
     },
     "execution_count": 40,
     "metadata": {},
     "output_type": "execute_result"
    }
   ],
   "source": [
    "validation_gen[0][0].shape,validation_gen[0][1].shape"
   ]
  },
  {
   "cell_type": "markdown",
   "metadata": {},
   "source": [
    "# Модельді оқыту"
   ]
  },
  {
   "cell_type": "raw",
   "metadata": {},
   "source": [
    "from tensorflow.keras.callbacks import EarlyStopping\n",
    "early_stop = EarlyStopping(monitor='val_loss',patience=20,restore_best_weights=True)"
   ]
  },
  {
   "cell_type": "code",
   "execution_count": 41,
   "metadata": {},
   "outputs": [
    {
     "name": "stdout",
     "output_type": "stream",
     "text": [
      "Epoch 1/100\n",
      "WARNING:tensorflow:From c:\\users\\yelzha\\appdata\\local\\programs\\python\\python37\\lib\\site-packages\\tensorflow\\python\\ops\\math_grad.py:1250: add_dispatch_support.<locals>.wrapper (from tensorflow.python.ops.array_ops) is deprecated and will be removed in a future version.\n",
      "Instructions for updating:\n",
      "Use tf.where in 2.0, which has the same broadcast rule as np.where\n",
      "10/10 [==============================] - 1s 127ms/step - loss: 0.1736 - val_loss: 0.4347\n",
      "Epoch 2/100\n",
      "10/10 [==============================] - 0s 17ms/step - loss: 0.0356 - val_loss: 0.0438\n",
      "Epoch 3/100\n",
      "10/10 [==============================] - 0s 20ms/step - loss: 0.0171 - val_loss: 0.0013\n",
      "Epoch 4/100\n",
      "10/10 [==============================] - 0s 17ms/step - loss: 0.0043 - val_loss: 0.0368\n",
      "Epoch 5/100\n",
      "10/10 [==============================] - 0s 19ms/step - loss: 0.0066 - val_loss: 3.3284e-05\n",
      "Epoch 6/100\n",
      "10/10 [==============================] - 0s 17ms/step - loss: 0.0010 - val_loss: 1.3472e-07\n",
      "Epoch 7/100\n",
      "10/10 [==============================] - 0s 19ms/step - loss: 1.8997e-04 - val_loss: 7.4042e-06\n",
      "Epoch 8/100\n",
      "10/10 [==============================] - 0s 17ms/step - loss: 2.9360e-04 - val_loss: 4.9694e-08\n",
      "Epoch 9/100\n",
      "10/10 [==============================] - 0s 17ms/step - loss: 1.4314e-04 - val_loss: 2.2152e-04\n",
      "Epoch 10/100\n",
      "10/10 [==============================] - 0s 18ms/step - loss: 2.0461e-04 - val_loss: 2.7075e-04\n",
      "Epoch 11/100\n",
      "10/10 [==============================] - 0s 17ms/step - loss: 3.0443e-04 - val_loss: 2.0686e-04\n",
      "Epoch 12/100\n",
      "10/10 [==============================] - 0s 20ms/step - loss: 1.3435e-04 - val_loss: 3.7637e-04\n",
      "Epoch 13/100\n",
      "10/10 [==============================] - 0s 18ms/step - loss: 1.3742e-04 - val_loss: 4.4709e-07\n",
      "Epoch 14/100\n",
      "10/10 [==============================] - 0s 18ms/step - loss: 1.1148e-04 - val_loss: 3.7061e-04\n",
      "Epoch 15/100\n",
      "10/10 [==============================] - 0s 17ms/step - loss: 6.2193e-05 - val_loss: 8.0418e-04\n",
      "Epoch 16/100\n",
      "10/10 [==============================] - 0s 20ms/step - loss: 7.9654e-05 - val_loss: 5.7457e-04\n",
      "Epoch 17/100\n",
      "10/10 [==============================] - 0s 17ms/step - loss: 8.6919e-05 - val_loss: 1.3730e-05\n",
      "Epoch 18/100\n",
      "10/10 [==============================] - 0s 19ms/step - loss: 0.0011 - val_loss: 7.9082e-04\n",
      "Epoch 19/100\n",
      "10/10 [==============================] - 0s 19ms/step - loss: 4.8135e-04 - val_loss: 0.0012\n",
      "Epoch 20/100\n",
      "10/10 [==============================] - 0s 19ms/step - loss: 3.0823e-04 - val_loss: 5.2664e-04\n",
      "Epoch 21/100\n",
      "10/10 [==============================] - 0s 19ms/step - loss: 9.0951e-05 - val_loss: 2.7776e-04\n",
      "Epoch 22/100\n",
      "10/10 [==============================] - 0s 17ms/step - loss: 9.9912e-05 - val_loss: 2.1319e-04\n",
      "Epoch 23/100\n",
      "10/10 [==============================] - 0s 18ms/step - loss: 8.0827e-05 - val_loss: 1.7423e-04\n",
      "Epoch 24/100\n",
      "10/10 [==============================] - 0s 19ms/step - loss: 8.6284e-05 - val_loss: 5.4983e-08\n",
      "Epoch 25/100\n",
      "10/10 [==============================] - 0s 19ms/step - loss: 7.7692e-05 - val_loss: 2.8650e-04\n",
      "Epoch 26/100\n",
      "10/10 [==============================] - 0s 17ms/step - loss: 3.1173e-05 - val_loss: 2.0066e-05\n",
      "Epoch 27/100\n",
      "10/10 [==============================] - 0s 20ms/step - loss: 8.4288e-05 - val_loss: 1.6537e-05\n",
      "Epoch 28/100\n",
      "10/10 [==============================] - 0s 20ms/step - loss: 5.4683e-05 - val_loss: 9.1241e-05\n",
      "Epoch 29/100\n",
      "10/10 [==============================] - 0s 20ms/step - loss: 3.1549e-05 - val_loss: 2.2843e-04\n",
      "Epoch 30/100\n",
      "10/10 [==============================] - 0s 17ms/step - loss: 1.0219e-04 - val_loss: 1.2627e-04\n",
      "Epoch 31/100\n",
      "10/10 [==============================] - 0s 20ms/step - loss: 4.1021e-05 - val_loss: 2.5610e-05\n",
      "Epoch 32/100\n",
      "10/10 [==============================] - 0s 20ms/step - loss: 1.8487e-05 - val_loss: 2.4190e-04\n",
      "Epoch 33/100\n",
      "10/10 [==============================] - 0s 20ms/step - loss: 7.9398e-04 - val_loss: 4.5466e-05\n",
      "Epoch 34/100\n",
      "10/10 [==============================] - 0s 19ms/step - loss: 1.8588e-04 - val_loss: 2.7804e-04\n",
      "Epoch 35/100\n",
      "10/10 [==============================] - 0s 18ms/step - loss: 3.1902e-05 - val_loss: 1.6286e-05\n",
      "Epoch 36/100\n",
      "10/10 [==============================] - 0s 19ms/step - loss: 5.7587e-05 - val_loss: 1.6109e-04\n",
      "Epoch 37/100\n",
      "10/10 [==============================] - 0s 20ms/step - loss: 1.5490e-04 - val_loss: 3.1397e-05\n",
      "Epoch 38/100\n",
      "10/10 [==============================] - 0s 19ms/step - loss: 1.2201e-04 - val_loss: 3.1006e-05\n",
      "Epoch 39/100\n",
      "10/10 [==============================] - 0s 20ms/step - loss: 3.5658e-05 - val_loss: 1.6945e-05\n",
      "Epoch 40/100\n",
      "10/10 [==============================] - 0s 17ms/step - loss: 2.6262e-05 - val_loss: 3.9843e-07\n",
      "Epoch 41/100\n",
      "10/10 [==============================] - 0s 17ms/step - loss: 1.5514e-05 - val_loss: 3.5804e-04\n",
      "Epoch 42/100\n",
      "10/10 [==============================] - 0s 19ms/step - loss: 7.0652e-05 - val_loss: 6.4308e-05\n",
      "Epoch 43/100\n",
      "10/10 [==============================] - 0s 20ms/step - loss: 6.8456e-04 - val_loss: 0.0028\n",
      "Epoch 44/100\n",
      "10/10 [==============================] - 0s 18ms/step - loss: 8.9867e-04 - val_loss: 0.0012\n",
      "Epoch 45/100\n",
      "10/10 [==============================] - 0s 20ms/step - loss: 5.3262e-04 - val_loss: 0.0148\n",
      "Epoch 46/100\n",
      "10/10 [==============================] - 0s 20ms/step - loss: 0.0023 - val_loss: 0.0024\n",
      "Epoch 47/100\n",
      "10/10 [==============================] - 0s 19ms/step - loss: 0.0018 - val_loss: 0.0177\n",
      "Epoch 48/100\n",
      "10/10 [==============================] - 0s 20ms/step - loss: 0.0016 - val_loss: 1.9928e-04\n",
      "Epoch 49/100\n",
      "10/10 [==============================] - 0s 19ms/step - loss: 0.0014 - val_loss: 1.5782e-05\n",
      "Epoch 50/100\n",
      "10/10 [==============================] - 0s 17ms/step - loss: 0.0014 - val_loss: 9.8522e-05\n",
      "Epoch 51/100\n",
      "10/10 [==============================] - 0s 17ms/step - loss: 6.8231e-04 - val_loss: 0.0116\n",
      "Epoch 52/100\n",
      "10/10 [==============================] - 0s 17ms/step - loss: 0.0014 - val_loss: 1.7004e-04\n",
      "Epoch 53/100\n",
      "10/10 [==============================] - 0s 20ms/step - loss: 5.4087e-04 - val_loss: 8.2175e-04\n",
      "Epoch 54/100\n",
      "10/10 [==============================] - 0s 17ms/step - loss: 9.8292e-04 - val_loss: 3.8411e-04\n",
      "Epoch 55/100\n",
      "10/10 [==============================] - 0s 19ms/step - loss: 0.0011 - val_loss: 0.0017\n",
      "Epoch 56/100\n",
      "10/10 [==============================] - 0s 17ms/step - loss: 7.3744e-04 - val_loss: 6.7239e-06\n",
      "Epoch 57/100\n",
      "10/10 [==============================] - 0s 17ms/step - loss: 2.2317e-04 - val_loss: 4.9784e-04\n",
      "Epoch 58/100\n",
      "10/10 [==============================] - 0s 19ms/step - loss: 1.2736e-04 - val_loss: 1.8140e-04\n",
      "Epoch 59/100\n",
      "10/10 [==============================] - 0s 19ms/step - loss: 2.0504e-04 - val_loss: 1.8772e-04\n",
      "Epoch 60/100\n",
      "10/10 [==============================] - 0s 19ms/step - loss: 1.2271e-04 - val_loss: 2.2922e-04\n",
      "Epoch 61/100\n",
      "10/10 [==============================] - 0s 17ms/step - loss: 9.4314e-05 - val_loss: 4.2522e-06\n",
      "Epoch 62/100\n",
      "10/10 [==============================] - 0s 17ms/step - loss: 1.2217e-04 - val_loss: 4.9686e-04\n",
      "Epoch 63/100\n",
      "10/10 [==============================] - 0s 17ms/step - loss: 2.6632e-04 - val_loss: 7.8297e-05\n",
      "Epoch 64/100\n",
      "10/10 [==============================] - 0s 22ms/step - loss: 1.5615e-04 - val_loss: 4.1641e-06\n",
      "Epoch 65/100\n",
      "10/10 [==============================] - 0s 17ms/step - loss: 2.5027e-05 - val_loss: 3.5199e-04\n",
      "Epoch 66/100\n",
      "10/10 [==============================] - 0s 20ms/step - loss: 4.5842e-05 - val_loss: 7.6950e-05\n",
      "Epoch 67/100\n",
      "10/10 [==============================] - 0s 18ms/step - loss: 7.6225e-05 - val_loss: 3.2831e-04\n",
      "Epoch 68/100\n",
      "10/10 [==============================] - 0s 19ms/step - loss: 9.5913e-05 - val_loss: 1.4137e-07\n",
      "Epoch 69/100\n",
      "10/10 [==============================] - 0s 19ms/step - loss: 4.9691e-05 - val_loss: 9.9660e-06\n",
      "Epoch 70/100\n",
      "10/10 [==============================] - 0s 17ms/step - loss: 8.7738e-05 - val_loss: 1.4439e-04\n",
      "Epoch 71/100\n",
      "10/10 [==============================] - 0s 19ms/step - loss: 7.4418e-05 - val_loss: 1.9426e-04\n",
      "Epoch 72/100\n",
      "10/10 [==============================] - 0s 16ms/step - loss: 2.7115e-04 - val_loss: 3.4939e-04\n",
      "Epoch 73/100\n",
      "10/10 [==============================] - 0s 17ms/step - loss: 1.9681e-04 - val_loss: 2.5631e-08\n"
     ]
    },
    {
     "name": "stdout",
     "output_type": "stream",
     "text": [
      "Epoch 74/100\n",
      "10/10 [==============================] - 0s 17ms/step - loss: 5.4452e-05 - val_loss: 2.9332e-04\n",
      "Epoch 75/100\n",
      "10/10 [==============================] - 0s 17ms/step - loss: 7.1174e-04 - val_loss: 5.3512e-06\n",
      "Epoch 76/100\n",
      "10/10 [==============================] - 0s 20ms/step - loss: 2.7851e-04 - val_loss: 6.5445e-08\n",
      "Epoch 77/100\n",
      "10/10 [==============================] - 0s 17ms/step - loss: 2.1160e-04 - val_loss: 1.1784e-04\n",
      "Epoch 78/100\n",
      "10/10 [==============================] - 0s 20ms/step - loss: 4.5452e-04 - val_loss: 7.8690e-04\n",
      "Epoch 79/100\n",
      "10/10 [==============================] - 0s 17ms/step - loss: 9.7379e-05 - val_loss: 7.3326e-05\n",
      "Epoch 80/100\n",
      "10/10 [==============================] - 0s 17ms/step - loss: 4.3212e-05 - val_loss: 6.0211e-05\n",
      "Epoch 81/100\n",
      "10/10 [==============================] - 0s 17ms/step - loss: 6.2221e-05 - val_loss: 1.3816e-04\n",
      "Epoch 82/100\n",
      "10/10 [==============================] - 0s 17ms/step - loss: 5.0275e-05 - val_loss: 7.7414e-08\n",
      "Epoch 83/100\n",
      "10/10 [==============================] - 0s 18ms/step - loss: 4.1676e-05 - val_loss: 3.1647e-04\n",
      "Epoch 84/100\n",
      "10/10 [==============================] - 0s 16ms/step - loss: 5.4776e-05 - val_loss: 8.8562e-06\n",
      "Epoch 85/100\n",
      "10/10 [==============================] - 0s 19ms/step - loss: 1.6940e-05 - val_loss: 6.9904e-06\n",
      "Epoch 86/100\n",
      "10/10 [==============================] - 0s 17ms/step - loss: 7.4463e-05 - val_loss: 0.0011\n",
      "Epoch 87/100\n",
      "10/10 [==============================] - 0s 20ms/step - loss: 1.3516e-04 - val_loss: 0.0017\n",
      "Epoch 88/100\n",
      "10/10 [==============================] - 0s 18ms/step - loss: 6.5910e-04 - val_loss: 8.2508e-05\n",
      "Epoch 89/100\n",
      "10/10 [==============================] - 0s 18ms/step - loss: 7.5897e-04 - val_loss: 7.2409e-04\n",
      "Epoch 90/100\n",
      "10/10 [==============================] - 0s 19ms/step - loss: 3.5640e-04 - val_loss: 0.0013\n",
      "Epoch 91/100\n",
      "10/10 [==============================] - 0s 19ms/step - loss: 3.1659e-04 - val_loss: 9.5952e-04\n",
      "Epoch 92/100\n",
      "10/10 [==============================] - 0s 20ms/step - loss: 1.3068e-04 - val_loss: 4.5673e-05\n",
      "Epoch 93/100\n",
      "10/10 [==============================] - 0s 19ms/step - loss: 1.7396e-04 - val_loss: 5.4305e-04\n",
      "Epoch 94/100\n",
      "10/10 [==============================] - 0s 18ms/step - loss: 1.4883e-04 - val_loss: 8.6901e-05\n",
      "Epoch 95/100\n",
      "10/10 [==============================] - 0s 18ms/step - loss: 1.4810e-04 - val_loss: 9.0006e-05\n",
      "Epoch 96/100\n",
      "10/10 [==============================] - 0s 19ms/step - loss: 9.2537e-05 - val_loss: 5.6991e-04\n",
      "Epoch 97/100\n",
      "10/10 [==============================] - 0s 17ms/step - loss: 1.3638e-04 - val_loss: 3.9738e-07\n",
      "Epoch 98/100\n",
      "10/10 [==============================] - 0s 19ms/step - loss: 1.7057e-04 - val_loss: 1.0380e-04\n",
      "Epoch 99/100\n",
      "10/10 [==============================] - 0s 17ms/step - loss: 5.1509e-05 - val_loss: 2.4373e-04\n",
      "Epoch 100/100\n",
      "10/10 [==============================] - 0s 17ms/step - loss: 4.6228e-05 - val_loss: 3.2738e-05\n"
     ]
    },
    {
     "data": {
      "text/plain": [
       "<tensorflow.python.keras.callbacks.History at 0x252100c1788>"
      ]
     },
     "execution_count": 41,
     "metadata": {},
     "output_type": "execute_result"
    }
   ],
   "source": [
    "model.fit_generator(generator,validation_data=validation_gen,epochs=100,steps_per_epoch=10)"
   ]
  },
  {
   "cell_type": "markdown",
   "metadata": {},
   "source": [
    "# Модельдің Жұмысын Тексеру"
   ]
  },
  {
   "cell_type": "code",
   "execution_count": 42,
   "metadata": {},
   "outputs": [
    {
     "data": {
      "text/plain": [
       "<AxesSubplot:title={'center':'Эпоха мен жоғалту қисығының графигі'}>"
      ]
     },
     "execution_count": 42,
     "metadata": {},
     "output_type": "execute_result"
    },
    {
     "data": {
      "image/png": "[encoded data removed]",
      "text/plain": [
       "<Figure size 432x288 with 1 Axes>"
      ]
     },
     "metadata": {
      "needs_background": "light"
     },
     "output_type": "display_data"
    }
   ],
   "source": [
    "pd.DataFrame(model.history.history).plot(title=\"Эпоха мен жоғалту қисығының графигі\")"
   ]
  },
  {
   "cell_type": "code",
   "execution_count": 43,
   "metadata": {},
   "outputs": [
    {
     "data": {
      "text/plain": [
       "dict_keys(['loss', 'val_loss'])"
      ]
     },
     "execution_count": 43,
     "metadata": {},
     "output_type": "execute_result"
    }
   ],
   "source": [
    "model.history.history.keys()"
   ]
  },
  {
   "cell_type": "code",
   "execution_count": 44,
   "metadata": {},
   "outputs": [
    {
     "data": {
      "text/plain": [
       "[<matplotlib.lines.Line2D at 0x252139c5048>]"
      ]
     },
     "execution_count": 44,
     "metadata": {},
     "output_type": "execute_result"
    },
    {
     "data": {
      "image/png": "[encoded data removed]",
      "text/plain": [
       "<Figure size 432x288 with 1 Axes>"
      ]
     },
     "metadata": {
      "needs_background": "light"
     },
     "output_type": "display_data"
    }
   ],
   "source": [
    "myloss = model.history.history[\"val_loss\"]\n",
    "plt.title(\"Эпохада тексерулік жоғалту қисығының графигі\")\n",
    "plt.plot(range(len(myloss)),myloss)"
   ]
  },
  {
   "cell_type": "markdown",
   "metadata": {},
   "source": [
    "# Ауруды болжау"
   ]
  },
  {
   "cell_type": "code",
   "execution_count": 45,
   "metadata": {},
   "outputs": [
    {
     "data": {
      "text/plain": [
       "(1, 5, 1)"
      ]
     },
     "execution_count": 45,
     "metadata": {},
     "output_type": "execute_result"
    }
   ],
   "source": [
    "test_prediction = []\n",
    "first_eval_batch = scaled_train[-n_input:]\n",
    "current_batch = first_eval_batch.reshape(1,n_input,n_features)\n",
    "current_batch.shape"
   ]
  },
  {
   "cell_type": "code",
   "execution_count": 46,
   "metadata": {},
   "outputs": [
    {
     "data": {
      "text/plain": [
       "[array([1.0092775], dtype=float32),\n",
       " array([1.0167706], dtype=float32),\n",
       " array([1.0246234], dtype=float32),\n",
       " array([1.0327464], dtype=float32),\n",
       " array([1.0412021], dtype=float32),\n",
       " array([1.050026], dtype=float32),\n",
       " array([1.0588452], dtype=float32),\n",
       " array([1.0679532], dtype=float32),\n",
       " array([1.0773402], dtype=float32),\n",
       " array([1.0870104], dtype=float32),\n",
       " array([1.0969647], dtype=float32),\n",
       " array([1.1071944], dtype=float32)]"
      ]
     },
     "execution_count": 46,
     "metadata": {},
     "output_type": "execute_result"
    }
   ],
   "source": [
    "for i in range(len(test)+7):\n",
    "    current_pred = model.predict(current_batch)[0]\n",
    "    test_prediction.append(current_pred)\n",
    "    current_batch = np.append(current_batch[:,1:,:],[[current_pred]],axis=1)\n",
    "test_prediction"
   ]
  },
  {
   "cell_type": "markdown",
   "metadata": {},
   "source": [
    "# Шыққан нәтижені қорытындылау және көрсету"
   ]
  },
  {
   "cell_type": "code",
   "execution_count": 47,
   "metadata": {},
   "outputs": [
    {
     "data": {
      "text/plain": [
       "array([233865.69949722, 235601.94956207, 237421.53587341, 239303.74176407,\n",
       "       241263.01365662, 243307.63821793, 245351.1302681 , 247461.57858658,\n",
       "       249636.66290665, 251877.3500061 , 254183.88848495, 256554.23429871])"
      ]
     },
     "execution_count": 47,
     "metadata": {},
     "output_type": "execute_result"
    }
   ],
   "source": [
    "true_prediction = scaler.inverse_transform(test_prediction)\n",
    "true_prediction[:,0]"
   ]
  },
  {
   "cell_type": "code",
   "execution_count": 48,
   "metadata": {},
   "outputs": [
    {
     "data": {
      "text/plain": [
       "DatetimeIndex(['2021-01-29', '2021-01-30', '2021-01-31', '2021-02-01',\n",
       "               '2021-02-02', '2021-02-03', '2021-02-04', '2021-02-05',\n",
       "               '2021-02-06', '2021-02-07', '2021-02-08', '2021-02-09'],\n",
       "              dtype='datetime64[ns]', freq=None)"
      ]
     },
     "execution_count": 48,
     "metadata": {},
     "output_type": "execute_result"
    }
   ],
   "source": [
    "time_series_array = test.index\n",
    "for k in range(0,7):\n",
    "    time_series_array = time_series_array.append(time_series_array[-1:] + pd.DateOffset(1))\n",
    "time_series_array"
   ]
  },
  {
   "cell_type": "code",
   "execution_count": 49,
   "metadata": {},
   "outputs": [
    {
     "data": {
      "text/html": [
       "<div>\n",
       "<style scoped>\n",
       "    .dataframe tbody tr th:only-of-type {\n",
       "        vertical-align: middle;\n",
       "    }\n",
       "\n",
       "    .dataframe tbody tr th {\n",
       "        vertical-align: top;\n",
       "    }\n",
       "\n",
       "    .dataframe thead th {\n",
       "        text-align: right;\n",
       "    }\n",
       "</style>\n",
       "<table border=\"1\" class=\"dataframe\">\n",
       "  <thead>\n",
       "    <tr style=\"text-align: right;\">\n",
       "      <th></th>\n",
       "      <th>Расталған Жағдайлар</th>\n",
       "      <th>Болжамдалған Жағдайлар</th>\n",
       "    </tr>\n",
       "  </thead>\n",
       "  <tbody>\n",
       "    <tr>\n",
       "      <th>2021-01-29</th>\n",
       "      <td>NaN</td>\n",
       "      <td>NaN</td>\n",
       "    </tr>\n",
       "    <tr>\n",
       "      <th>2021-01-30</th>\n",
       "      <td>NaN</td>\n",
       "      <td>NaN</td>\n",
       "    </tr>\n",
       "    <tr>\n",
       "      <th>2021-01-31</th>\n",
       "      <td>NaN</td>\n",
       "      <td>NaN</td>\n",
       "    </tr>\n",
       "    <tr>\n",
       "      <th>2021-02-01</th>\n",
       "      <td>NaN</td>\n",
       "      <td>NaN</td>\n",
       "    </tr>\n",
       "    <tr>\n",
       "      <th>2021-02-02</th>\n",
       "      <td>NaN</td>\n",
       "      <td>NaN</td>\n",
       "    </tr>\n",
       "    <tr>\n",
       "      <th>2021-02-03</th>\n",
       "      <td>NaN</td>\n",
       "      <td>NaN</td>\n",
       "    </tr>\n",
       "    <tr>\n",
       "      <th>2021-02-04</th>\n",
       "      <td>NaN</td>\n",
       "      <td>NaN</td>\n",
       "    </tr>\n",
       "    <tr>\n",
       "      <th>2021-02-05</th>\n",
       "      <td>NaN</td>\n",
       "      <td>NaN</td>\n",
       "    </tr>\n",
       "    <tr>\n",
       "      <th>2021-02-06</th>\n",
       "      <td>NaN</td>\n",
       "      <td>NaN</td>\n",
       "    </tr>\n",
       "    <tr>\n",
       "      <th>2021-02-07</th>\n",
       "      <td>NaN</td>\n",
       "      <td>NaN</td>\n",
       "    </tr>\n",
       "    <tr>\n",
       "      <th>2021-02-08</th>\n",
       "      <td>NaN</td>\n",
       "      <td>NaN</td>\n",
       "    </tr>\n",
       "    <tr>\n",
       "      <th>2021-02-09</th>\n",
       "      <td>NaN</td>\n",
       "      <td>NaN</td>\n",
       "    </tr>\n",
       "  </tbody>\n",
       "</table>\n",
       "</div>"
      ],
      "text/plain": [
       "           Расталған Жағдайлар Болжамдалған Жағдайлар\n",
       "2021-01-29                 NaN                    NaN\n",
       "2021-01-30                 NaN                    NaN\n",
       "2021-01-31                 NaN                    NaN\n",
       "2021-02-01                 NaN                    NaN\n",
       "2021-02-02                 NaN                    NaN\n",
       "2021-02-03                 NaN                    NaN\n",
       "2021-02-04                 NaN                    NaN\n",
       "2021-02-05                 NaN                    NaN\n",
       "2021-02-06                 NaN                    NaN\n",
       "2021-02-07                 NaN                    NaN\n",
       "2021-02-08                 NaN                    NaN\n",
       "2021-02-09                 NaN                    NaN"
      ]
     },
     "execution_count": 49,
     "metadata": {},
     "output_type": "execute_result"
    }
   ],
   "source": [
    "df_forecast = pd.DataFrame(columns=[\"Расталған Жағдайлар\",\"Болжамдалған Жағдайлар\"],index=time_series_array)\n",
    "df_forecast"
   ]
  },
  {
   "cell_type": "code",
   "execution_count": 50,
   "metadata": {},
   "outputs": [
    {
     "data": {
      "text/html": [
       "<div>\n",
       "<style scoped>\n",
       "    .dataframe tbody tr th:only-of-type {\n",
       "        vertical-align: middle;\n",
       "    }\n",
       "\n",
       "    .dataframe tbody tr th {\n",
       "        vertical-align: top;\n",
       "    }\n",
       "\n",
       "    .dataframe thead th {\n",
       "        text-align: right;\n",
       "    }\n",
       "</style>\n",
       "<table border=\"1\" class=\"dataframe\">\n",
       "  <thead>\n",
       "    <tr style=\"text-align: right;\">\n",
       "      <th></th>\n",
       "      <th>Расталған Жағдайлар</th>\n",
       "      <th>Болжамдалған Жағдайлар</th>\n",
       "    </tr>\n",
       "  </thead>\n",
       "  <tbody>\n",
       "    <tr>\n",
       "      <th>2021-01-29</th>\n",
       "      <td>233156.0</td>\n",
       "      <td>233865.699497</td>\n",
       "    </tr>\n",
       "    <tr>\n",
       "      <th>2021-01-30</th>\n",
       "      <td>234569.0</td>\n",
       "      <td>235601.949562</td>\n",
       "    </tr>\n",
       "    <tr>\n",
       "      <th>2021-01-31</th>\n",
       "      <td>235844.0</td>\n",
       "      <td>237421.535873</td>\n",
       "    </tr>\n",
       "    <tr>\n",
       "      <th>2021-02-01</th>\n",
       "      <td>237029.0</td>\n",
       "      <td>239303.741764</td>\n",
       "    </tr>\n",
       "    <tr>\n",
       "      <th>2021-02-02</th>\n",
       "      <td>238364.0</td>\n",
       "      <td>241263.013657</td>\n",
       "    </tr>\n",
       "    <tr>\n",
       "      <th>2021-02-03</th>\n",
       "      <td>NaN</td>\n",
       "      <td>243307.638218</td>\n",
       "    </tr>\n",
       "    <tr>\n",
       "      <th>2021-02-04</th>\n",
       "      <td>NaN</td>\n",
       "      <td>245351.130268</td>\n",
       "    </tr>\n",
       "    <tr>\n",
       "      <th>2021-02-05</th>\n",
       "      <td>NaN</td>\n",
       "      <td>247461.578587</td>\n",
       "    </tr>\n",
       "    <tr>\n",
       "      <th>2021-02-06</th>\n",
       "      <td>NaN</td>\n",
       "      <td>249636.662907</td>\n",
       "    </tr>\n",
       "    <tr>\n",
       "      <th>2021-02-07</th>\n",
       "      <td>NaN</td>\n",
       "      <td>251877.350006</td>\n",
       "    </tr>\n",
       "    <tr>\n",
       "      <th>2021-02-08</th>\n",
       "      <td>NaN</td>\n",
       "      <td>254183.888485</td>\n",
       "    </tr>\n",
       "    <tr>\n",
       "      <th>2021-02-09</th>\n",
       "      <td>NaN</td>\n",
       "      <td>256554.234299</td>\n",
       "    </tr>\n",
       "  </tbody>\n",
       "</table>\n",
       "</div>"
      ],
      "text/plain": [
       "            Расталған Жағдайлар  Болжамдалған Жағдайлар\n",
       "2021-01-29             233156.0           233865.699497\n",
       "2021-01-30             234569.0           235601.949562\n",
       "2021-01-31             235844.0           237421.535873\n",
       "2021-02-01             237029.0           239303.741764\n",
       "2021-02-02             238364.0           241263.013657\n",
       "2021-02-03                  NaN           243307.638218\n",
       "2021-02-04                  NaN           245351.130268\n",
       "2021-02-05                  NaN           247461.578587\n",
       "2021-02-06                  NaN           249636.662907\n",
       "2021-02-07                  NaN           251877.350006\n",
       "2021-02-08                  NaN           254183.888485\n",
       "2021-02-09                  NaN           256554.234299"
      ]
     },
     "execution_count": 50,
     "metadata": {},
     "output_type": "execute_result"
    }
   ],
   "source": [
    "df_forecast.loc[:,\"Болжамдалған Жағдайлар\"] = true_prediction[:,0]\n",
    "df_forecast.loc[:,\"Расталған Жағдайлар\"] = test[\"Расталған Жағдайлар\"]\n",
    "df_forecast"
   ]
  },
  {
   "cell_type": "code",
   "execution_count": 51,
   "metadata": {},
   "outputs": [
    {
     "data": {
      "text/plain": [
       "<AxesSubplot:title={'center':'Қазақстан алдағы 7 күнге арналған болжамдар'}>"
      ]
     },
     "execution_count": 51,
     "metadata": {},
     "output_type": "execute_result"
    },
    {
     "data": {
      "image/png": "[encoded data removed]",
      "text/plain": [
       "<Figure size 432x288 with 1 Axes>"
      ]
     },
     "metadata": {
      "needs_background": "light"
     },
     "output_type": "display_data"
    }
   ],
   "source": [
    "df_forecast.plot(title=\"Қазақстан алдағы 7 күнге арналған болжамдар\")"
   ]
  },
  {
   "cell_type": "markdown",
   "metadata": {},
   "source": [
    "# MAPE- статистикадағы болжау әдісін болжау дәлдігінің өлшемі"
   ]
  },
  {
   "cell_type": "code",
   "execution_count": 52,
   "metadata": {},
   "outputs": [
    {
     "name": "stdout",
     "output_type": "stream",
     "text": [
      "MAPE is 0.717908110988875 %\n"
     ]
    }
   ],
   "source": [
    "MAPE = np.mean(np.abs(np.array(df_forecast[\"Расталған Жағдайлар\"][:5]) - np.array(df_forecast[\"Болжамдалған Жағдайлар\"][:5]))/np.array(df_forecast[\"Расталған Жағдайлар\"][:5]))\n",
    "print(\"MAPE is \" + str(MAPE*100) + \" %\")"
   ]
  },
  {
   "cell_type": "markdown",
   "metadata": {},
   "source": [
    "# MSE"
   ]
  },
  {
   "cell_type": "code",
   "execution_count": 53,
   "metadata": {},
   "outputs": [
    {
     "data": {
      "text/plain": [
       "17638007.880495157"
      ]
     },
     "execution_count": 53,
     "metadata": {},
     "output_type": "execute_result"
    }
   ],
   "source": [
    "sum_errs = np.sum((np.array(df_forecast[\"Расталған Жағдайлар\"][:5]) - np.array(df_forecast[\"Болжамдалған Жағдайлар\"][:5]))**2)\n",
    "sum_errs"
   ]
  },
  {
   "cell_type": "code",
   "execution_count": 54,
   "metadata": {},
   "outputs": [
    {
     "data": {
      "text/plain": [
       "2424.7342040242374"
      ]
     },
     "execution_count": 54,
     "metadata": {},
     "output_type": "execute_result"
    }
   ],
   "source": [
    "stdev = np.sqrt(1/(5-2) * sum_errs)\n",
    "stdev"
   ]
  },
  {
   "cell_type": "code",
   "execution_count": 55,
   "metadata": {},
   "outputs": [
    {
     "data": {
      "text/plain": [
       "4752.479039887506"
      ]
     },
     "execution_count": 55,
     "metadata": {},
     "output_type": "execute_result"
    }
   ],
   "source": [
    "interval = 1.96 * stdev\n",
    "interval"
   ]
  },
  {
   "cell_type": "code",
   "execution_count": 56,
   "metadata": {},
   "outputs": [
    {
     "data": {
      "text/html": [
       "<div>\n",
       "<style scoped>\n",
       "    .dataframe tbody tr th:only-of-type {\n",
       "        vertical-align: middle;\n",
       "    }\n",
       "\n",
       "    .dataframe tbody tr th {\n",
       "        vertical-align: top;\n",
       "    }\n",
       "\n",
       "    .dataframe thead th {\n",
       "        text-align: right;\n",
       "    }\n",
       "</style>\n",
       "<table border=\"1\" class=\"dataframe\">\n",
       "  <thead>\n",
       "    <tr style=\"text-align: right;\">\n",
       "      <th></th>\n",
       "      <th>Расталған Жағдайлар</th>\n",
       "      <th>Болжамдалған Жағдайлар</th>\n",
       "      <th>Жағдайлар минималды</th>\n",
       "      <th>Жағдайлар максималды</th>\n",
       "    </tr>\n",
       "  </thead>\n",
       "  <tbody>\n",
       "    <tr>\n",
       "      <th>2021-01-29</th>\n",
       "      <td>233156.0</td>\n",
       "      <td>233865.699497</td>\n",
       "      <td>229113.220457</td>\n",
       "      <td>238618.178537</td>\n",
       "    </tr>\n",
       "    <tr>\n",
       "      <th>2021-01-30</th>\n",
       "      <td>234569.0</td>\n",
       "      <td>235601.949562</td>\n",
       "      <td>230849.470522</td>\n",
       "      <td>240354.428602</td>\n",
       "    </tr>\n",
       "    <tr>\n",
       "      <th>2021-01-31</th>\n",
       "      <td>235844.0</td>\n",
       "      <td>237421.535873</td>\n",
       "      <td>232669.056834</td>\n",
       "      <td>242174.014913</td>\n",
       "    </tr>\n",
       "    <tr>\n",
       "      <th>2021-02-01</th>\n",
       "      <td>237029.0</td>\n",
       "      <td>239303.741764</td>\n",
       "      <td>234551.262724</td>\n",
       "      <td>244056.220804</td>\n",
       "    </tr>\n",
       "    <tr>\n",
       "      <th>2021-02-02</th>\n",
       "      <td>238364.0</td>\n",
       "      <td>241263.013657</td>\n",
       "      <td>236510.534617</td>\n",
       "      <td>246015.492697</td>\n",
       "    </tr>\n",
       "    <tr>\n",
       "      <th>2021-02-03</th>\n",
       "      <td>NaN</td>\n",
       "      <td>243307.638218</td>\n",
       "      <td>238555.159178</td>\n",
       "      <td>248060.117258</td>\n",
       "    </tr>\n",
       "    <tr>\n",
       "      <th>2021-02-04</th>\n",
       "      <td>NaN</td>\n",
       "      <td>245351.130268</td>\n",
       "      <td>240598.651228</td>\n",
       "      <td>250103.609308</td>\n",
       "    </tr>\n",
       "    <tr>\n",
       "      <th>2021-02-05</th>\n",
       "      <td>NaN</td>\n",
       "      <td>247461.578587</td>\n",
       "      <td>242709.099547</td>\n",
       "      <td>252214.057626</td>\n",
       "    </tr>\n",
       "    <tr>\n",
       "      <th>2021-02-06</th>\n",
       "      <td>NaN</td>\n",
       "      <td>249636.662907</td>\n",
       "      <td>244884.183867</td>\n",
       "      <td>254389.141947</td>\n",
       "    </tr>\n",
       "    <tr>\n",
       "      <th>2021-02-07</th>\n",
       "      <td>NaN</td>\n",
       "      <td>251877.350006</td>\n",
       "      <td>247124.870966</td>\n",
       "      <td>256629.829046</td>\n",
       "    </tr>\n",
       "    <tr>\n",
       "      <th>2021-02-08</th>\n",
       "      <td>NaN</td>\n",
       "      <td>254183.888485</td>\n",
       "      <td>249431.409445</td>\n",
       "      <td>258936.367525</td>\n",
       "    </tr>\n",
       "    <tr>\n",
       "      <th>2021-02-09</th>\n",
       "      <td>NaN</td>\n",
       "      <td>256554.234299</td>\n",
       "      <td>251801.755259</td>\n",
       "      <td>261306.713339</td>\n",
       "    </tr>\n",
       "  </tbody>\n",
       "</table>\n",
       "</div>"
      ],
      "text/plain": [
       "            Расталған Жағдайлар  Болжамдалған Жағдайлар  Жағдайлар минималды  \\\n",
       "2021-01-29             233156.0           233865.699497        229113.220457   \n",
       "2021-01-30             234569.0           235601.949562        230849.470522   \n",
       "2021-01-31             235844.0           237421.535873        232669.056834   \n",
       "2021-02-01             237029.0           239303.741764        234551.262724   \n",
       "2021-02-02             238364.0           241263.013657        236510.534617   \n",
       "2021-02-03                  NaN           243307.638218        238555.159178   \n",
       "2021-02-04                  NaN           245351.130268        240598.651228   \n",
       "2021-02-05                  NaN           247461.578587        242709.099547   \n",
       "2021-02-06                  NaN           249636.662907        244884.183867   \n",
       "2021-02-07                  NaN           251877.350006        247124.870966   \n",
       "2021-02-08                  NaN           254183.888485        249431.409445   \n",
       "2021-02-09                  NaN           256554.234299        251801.755259   \n",
       "\n",
       "            Жағдайлар максималды  \n",
       "2021-01-29         238618.178537  \n",
       "2021-01-30         240354.428602  \n",
       "2021-01-31         242174.014913  \n",
       "2021-02-01         244056.220804  \n",
       "2021-02-02         246015.492697  \n",
       "2021-02-03         248060.117258  \n",
       "2021-02-04         250103.609308  \n",
       "2021-02-05         252214.057626  \n",
       "2021-02-06         254389.141947  \n",
       "2021-02-07         256629.829046  \n",
       "2021-02-08         258936.367525  \n",
       "2021-02-09         261306.713339  "
      ]
     },
     "execution_count": 56,
     "metadata": {},
     "output_type": "execute_result"
    }
   ],
   "source": [
    "df_forecast[\"Жағдайлар минималды\"] = df_forecast[\"Болжамдалған Жағдайлар\"] - interval\n",
    "df_forecast[\"Жағдайлар максималды\"] = df_forecast[\"Болжамдалған Жағдайлар\"] + interval\n",
    "df_forecast"
   ]
  },
  {
   "cell_type": "code",
   "execution_count": 57,
   "metadata": {},
   "outputs": [
    {
     "data": {
      "text/html": [
       "<div>\n",
       "<style scoped>\n",
       "    .dataframe tbody tr th:only-of-type {\n",
       "        vertical-align: middle;\n",
       "    }\n",
       "\n",
       "    .dataframe tbody tr th {\n",
       "        vertical-align: top;\n",
       "    }\n",
       "\n",
       "    .dataframe thead th {\n",
       "        text-align: right;\n",
       "    }\n",
       "</style>\n",
       "<table border=\"1\" class=\"dataframe\">\n",
       "  <thead>\n",
       "    <tr style=\"text-align: right;\">\n",
       "      <th></th>\n",
       "      <th>Расталған Жағдайлар</th>\n",
       "      <th>Болжамдалған Жағдайлар</th>\n",
       "      <th>Жағдайлар минималды</th>\n",
       "      <th>Жағдайлар максималды</th>\n",
       "      <th>Модель дәлдігі</th>\n",
       "    </tr>\n",
       "  </thead>\n",
       "  <tbody>\n",
       "    <tr>\n",
       "      <th>2021-01-29</th>\n",
       "      <td>233156.0</td>\n",
       "      <td>233865.699497</td>\n",
       "      <td>229113.220457</td>\n",
       "      <td>238618.178537</td>\n",
       "      <td>99.28</td>\n",
       "    </tr>\n",
       "    <tr>\n",
       "      <th>2021-01-30</th>\n",
       "      <td>234569.0</td>\n",
       "      <td>235601.949562</td>\n",
       "      <td>230849.470522</td>\n",
       "      <td>240354.428602</td>\n",
       "      <td>99.28</td>\n",
       "    </tr>\n",
       "    <tr>\n",
       "      <th>2021-01-31</th>\n",
       "      <td>235844.0</td>\n",
       "      <td>237421.535873</td>\n",
       "      <td>232669.056834</td>\n",
       "      <td>242174.014913</td>\n",
       "      <td>99.28</td>\n",
       "    </tr>\n",
       "    <tr>\n",
       "      <th>2021-02-01</th>\n",
       "      <td>237029.0</td>\n",
       "      <td>239303.741764</td>\n",
       "      <td>234551.262724</td>\n",
       "      <td>244056.220804</td>\n",
       "      <td>99.28</td>\n",
       "    </tr>\n",
       "    <tr>\n",
       "      <th>2021-02-02</th>\n",
       "      <td>238364.0</td>\n",
       "      <td>241263.013657</td>\n",
       "      <td>236510.534617</td>\n",
       "      <td>246015.492697</td>\n",
       "      <td>99.28</td>\n",
       "    </tr>\n",
       "    <tr>\n",
       "      <th>2021-02-03</th>\n",
       "      <td>NaN</td>\n",
       "      <td>243307.638218</td>\n",
       "      <td>238555.159178</td>\n",
       "      <td>248060.117258</td>\n",
       "      <td>99.28</td>\n",
       "    </tr>\n",
       "    <tr>\n",
       "      <th>2021-02-04</th>\n",
       "      <td>NaN</td>\n",
       "      <td>245351.130268</td>\n",
       "      <td>240598.651228</td>\n",
       "      <td>250103.609308</td>\n",
       "      <td>99.28</td>\n",
       "    </tr>\n",
       "    <tr>\n",
       "      <th>2021-02-05</th>\n",
       "      <td>NaN</td>\n",
       "      <td>247461.578587</td>\n",
       "      <td>242709.099547</td>\n",
       "      <td>252214.057626</td>\n",
       "      <td>99.28</td>\n",
       "    </tr>\n",
       "    <tr>\n",
       "      <th>2021-02-06</th>\n",
       "      <td>NaN</td>\n",
       "      <td>249636.662907</td>\n",
       "      <td>244884.183867</td>\n",
       "      <td>254389.141947</td>\n",
       "      <td>99.28</td>\n",
       "    </tr>\n",
       "    <tr>\n",
       "      <th>2021-02-07</th>\n",
       "      <td>NaN</td>\n",
       "      <td>251877.350006</td>\n",
       "      <td>247124.870966</td>\n",
       "      <td>256629.829046</td>\n",
       "      <td>99.28</td>\n",
       "    </tr>\n",
       "    <tr>\n",
       "      <th>2021-02-08</th>\n",
       "      <td>NaN</td>\n",
       "      <td>254183.888485</td>\n",
       "      <td>249431.409445</td>\n",
       "      <td>258936.367525</td>\n",
       "      <td>99.28</td>\n",
       "    </tr>\n",
       "    <tr>\n",
       "      <th>2021-02-09</th>\n",
       "      <td>NaN</td>\n",
       "      <td>256554.234299</td>\n",
       "      <td>251801.755259</td>\n",
       "      <td>261306.713339</td>\n",
       "      <td>99.28</td>\n",
       "    </tr>\n",
       "  </tbody>\n",
       "</table>\n",
       "</div>"
      ],
      "text/plain": [
       "            Расталған Жағдайлар  Болжамдалған Жағдайлар  Жағдайлар минималды  \\\n",
       "2021-01-29             233156.0           233865.699497        229113.220457   \n",
       "2021-01-30             234569.0           235601.949562        230849.470522   \n",
       "2021-01-31             235844.0           237421.535873        232669.056834   \n",
       "2021-02-01             237029.0           239303.741764        234551.262724   \n",
       "2021-02-02             238364.0           241263.013657        236510.534617   \n",
       "2021-02-03                  NaN           243307.638218        238555.159178   \n",
       "2021-02-04                  NaN           245351.130268        240598.651228   \n",
       "2021-02-05                  NaN           247461.578587        242709.099547   \n",
       "2021-02-06                  NaN           249636.662907        244884.183867   \n",
       "2021-02-07                  NaN           251877.350006        247124.870966   \n",
       "2021-02-08                  NaN           254183.888485        249431.409445   \n",
       "2021-02-09                  NaN           256554.234299        251801.755259   \n",
       "\n",
       "            Жағдайлар максималды  Модель дәлдігі  \n",
       "2021-01-29         238618.178537           99.28  \n",
       "2021-01-30         240354.428602           99.28  \n",
       "2021-01-31         242174.014913           99.28  \n",
       "2021-02-01         244056.220804           99.28  \n",
       "2021-02-02         246015.492697           99.28  \n",
       "2021-02-03         248060.117258           99.28  \n",
       "2021-02-04         250103.609308           99.28  \n",
       "2021-02-05         252214.057626           99.28  \n",
       "2021-02-06         254389.141947           99.28  \n",
       "2021-02-07         256629.829046           99.28  \n",
       "2021-02-08         258936.367525           99.28  \n",
       "2021-02-09         261306.713339           99.28  "
      ]
     },
     "execution_count": 57,
     "metadata": {},
     "output_type": "execute_result"
    }
   ],
   "source": [
    "df_forecast[\"Модель дәлдігі\"] = round((float(1-MAPE)*100),2)\n",
    "df_forecast"
   ]
  },
  {
   "cell_type": "markdown",
   "metadata": {},
   "source": [
    "# Шығу кестесі және графигі"
   ]
  },
  {
   "cell_type": "code",
   "execution_count": 58,
   "metadata": {},
   "outputs": [
    {
     "data": {
      "text/html": [
       "<div>\n",
       "<style scoped>\n",
       "    .dataframe tbody tr th:only-of-type {\n",
       "        vertical-align: middle;\n",
       "    }\n",
       "\n",
       "    .dataframe tbody tr th {\n",
       "        vertical-align: top;\n",
       "    }\n",
       "\n",
       "    .dataframe thead th {\n",
       "        text-align: right;\n",
       "    }\n",
       "</style>\n",
       "<table border=\"1\" class=\"dataframe\">\n",
       "  <thead>\n",
       "    <tr style=\"text-align: right;\">\n",
       "      <th></th>\n",
       "      <th>Расталған Жағдайлар</th>\n",
       "      <th>Болжамдалған Жағдайлар</th>\n",
       "      <th>Жағдайлар минималды</th>\n",
       "      <th>Жағдайлар максималды</th>\n",
       "      <th>Модель дәлдігі</th>\n",
       "      <th>Мемлекет</th>\n",
       "      <th>Орындау күні</th>\n",
       "    </tr>\n",
       "  </thead>\n",
       "  <tbody>\n",
       "    <tr>\n",
       "      <th>2021-01-29</th>\n",
       "      <td>233156.0</td>\n",
       "      <td>233865.699497</td>\n",
       "      <td>229113.220457</td>\n",
       "      <td>238618.178537</td>\n",
       "      <td>99.28</td>\n",
       "      <td>Kazakhstan</td>\n",
       "      <td>2021-02-03</td>\n",
       "    </tr>\n",
       "    <tr>\n",
       "      <th>2021-01-30</th>\n",
       "      <td>234569.0</td>\n",
       "      <td>235601.949562</td>\n",
       "      <td>230849.470522</td>\n",
       "      <td>240354.428602</td>\n",
       "      <td>99.28</td>\n",
       "      <td>Kazakhstan</td>\n",
       "      <td>2021-02-03</td>\n",
       "    </tr>\n",
       "    <tr>\n",
       "      <th>2021-01-31</th>\n",
       "      <td>235844.0</td>\n",
       "      <td>237421.535873</td>\n",
       "      <td>232669.056834</td>\n",
       "      <td>242174.014913</td>\n",
       "      <td>99.28</td>\n",
       "      <td>Kazakhstan</td>\n",
       "      <td>2021-02-03</td>\n",
       "    </tr>\n",
       "    <tr>\n",
       "      <th>2021-02-01</th>\n",
       "      <td>237029.0</td>\n",
       "      <td>239303.741764</td>\n",
       "      <td>234551.262724</td>\n",
       "      <td>244056.220804</td>\n",
       "      <td>99.28</td>\n",
       "      <td>Kazakhstan</td>\n",
       "      <td>2021-02-03</td>\n",
       "    </tr>\n",
       "    <tr>\n",
       "      <th>2021-02-02</th>\n",
       "      <td>238364.0</td>\n",
       "      <td>241263.013657</td>\n",
       "      <td>236510.534617</td>\n",
       "      <td>246015.492697</td>\n",
       "      <td>99.28</td>\n",
       "      <td>Kazakhstan</td>\n",
       "      <td>2021-02-03</td>\n",
       "    </tr>\n",
       "    <tr>\n",
       "      <th>2021-02-03</th>\n",
       "      <td>NaN</td>\n",
       "      <td>243307.638218</td>\n",
       "      <td>238555.159178</td>\n",
       "      <td>248060.117258</td>\n",
       "      <td>99.28</td>\n",
       "      <td>Kazakhstan</td>\n",
       "      <td>2021-02-03</td>\n",
       "    </tr>\n",
       "    <tr>\n",
       "      <th>2021-02-04</th>\n",
       "      <td>NaN</td>\n",
       "      <td>245351.130268</td>\n",
       "      <td>240598.651228</td>\n",
       "      <td>250103.609308</td>\n",
       "      <td>99.28</td>\n",
       "      <td>Kazakhstan</td>\n",
       "      <td>2021-02-03</td>\n",
       "    </tr>\n",
       "    <tr>\n",
       "      <th>2021-02-05</th>\n",
       "      <td>NaN</td>\n",
       "      <td>247461.578587</td>\n",
       "      <td>242709.099547</td>\n",
       "      <td>252214.057626</td>\n",
       "      <td>99.28</td>\n",
       "      <td>Kazakhstan</td>\n",
       "      <td>2021-02-03</td>\n",
       "    </tr>\n",
       "    <tr>\n",
       "      <th>2021-02-06</th>\n",
       "      <td>NaN</td>\n",
       "      <td>249636.662907</td>\n",
       "      <td>244884.183867</td>\n",
       "      <td>254389.141947</td>\n",
       "      <td>99.28</td>\n",
       "      <td>Kazakhstan</td>\n",
       "      <td>2021-02-03</td>\n",
       "    </tr>\n",
       "    <tr>\n",
       "      <th>2021-02-07</th>\n",
       "      <td>NaN</td>\n",
       "      <td>251877.350006</td>\n",
       "      <td>247124.870966</td>\n",
       "      <td>256629.829046</td>\n",
       "      <td>99.28</td>\n",
       "      <td>Kazakhstan</td>\n",
       "      <td>2021-02-03</td>\n",
       "    </tr>\n",
       "    <tr>\n",
       "      <th>2021-02-08</th>\n",
       "      <td>NaN</td>\n",
       "      <td>254183.888485</td>\n",
       "      <td>249431.409445</td>\n",
       "      <td>258936.367525</td>\n",
       "      <td>99.28</td>\n",
       "      <td>Kazakhstan</td>\n",
       "      <td>2021-02-03</td>\n",
       "    </tr>\n",
       "    <tr>\n",
       "      <th>2021-02-09</th>\n",
       "      <td>NaN</td>\n",
       "      <td>256554.234299</td>\n",
       "      <td>251801.755259</td>\n",
       "      <td>261306.713339</td>\n",
       "      <td>99.28</td>\n",
       "      <td>Kazakhstan</td>\n",
       "      <td>2021-02-03</td>\n",
       "    </tr>\n",
       "  </tbody>\n",
       "</table>\n",
       "</div>"
      ],
      "text/plain": [
       "            Расталған Жағдайлар  Болжамдалған Жағдайлар  Жағдайлар минималды  \\\n",
       "2021-01-29             233156.0           233865.699497        229113.220457   \n",
       "2021-01-30             234569.0           235601.949562        230849.470522   \n",
       "2021-01-31             235844.0           237421.535873        232669.056834   \n",
       "2021-02-01             237029.0           239303.741764        234551.262724   \n",
       "2021-02-02             238364.0           241263.013657        236510.534617   \n",
       "2021-02-03                  NaN           243307.638218        238555.159178   \n",
       "2021-02-04                  NaN           245351.130268        240598.651228   \n",
       "2021-02-05                  NaN           247461.578587        242709.099547   \n",
       "2021-02-06                  NaN           249636.662907        244884.183867   \n",
       "2021-02-07                  NaN           251877.350006        247124.870966   \n",
       "2021-02-08                  NaN           254183.888485        249431.409445   \n",
       "2021-02-09                  NaN           256554.234299        251801.755259   \n",
       "\n",
       "            Жағдайлар максималды  Модель дәлдігі    Мемлекет Орындау күні  \n",
       "2021-01-29         238618.178537           99.28  Kazakhstan   2021-02-03  \n",
       "2021-01-30         240354.428602           99.28  Kazakhstan   2021-02-03  \n",
       "2021-01-31         242174.014913           99.28  Kazakhstan   2021-02-03  \n",
       "2021-02-01         244056.220804           99.28  Kazakhstan   2021-02-03  \n",
       "2021-02-02         246015.492697           99.28  Kazakhstan   2021-02-03  \n",
       "2021-02-03         248060.117258           99.28  Kazakhstan   2021-02-03  \n",
       "2021-02-04         250103.609308           99.28  Kazakhstan   2021-02-03  \n",
       "2021-02-05         252214.057626           99.28  Kazakhstan   2021-02-03  \n",
       "2021-02-06         254389.141947           99.28  Kazakhstan   2021-02-03  \n",
       "2021-02-07         256629.829046           99.28  Kazakhstan   2021-02-03  \n",
       "2021-02-08         258936.367525           99.28  Kazakhstan   2021-02-03  \n",
       "2021-02-09         261306.713339           99.28  Kazakhstan   2021-02-03  "
      ]
     },
     "execution_count": 58,
     "metadata": {},
     "output_type": "execute_result"
    }
   ],
   "source": [
    "from datetime import datetime\n",
    "df_forecast[\"Мемлекет\"] = country\n",
    "df_forecast[\"Орындау күні\"] = str(datetime.now()).split()[0]\n",
    "df_forecast"
   ]
  },
  {
   "cell_type": "code",
   "execution_count": 59,
   "metadata": {},
   "outputs": [
    {
     "data": {
      "text/plain": [
       "<AxesSubplot:>"
      ]
     },
     "execution_count": 59,
     "metadata": {},
     "output_type": "execute_result"
    },
    {
     "data": {
      "image/png": "[encoded data removed]",
      "text/plain": [
       "<Figure size 432x288 with 1 Axes>"
      ]
     },
     "metadata": {
      "needs_background": "light"
     },
     "output_type": "display_data"
    }
   ],
   "source": [
    "df_forecast.iloc[:,:4].plot()"
   ]
  },
  {
   "cell_type": "code",
   "execution_count": 60,
   "metadata": {},
   "outputs": [
    {
     "data": {
      "image/png": "[encoded data removed]",
      "text/plain": [
       "<Figure size 720x360 with 1 Axes>"
      ]
     },
     "metadata": {
      "needs_background": "light"
     },
     "output_type": "display_data"
    }
   ],
   "source": [
    "fig= plt.figure(figsize=(10,5))\n",
    "plt.title(\"{} - Нәтижесі\".format(\"Қазақстан\"))\n",
    "plt.plot(df_forecast.index,df_forecast[\"Расталған Жағдайлар\"],label=\"Расталған Жағдайлар\")\n",
    "plt.plot(df_forecast.index,df_forecast[\"Болжамдалған Жағдайлар\"],label=\"Болжамдалған Жағдайлар\")\n",
    "plt.fill_between(df_forecast.index,df_forecast[\"Жағдайлар минималды\"],df_forecast[\"Жағдайлар максималды\"],color=\"indigo\",alpha=0.09,label=\"Сенімділік аралығы\")\n",
    "plt.legend()\n",
    "plt.show()"
   ]
  },
  {
   "cell_type": "code",
   "execution_count": null,
   "metadata": {},
   "outputs": [],
   "source": []
  },
  {
   "cell_type": "code",
   "execution_count": null,
   "metadata": {},
   "outputs": [],
   "source": []
  },
  {
   "cell_type": "code",
   "execution_count": null,
   "metadata": {},
   "outputs": [],
   "source": []
  }
 ],
 "metadata": {
  "kernelspec": {
   "display_name": "Python 3",
   "language": "python",
   "name": "python3"
  },
  "language_info": {
   "codemirror_mode": {
    "name": "ipython",
    "version": 3
   },
   "file_extension": ".py",
   "mimetype": "text/x-python",
   "name": "python",
   "nbconvert_exporter": "python",
   "pygments_lexer": "ipython3",
   "version": "3.7.7"
  },
  "toc": {
   "base_numbering": 1,
   "nav_menu": {},
   "number_sections": true,
   "sideBar": true,
   "skip_h1_title": false,
   "title_cell": "Table of Contents",
   "title_sidebar": "Contents",
   "toc_cell": false,
   "toc_position": {},
   "toc_section_display": true,
   "toc_window_display": false
  }
 },
 "nbformat": 4,
 "nbformat_minor": 2
}
